{
 "cells": [
  {
   "cell_type": "code",
   "execution_count": 138,
   "id": "1876d245",
   "metadata": {},
   "outputs": [],
   "source": [
    "import pandas as pd"
   ]
  },
  {
   "cell_type": "code",
   "execution_count": 139,
   "id": "c73942ac",
   "metadata": {},
   "outputs": [],
   "source": [
    "#trace = pd.HDFStore(\"test_profile_output-0.prof.h5\") \n",
    "trace = pd.HDFStore(\"dpotrf-0.prof.h5\")"
   ]
  },
  {
   "cell_type": "code",
   "execution_count": 140,
   "id": "d7061ad7",
   "metadata": {},
   "outputs": [
    {
     "data": {
      "text/plain": [
       "['/errors',\n",
       " '/event_attributes',\n",
       " '/event_convertors',\n",
       " '/event_names',\n",
       " '/event_types',\n",
       " '/events',\n",
       " '/information',\n",
       " '/nodes',\n",
       " '/streams']"
      ]
     },
     "execution_count": 140,
     "metadata": {},
     "output_type": "execute_result"
    }
   ],
   "source": [
    "trace.keys() "
   ]
  },
  {
   "cell_type": "code",
   "execution_count": 141,
   "id": "b0606550",
   "metadata": {},
   "outputs": [
    {
     "data": {
      "text/plain": [
       "Index(['type', 'nb_data_items', 'stream_id', 'taskpool_id', 'total_data_size',\n",
       "       'begin', 'task_class_id', 'id', 'end', 'flags', 'chore_id', 'node_id',\n",
       "       'priority'],\n",
       "      dtype='object')"
      ]
     },
     "execution_count": 141,
     "metadata": {},
     "output_type": "execute_result"
    }
   ],
   "source": [
    "#trace.groups()\n",
    "data = trace['/events']\n",
    "data.columns"
   ]
  },
  {
   "cell_type": "code",
   "execution_count": 142,
   "id": "9d4e6e19",
   "metadata": {},
   "outputs": [
    {
     "data": {
      "text/plain": [
       "pandas.core.frame.DataFrame"
      ]
     },
     "execution_count": 142,
     "metadata": {},
     "output_type": "execute_result"
    }
   ],
   "source": [
    "data = trace.get('/events')\n",
    "type(data)"
   ]
  },
  {
   "cell_type": "code",
   "execution_count": 143,
   "id": "199dadec",
   "metadata": {},
   "outputs": [
    {
     "data": {
      "text/plain": [
       "Index(['type', 'nb_data_items', 'stream_id', 'taskpool_id', 'total_data_size',\n",
       "       'begin', 'task_class_id', 'id', 'end', 'flags', 'chore_id', 'node_id',\n",
       "       'priority'],\n",
       "      dtype='object')"
      ]
     },
     "execution_count": 143,
     "metadata": {},
     "output_type": "execute_result"
    }
   ],
   "source": [
    "data.columns"
   ]
  },
  {
   "cell_type": "code",
   "execution_count": 144,
   "id": "0e14b6ad",
   "metadata": {},
   "outputs": [
    {
     "data": {
      "text/html": [
       "<div>\n",
       "<style scoped>\n",
       "    .dataframe tbody tr th:only-of-type {\n",
       "        vertical-align: middle;\n",
       "    }\n",
       "\n",
       "    .dataframe tbody tr th {\n",
       "        vertical-align: top;\n",
       "    }\n",
       "\n",
       "    .dataframe thead th {\n",
       "        text-align: right;\n",
       "    }\n",
       "</style>\n",
       "<table border=\"1\" class=\"dataframe\">\n",
       "  <thead>\n",
       "    <tr style=\"text-align: right;\">\n",
       "      <th></th>\n",
       "      <th>type</th>\n",
       "      <th>nb_data_items</th>\n",
       "      <th>stream_id</th>\n",
       "      <th>taskpool_id</th>\n",
       "      <th>total_data_size</th>\n",
       "      <th>begin</th>\n",
       "      <th>task_class_id</th>\n",
       "      <th>id</th>\n",
       "      <th>end</th>\n",
       "      <th>flags</th>\n",
       "      <th>chore_id</th>\n",
       "      <th>node_id</th>\n",
       "      <th>priority</th>\n",
       "    </tr>\n",
       "  </thead>\n",
       "  <tbody>\n",
       "    <tr>\n",
       "      <th>0</th>\n",
       "      <td>3</td>\n",
       "      <td>0</td>\n",
       "      <td>0</td>\n",
       "      <td>2</td>\n",
       "      <td>0</td>\n",
       "      <td>320456</td>\n",
       "      <td>1</td>\n",
       "      <td>0</td>\n",
       "      <td>340988</td>\n",
       "      <td>1</td>\n",
       "      <td>0</td>\n",
       "      <td>0</td>\n",
       "      <td>-1</td>\n",
       "    </tr>\n",
       "    <tr>\n",
       "      <th>1</th>\n",
       "      <td>3</td>\n",
       "      <td>1</td>\n",
       "      <td>0</td>\n",
       "      <td>2</td>\n",
       "      <td>4</td>\n",
       "      <td>360547</td>\n",
       "      <td>0</td>\n",
       "      <td>0</td>\n",
       "      <td>376960</td>\n",
       "      <td>1</td>\n",
       "      <td>0</td>\n",
       "      <td>0</td>\n",
       "      <td>0</td>\n",
       "    </tr>\n",
       "    <tr>\n",
       "      <th>2</th>\n",
       "      <td>3</td>\n",
       "      <td>1</td>\n",
       "      <td>0</td>\n",
       "      <td>2</td>\n",
       "      <td>4</td>\n",
       "      <td>410859</td>\n",
       "      <td>0</td>\n",
       "      <td>1</td>\n",
       "      <td>421818</td>\n",
       "      <td>1</td>\n",
       "      <td>0</td>\n",
       "      <td>0</td>\n",
       "      <td>0</td>\n",
       "    </tr>\n",
       "    <tr>\n",
       "      <th>3</th>\n",
       "      <td>3</td>\n",
       "      <td>1</td>\n",
       "      <td>0</td>\n",
       "      <td>2</td>\n",
       "      <td>4</td>\n",
       "      <td>431244</td>\n",
       "      <td>0</td>\n",
       "      <td>2</td>\n",
       "      <td>438438</td>\n",
       "      <td>1</td>\n",
       "      <td>0</td>\n",
       "      <td>0</td>\n",
       "      <td>0</td>\n",
       "    </tr>\n",
       "    <tr>\n",
       "      <th>4</th>\n",
       "      <td>3</td>\n",
       "      <td>1</td>\n",
       "      <td>0</td>\n",
       "      <td>2</td>\n",
       "      <td>4</td>\n",
       "      <td>445088</td>\n",
       "      <td>0</td>\n",
       "      <td>3</td>\n",
       "      <td>451921</td>\n",
       "      <td>1</td>\n",
       "      <td>0</td>\n",
       "      <td>0</td>\n",
       "      <td>0</td>\n",
       "    </tr>\n",
       "  </tbody>\n",
       "</table>\n",
       "</div>"
      ],
      "text/plain": [
       "  type nb_data_items stream_id taskpool_id total_data_size   begin  \\\n",
       "0    3             0         0           2               0  320456   \n",
       "1    3             1         0           2               4  360547   \n",
       "2    3             1         0           2               4  410859   \n",
       "3    3             1         0           2               4  431244   \n",
       "4    3             1         0           2               4  445088   \n",
       "\n",
       "  task_class_id id     end flags chore_id node_id priority  \n",
       "0             1  0  340988     1        0       0       -1  \n",
       "1             0  0  376960     1        0       0        0  \n",
       "2             0  1  421818     1        0       0        0  \n",
       "3             0  2  438438     1        0       0        0  \n",
       "4             0  3  451921     1        0       0        0  "
      ]
     },
     "execution_count": 144,
     "metadata": {},
     "output_type": "execute_result"
    }
   ],
   "source": [
    "data.head()"
   ]
  },
  {
   "cell_type": "code",
   "execution_count": 145,
   "id": "2e1f4a76",
   "metadata": {},
   "outputs": [],
   "source": [
    "data_refined = data[['begin', 'end', 'taskpool_id', 'task_class_id','chore_id', 'nb_data_items', 'total_data_size', 'priority']].copy()\n",
    "data_refined['exec_time'] = data['end'] - data['begin']"
   ]
  },
  {
   "cell_type": "code",
   "execution_count": 146,
   "id": "dd0994e8",
   "metadata": {},
   "outputs": [
    {
     "data": {
      "text/html": [
       "<div>\n",
       "<style scoped>\n",
       "    .dataframe tbody tr th:only-of-type {\n",
       "        vertical-align: middle;\n",
       "    }\n",
       "\n",
       "    .dataframe tbody tr th {\n",
       "        vertical-align: top;\n",
       "    }\n",
       "\n",
       "    .dataframe thead th {\n",
       "        text-align: right;\n",
       "    }\n",
       "</style>\n",
       "<table border=\"1\" class=\"dataframe\">\n",
       "  <thead>\n",
       "    <tr style=\"text-align: right;\">\n",
       "      <th></th>\n",
       "      <th>begin</th>\n",
       "      <th>end</th>\n",
       "      <th>taskpool_id</th>\n",
       "      <th>task_class_id</th>\n",
       "      <th>chore_id</th>\n",
       "      <th>nb_data_items</th>\n",
       "      <th>total_data_size</th>\n",
       "      <th>priority</th>\n",
       "      <th>exec_time</th>\n",
       "    </tr>\n",
       "  </thead>\n",
       "  <tbody>\n",
       "    <tr>\n",
       "      <th>0</th>\n",
       "      <td>320456</td>\n",
       "      <td>340988</td>\n",
       "      <td>2</td>\n",
       "      <td>1</td>\n",
       "      <td>0</td>\n",
       "      <td>0</td>\n",
       "      <td>0</td>\n",
       "      <td>-1</td>\n",
       "      <td>20532</td>\n",
       "    </tr>\n",
       "    <tr>\n",
       "      <th>1</th>\n",
       "      <td>360547</td>\n",
       "      <td>376960</td>\n",
       "      <td>2</td>\n",
       "      <td>0</td>\n",
       "      <td>0</td>\n",
       "      <td>1</td>\n",
       "      <td>4</td>\n",
       "      <td>0</td>\n",
       "      <td>16413</td>\n",
       "    </tr>\n",
       "    <tr>\n",
       "      <th>2</th>\n",
       "      <td>410859</td>\n",
       "      <td>421818</td>\n",
       "      <td>2</td>\n",
       "      <td>0</td>\n",
       "      <td>0</td>\n",
       "      <td>1</td>\n",
       "      <td>4</td>\n",
       "      <td>0</td>\n",
       "      <td>10959</td>\n",
       "    </tr>\n",
       "    <tr>\n",
       "      <th>3</th>\n",
       "      <td>431244</td>\n",
       "      <td>438438</td>\n",
       "      <td>2</td>\n",
       "      <td>0</td>\n",
       "      <td>0</td>\n",
       "      <td>1</td>\n",
       "      <td>4</td>\n",
       "      <td>0</td>\n",
       "      <td>7194</td>\n",
       "    </tr>\n",
       "    <tr>\n",
       "      <th>4</th>\n",
       "      <td>445088</td>\n",
       "      <td>451921</td>\n",
       "      <td>2</td>\n",
       "      <td>0</td>\n",
       "      <td>0</td>\n",
       "      <td>1</td>\n",
       "      <td>4</td>\n",
       "      <td>0</td>\n",
       "      <td>6833</td>\n",
       "    </tr>\n",
       "  </tbody>\n",
       "</table>\n",
       "</div>"
      ],
      "text/plain": [
       "    begin     end taskpool_id task_class_id chore_id nb_data_items  \\\n",
       "0  320456  340988           2             1        0             0   \n",
       "1  360547  376960           2             0        0             1   \n",
       "2  410859  421818           2             0        0             1   \n",
       "3  431244  438438           2             0        0             1   \n",
       "4  445088  451921           2             0        0             1   \n",
       "\n",
       "  total_data_size priority exec_time  \n",
       "0               0       -1     20532  \n",
       "1               4        0     16413  \n",
       "2               4        0     10959  \n",
       "3               4        0      7194  \n",
       "4               4        0      6833  "
      ]
     },
     "execution_count": 146,
     "metadata": {},
     "output_type": "execute_result"
    }
   ],
   "source": [
    "data_refined.head()"
   ]
  },
  {
   "cell_type": "code",
   "execution_count": 147,
   "id": "1f6ea1dc",
   "metadata": {},
   "outputs": [
    {
     "data": {
      "text/plain": [
       "pandas.core.series.Series"
      ]
     },
     "execution_count": 147,
     "metadata": {},
     "output_type": "execute_result"
    }
   ],
   "source": [
    "data = trace.get('/information')\n",
    "type(data)"
   ]
  },
  {
   "cell_type": "code",
   "execution_count": 148,
   "id": "657c2efb",
   "metadata": {},
   "outputs": [
    {
     "data": {
      "text/plain": [
       "pandas.core.series.Series"
      ]
     },
     "execution_count": 148,
     "metadata": {},
     "output_type": "execute_result"
    }
   ],
   "source": [
    "data = trace.get('/event_attributes')\n",
    "type(data)"
   ]
  },
  {
   "cell_type": "code",
   "execution_count": 149,
   "id": "34346f08",
   "metadata": {},
   "outputs": [
    {
     "data": {
      "text/plain": [
       "N/A                  0\n",
       "TASK_MEMORY          1\n",
       "Device delegate      2\n",
       "TASK_GRANULARITY     3\n",
       "Ex02_Chain::Task     4\n",
       "MPI_ACTIVATE         5\n",
       "MPI_DATA_CTL         6\n",
       "MPI_DATA_PLD_SND     7\n",
       "MPI_DATA_PLD_RCV     8\n",
       "ACTIVATE_CB          9\n",
       "PUT_CB              10\n",
       "dtype: int64"
      ]
     },
     "execution_count": 149,
     "metadata": {},
     "output_type": "execute_result"
    }
   ],
   "source": [
    "trace.event_types"
   ]
  },
  {
   "cell_type": "code",
   "execution_count": 150,
   "id": "5b0d62e6",
   "metadata": {},
   "outputs": [
    {
     "data": {
      "text/plain": [
       " 0                  N/A\n",
       " 1          TASK_MEMORY\n",
       " 2      Device delegate\n",
       " 3     TASK_GRANULARITY\n",
       " 4     Ex02_Chain::Task\n",
       " 5         MPI_ACTIVATE\n",
       " 6         MPI_DATA_CTL\n",
       " 7     MPI_DATA_PLD_SND\n",
       " 8     MPI_DATA_PLD_RCV\n",
       " 9          ACTIVATE_CB\n",
       " 10              PUT_CB\n",
       "-1                     \n",
       "dtype: object"
      ]
     },
     "execution_count": 150,
     "metadata": {},
     "output_type": "execute_result"
    }
   ],
   "source": [
    "trace.event_names"
   ]
  },
  {
   "cell_type": "code",
   "execution_count": 151,
   "id": "d876dd73",
   "metadata": {},
   "outputs": [
    {
     "data": {
      "text/plain": [
       "<bound method HDFStore.info of <class 'pandas.io.pytables.HDFStore'>\n",
       "File path: dpotrf-0.prof.h5\n",
       ">"
      ]
     },
     "execution_count": 151,
     "metadata": {},
     "output_type": "execute_result"
    }
   ],
   "source": [
    "trace.info"
   ]
  },
  {
   "cell_type": "code",
   "execution_count": 152,
   "id": "20bde05b",
   "metadata": {},
   "outputs": [
    {
     "name": "stdout",
     "output_type": "stream",
     "text": [
      "N/A                  0\n",
      "TASK_MEMORY          1\n",
      "Device delegate      2\n",
      "TASK_GRANULARITY     3\n",
      "Ex02_Chain::Task     4\n",
      "MPI_ACTIVATE         5\n",
      "MPI_DATA_CTL         6\n",
      "MPI_DATA_PLD_SND     7\n",
      "MPI_DATA_PLD_RCV     8\n",
      "ACTIVATE_CB          9\n",
      "PUT_CB              10\n",
      "dtype: int64\n"
     ]
    }
   ],
   "source": [
    "print(trace['/event_types'])"
   ]
  },
  {
   "cell_type": "code",
   "execution_count": 153,
   "id": "42680d09",
   "metadata": {},
   "outputs": [],
   "source": [
    "trace.close()"
   ]
  },
  {
   "cell_type": "code",
   "execution_count": null,
   "id": "001f36fb",
   "metadata": {},
   "outputs": [],
   "source": []
  }
 ],
 "metadata": {
  "kernelspec": {
   "display_name": "Python 3 (ipykernel)",
   "language": "python",
   "name": "python3"
  },
  "language_info": {
   "codemirror_mode": {
    "name": "ipython",
    "version": 3
   },
   "file_extension": ".py",
   "mimetype": "text/x-python",
   "name": "python",
   "nbconvert_exporter": "python",
   "pygments_lexer": "ipython3",
   "version": "3.9.10"
  }
 },
 "nbformat": 4,
 "nbformat_minor": 5
}
