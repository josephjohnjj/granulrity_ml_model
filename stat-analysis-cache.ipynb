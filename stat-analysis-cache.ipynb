{
 "cells": [
  {
   "cell_type": "code",
   "execution_count": 2,
   "id": "1876d245",
   "metadata": {},
   "outputs": [
    {
     "name": "stdout",
     "output_type": "stream",
     "text": [
      "2.8.0\n"
     ]
    }
   ],
   "source": [
    "import matplotlib.pyplot as plt\n",
    "import numpy as np\n",
    "import pandas as pd\n",
    "import seaborn as sns\n",
    "import os\n",
    "import glob\n",
    "\n",
    "import tensorflow as tf\n",
    "\n",
    "from tensorflow import keras\n",
    "from tensorflow.keras import layers\n",
    "\n",
    "print(tf.__version__)\n",
    "\n",
    "# Make NumPy printouts easier to read.\n",
    "np.set_printoptions(precision=3, suppress=True)"
   ]
  },
  {
   "cell_type": "markdown",
   "id": "64fe431e",
   "metadata": {},
   "source": [
    "### Club all the traces together into a single dataframe"
   ]
  },
  {
   "cell_type": "code",
   "execution_count": 41,
   "id": "4adecc06",
   "metadata": {},
   "outputs": [],
   "source": [
    "trace1 =  pd.HDFStore('./traces/cache_100.prof.h5')\n",
    "df1 = trace1.get('/events')\n",
    "df_info = trace1.get('/streams')\n",
    "trace1.close()\n",
    "\n",
    "trace2 =  pd.HDFStore('./traces/cache_8000000.prof.h5')\n",
    "df2 = trace2.get('/events')\n",
    "trace2.close()"
   ]
  },
  {
   "cell_type": "code",
   "execution_count": 42,
   "id": "d634652a",
   "metadata": {
    "scrolled": true
   },
   "outputs": [
    {
     "name": "stdout",
     "output_type": "stream",
     "text": [
      "   node_id  stream_id                                  description  vp_id  \\\n",
      "0        0          0  PaRSEC Thread 0 of VP 0 Bound on 0x00000001      0   \n",
      "\n",
      "   th_id  boundto      begin        end  duration  \n",
      "0      0        0  219082813  231636912  12554099  \n"
     ]
    }
   ],
   "source": [
    "#print(informations)\n",
    "print(df_info)"
   ]
  },
  {
   "cell_type": "code",
   "execution_count": 13,
   "id": "09b18d84",
   "metadata": {},
   "outputs": [
    {
     "name": "stdout",
     "output_type": "stream",
     "text": [
      "  priority      begin stream_id nb_data_items chore_id node_id        end  \\\n",
      "0       -1  219082813         0             0        0       0  219147689   \n",
      "1        0  219181351         0             1        0       0  219185523   \n",
      "2        0  219229414         0             1        0       0  219230560   \n",
      "3        0  219239880         0             1        0       0  219240874   \n",
      "4        0  219249285         0             1        0       0  219250215   \n",
      "\n",
      "  flags task_class_id id total_data_size taskpool_id type  \n",
      "0     1             1  0               0           2    9  \n",
      "1     1             0  0             400           2    9  \n",
      "2     1             0  1             400           2    9  \n",
      "3     1             0  2             400           2    9  \n",
      "4     1             0  3             400           2    9  \n",
      "(1002, 13)\n"
     ]
    }
   ],
   "source": [
    "print(df1.head())\n",
    "print(df1.shape)"
   ]
  },
  {
   "cell_type": "code",
   "execution_count": 14,
   "id": "1bf75c71",
   "metadata": {},
   "outputs": [
    {
     "name": "stdout",
     "output_type": "stream",
     "text": [
      "  chore_id total_data_size flags stream_id      begin node_id taskpool_id  \\\n",
      "0        0               0     1         0  268166367       0           2   \n",
      "1        0        32000000     1         0  268273410       0           2   \n",
      "2        0        32000000     1         0  311497186       0           2   \n",
      "3        0        32000000     1         0  354334062       0           2   \n",
      "4        0        32000000     1         0  394713890       0           2   \n",
      "\n",
      "  nb_data_items type priority        end task_class_id id  \n",
      "0             0    9       -1  268237241             1  0  \n",
      "1             1    9        0  311370121             0  0  \n",
      "2             1    9        0  354267220             0  1  \n",
      "3             1    9        0  394646115             0  2  \n",
      "4             1    9        0  437163615             0  3  \n",
      "(1002, 13)\n"
     ]
    }
   ],
   "source": [
    "print(df2.head())\n",
    "print(df2.shape)"
   ]
  },
  {
   "cell_type": "markdown",
   "id": "e8f0d6ba",
   "metadata": {},
   "source": [
    "# Clean the data"
   ]
  },
  {
   "cell_type": "code",
   "execution_count": 15,
   "id": "702d9c40",
   "metadata": {},
   "outputs": [],
   "source": [
    "#remove info from other traces\n",
    "df1_refined = df1[['begin', 'end', 'taskpool_id', 'task_class_id','chore_id', 'nb_data_items', 'total_data_size', 'priority']].copy()\n",
    "df1_refined['exec_time'] = (df1['end'] - df1['begin']) * .001 #0.001 nano seconds to micro seconds\n",
    "\n",
    "#remove info from other traces\n",
    "df2_refined = df2[['begin', 'end', 'taskpool_id', 'task_class_id','chore_id', 'nb_data_items', 'total_data_size', 'priority']].copy()\n",
    "df2_refined['exec_time'] = (df2['end'] - df2['begin']) * .001 #0.001 nano seconds to micro seconds\n"
   ]
  },
  {
   "cell_type": "code",
   "execution_count": 43,
   "id": "f80dfa5d",
   "metadata": {},
   "outputs": [
    {
     "name": "stdout",
     "output_type": "stream",
     "text": [
      "34.461\n",
      "0.846\n",
      "0.9934565434565453\n"
     ]
    }
   ],
   "source": [
    "filter = ( (df1_refined['task_class_id'] == 0 ) )\n",
    "df1_refined = df1_refined[filter]\n",
    "df1_refined.head()\n",
    "print(df1_refined['exec_time'].max())\n",
    "print(df1_refined['exec_time'].min())\n",
    "print(sum(df1_refined['exec_time']) /len(df1_refined['exec_time']))\n",
    "\n"
   ]
  },
  {
   "cell_type": "code",
   "execution_count": 37,
   "id": "d9b97ea5",
   "metadata": {},
   "outputs": [
    {
     "data": {
      "text/html": [
       "<div>\n",
       "<style scoped>\n",
       "    .dataframe tbody tr th:only-of-type {\n",
       "        vertical-align: middle;\n",
       "    }\n",
       "\n",
       "    .dataframe tbody tr th {\n",
       "        vertical-align: top;\n",
       "    }\n",
       "\n",
       "    .dataframe thead th {\n",
       "        text-align: right;\n",
       "    }\n",
       "</style>\n",
       "<table border=\"1\" class=\"dataframe\">\n",
       "  <thead>\n",
       "    <tr style=\"text-align: right;\">\n",
       "      <th></th>\n",
       "      <th>begin</th>\n",
       "      <th>end</th>\n",
       "      <th>taskpool_id</th>\n",
       "      <th>task_class_id</th>\n",
       "      <th>chore_id</th>\n",
       "      <th>nb_data_items</th>\n",
       "      <th>total_data_size</th>\n",
       "      <th>priority</th>\n",
       "      <th>exec_time</th>\n",
       "    </tr>\n",
       "  </thead>\n",
       "  <tbody>\n",
       "    <tr>\n",
       "      <th>515</th>\n",
       "      <td>226130773</td>\n",
       "      <td>226134128</td>\n",
       "      <td>2</td>\n",
       "      <td>0</td>\n",
       "      <td>0</td>\n",
       "      <td>1</td>\n",
       "      <td>400</td>\n",
       "      <td>0</td>\n",
       "      <td>3.355</td>\n",
       "    </tr>\n",
       "    <tr>\n",
       "      <th>389</th>\n",
       "      <td>224448416</td>\n",
       "      <td>224451797</td>\n",
       "      <td>2</td>\n",
       "      <td>0</td>\n",
       "      <td>0</td>\n",
       "      <td>1</td>\n",
       "      <td>400</td>\n",
       "      <td>0</td>\n",
       "      <td>3.381</td>\n",
       "    </tr>\n",
       "    <tr>\n",
       "      <th>599</th>\n",
       "      <td>227118088</td>\n",
       "      <td>227121491</td>\n",
       "      <td>2</td>\n",
       "      <td>0</td>\n",
       "      <td>0</td>\n",
       "      <td>1</td>\n",
       "      <td>400</td>\n",
       "      <td>0</td>\n",
       "      <td>3.403</td>\n",
       "    </tr>\n",
       "    <tr>\n",
       "      <th>1</th>\n",
       "      <td>219181351</td>\n",
       "      <td>219185523</td>\n",
       "      <td>2</td>\n",
       "      <td>0</td>\n",
       "      <td>0</td>\n",
       "      <td>1</td>\n",
       "      <td>400</td>\n",
       "      <td>0</td>\n",
       "      <td>4.172</td>\n",
       "    </tr>\n",
       "    <tr>\n",
       "      <th>99</th>\n",
       "      <td>220433307</td>\n",
       "      <td>220467768</td>\n",
       "      <td>2</td>\n",
       "      <td>0</td>\n",
       "      <td>0</td>\n",
       "      <td>1</td>\n",
       "      <td>400</td>\n",
       "      <td>0</td>\n",
       "      <td>34.461</td>\n",
       "    </tr>\n",
       "  </tbody>\n",
       "</table>\n",
       "</div>"
      ],
      "text/plain": [
       "         begin        end taskpool_id task_class_id chore_id nb_data_items  \\\n",
       "515  226130773  226134128           2             0        0             1   \n",
       "389  224448416  224451797           2             0        0             1   \n",
       "599  227118088  227121491           2             0        0             1   \n",
       "1    219181351  219185523           2             0        0             1   \n",
       "99   220433307  220467768           2             0        0             1   \n",
       "\n",
       "    total_data_size priority exec_time  \n",
       "515             400        0     3.355  \n",
       "389             400        0     3.381  \n",
       "599             400        0     3.403  \n",
       "1               400        0     4.172  \n",
       "99              400        0    34.461  "
      ]
     },
     "execution_count": 37,
     "metadata": {},
     "output_type": "execute_result"
    }
   ],
   "source": [
    "df_sorted = df1_refined.sort_values(by=['exec_time'], ascending=True)\n",
    "df_sorted.tail()"
   ]
  },
  {
   "cell_type": "code",
   "execution_count": 44,
   "id": "f05d1835",
   "metadata": {},
   "outputs": [
    {
     "name": "stdout",
     "output_type": "stream",
     "text": [
      "59759.809\n",
      "39368.021\n",
      "46130.2206843157\n"
     ]
    }
   ],
   "source": [
    "filter = ( (df2_refined['task_class_id'] == 0 ) )\n",
    "df2_refined = df2_refined[filter]\n",
    "df2_refined.head()\n",
    "\n",
    "print(df2_refined['exec_time'].max())\n",
    "print(df2_refined['exec_time'].min())\n",
    "print(sum(df2_refined['exec_time']) /len(df1_refined['exec_time']))"
   ]
  },
  {
   "cell_type": "code",
   "execution_count": 20,
   "id": "20e63d4c",
   "metadata": {},
   "outputs": [
    {
     "name": "stdout",
     "output_type": "stream",
     "text": [
      "[0]\n"
     ]
    }
   ],
   "source": [
    "print(df1_refined['task_class_id'].unique())"
   ]
  },
  {
   "cell_type": "code",
   "execution_count": 22,
   "id": "3a191888",
   "metadata": {},
   "outputs": [],
   "source": [
    "df1_class = {}\n",
    "for i in df1_refined['task_class_id'].unique():\n",
    "    df1_class[i] = df1_refined[df1_refined['task_class_id'] == i]\n",
    "    "
   ]
  },
  {
   "cell_type": "code",
   "execution_count": 23,
   "id": "4454f2fe",
   "metadata": {},
   "outputs": [],
   "source": [
    "df2_class = {}\n",
    "for i in df2_refined['task_class_id'].unique():\n",
    "    df2_class[i] = df2_refined[df2_refined['task_class_id'] == i]\n",
    "    "
   ]
  },
  {
   "cell_type": "code",
   "execution_count": 29,
   "id": "a2a705e9",
   "metadata": {},
   "outputs": [
    {
     "data": {
      "text/plain": [
       "<Figure size 432x288 with 0 Axes>"
      ]
     },
     "metadata": {},
     "output_type": "display_data"
    },
    {
     "data": {
      "image/png": "[encoded data removed]",
      "text/plain": [
       "<Figure size 442.625x360 with 1 Axes>"
      ]
     },
     "metadata": {
      "needs_background": "light"
     },
     "output_type": "display_data"
    }
   ],
   "source": [
    "for i in df1_refined['task_class_id'].unique():\n",
    "    title = 'In cache'\n",
    "    plt.figure()\n",
    "    sns.displot(df1_class[i], x=\"exec_time\", hue='total_data_size')\n",
    "    plt.title(title)\n",
    "plt.show()"
   ]
  },
  {
   "cell_type": "code",
   "execution_count": 26,
   "id": "dfe4fa24",
   "metadata": {},
   "outputs": [
    {
     "data": {
      "text/plain": [
       "<Figure size 432x288 with 0 Axes>"
      ]
     },
     "metadata": {},
     "output_type": "display_data"
    },
    {
     "data": {
      "image/png": "[encoded data removed]",
      "text/plain": [
       "<Figure size 446.125x360 with 1 Axes>"
      ]
     },
     "metadata": {
      "needs_background": "light"
     },
     "output_type": "display_data"
    }
   ],
   "source": [
    "for i in df2_refined['task_class_id'].unique():\n",
    "    title = 'Out cache'\n",
    "    plt.figure()\n",
    "    sns.displot(df2_class[i], x=\"exec_time\", hue='total_data_size', binwidth=5e3)\n",
    "    plt.title(title)\n",
    "plt.show()"
   ]
  },
  {
   "cell_type": "code",
   "execution_count": 27,
   "id": "488dde91",
   "metadata": {},
   "outputs": [
    {
     "name": "stderr",
     "output_type": "stream",
     "text": [
      "/usr/local/lib/python3.9/site-packages/seaborn/_decorators.py:36: FutureWarning: Pass the following variable as a keyword arg: x. From version 0.12, the only valid positional argument will be `data`, and passing other arguments without an explicit keyword will result in an error or misinterpretation.\n",
      "  warnings.warn(\n"
     ]
    },
    {
     "data": {
      "image/png": "[encoded data removed]",
      "text/plain": [
       "<Figure size 432x288 with 1 Axes>"
      ]
     },
     "metadata": {
      "needs_background": "light"
     },
     "output_type": "display_data"
    }
   ],
   "source": [
    "for i in df1_refined['task_class_id'].unique():\n",
    "    title = 'In cache'\n",
    "    plt.figure()\n",
    "    sns.boxplot(df1_class[i]['exec_time'])\n",
    "    plt.title(title)\n",
    "plt.show()"
   ]
  },
  {
   "cell_type": "code",
   "execution_count": 28,
   "id": "37a1e2e4",
   "metadata": {},
   "outputs": [
    {
     "name": "stderr",
     "output_type": "stream",
     "text": [
      "/usr/local/lib/python3.9/site-packages/seaborn/_decorators.py:36: FutureWarning: Pass the following variable as a keyword arg: x. From version 0.12, the only valid positional argument will be `data`, and passing other arguments without an explicit keyword will result in an error or misinterpretation.\n",
      "  warnings.warn(\n"
     ]
    },
    {
     "data": {
      "image/png": "[encoded data removed]",
      "text/plain": [
       "<Figure size 432x288 with 1 Axes>"
      ]
     },
     "metadata": {
      "needs_background": "light"
     },
     "output_type": "display_data"
    }
   ],
   "source": [
    "for i in df2_refined['task_class_id'].unique():\n",
    "    title = 'Out cache'\n",
    "    plt.figure()\n",
    "    sns.boxplot(df2_class[i]['exec_time'])\n",
    "    plt.title(title)\n",
    "plt.show()"
   ]
  }
 ],
 "metadata": {
  "kernelspec": {
   "display_name": "Python 3 (ipykernel)",
   "language": "python",
   "name": "python3"
  },
  "language_info": {
   "codemirror_mode": {
    "name": "ipython",
    "version": 3
   },
   "file_extension": ".py",
   "mimetype": "text/x-python",
   "name": "python",
   "nbconvert_exporter": "python",
   "pygments_lexer": "ipython3",
   "version": "3.9.10"
  }
 },
 "nbformat": 4,
 "nbformat_minor": 5
}
