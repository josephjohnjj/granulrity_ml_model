{
 "cells": [
  {
   "cell_type": "code",
   "execution_count": 84,
   "id": "1876d245",
   "metadata": {},
   "outputs": [
    {
     "name": "stdout",
     "output_type": "stream",
     "text": [
      "2.8.0\n"
     ]
    }
   ],
   "source": [
    "import matplotlib.pyplot as plt\n",
    "import numpy as np\n",
    "import pandas as pd\n",
    "import seaborn as sns\n",
    "import os\n",
    "import glob\n",
    "\n",
    "import tensorflow as tf\n",
    "\n",
    "from tensorflow import keras\n",
    "from tensorflow.keras import layers\n",
    "#import tensorflow_decision_forests as tfdf\n",
    "\n",
    "print(tf.__version__)\n",
    "\n",
    "# Make NumPy printouts easier to read.\n",
    "np.set_printoptions(precision=3, suppress=True)"
   ]
  },
  {
   "cell_type": "markdown",
   "id": "64fe431e",
   "metadata": {},
   "source": [
    "### Club all the traces together into a single dataframe"
   ]
  },
  {
   "cell_type": "code",
   "execution_count": 85,
   "id": "4adecc06",
   "metadata": {},
   "outputs": [],
   "source": [
    "path = './traces/'# use your path\n",
    "#all_files = glob.glob(path + \"/*.h5\")\n",
    "all_files = glob.glob(path + \"/dpotrf_T*.prof.h5\")\n",
    "\n",
    "li = []\n",
    "\n",
    "for filename in all_files:\n",
    "    trace =  pd.HDFStore(filename)\n",
    "    data = trace.get('/events')\n",
    "    trace.close()\n",
    "    \n",
    "    li.append(data)\n",
    "\n",
    "#df = pd.concat(li, axis=0, ignore_index=True)\n"
   ]
  },
  {
   "cell_type": "code",
   "execution_count": 86,
   "id": "a1f6924e",
   "metadata": {},
   "outputs": [
    {
     "name": "stdout",
     "output_type": "stream",
     "text": [
      "8\n"
     ]
    }
   ],
   "source": [
    "df_class_name = {0: 'dpotrf', 1: 'dtrsm', 2: 'dsyrk', 3: 'dgemm'}\n",
    "print(len(li))"
   ]
  },
  {
   "cell_type": "markdown",
   "id": "e8f0d6ba",
   "metadata": {},
   "source": [
    "# Clean the data"
   ]
  },
  {
   "cell_type": "code",
   "execution_count": 87,
   "id": "702d9c40",
   "metadata": {},
   "outputs": [],
   "source": [
    "#remove unwanted columns\n",
    "for i in range(0, len(li)):\n",
    "    li[i] = li[i][['begin', 'end', 'taskpool_id', 'task_class_id','chore_id', 'nb_data_items', 'total_data_size', 'priority']].copy()\n",
    "    li[i]['exec_time'] = (li[i]['end'] - li[i]['begin']) * .001 #0.001 nano seconds to micro seconds\n",
    "    li[i] = li[i].astype(float)\n",
    "\n",
    "#remove all other classes other than dpotrf, dgemm, trsm and syrk\n",
    "for i in range(0, len(li)):\n",
    "    filter = ( (li[i]['task_class_id'] >= 0 ) & ( li[i]['task_class_id'] <= 3 ) & ( li[i]['priority'] >= 0 ) )\n",
    "    li[i] = li[i][filter]\n",
    "    #df_refined.head()"
   ]
  },
  {
   "cell_type": "markdown",
   "id": "0c5b09a6",
   "metadata": {},
   "source": [
    "### remove outliers"
   ]
  },
  {
   "cell_type": "code",
   "execution_count": 88,
   "id": "488dde91",
   "metadata": {},
   "outputs": [
    {
     "name": "stdout",
     "output_type": "stream",
     "text": [
      "32\n"
     ]
    }
   ],
   "source": [
    "li_new = []\n",
    "for i in range(0, len(li)):\n",
    "    df_li = li[i]\n",
    "    for j in df_li['task_class_id'].unique():\n",
    "        filter = (li[i]['task_class_id'] == j )\n",
    "        df_li_class = df_li[filter]\n",
    "        Q1 = df_li_class['exec_time'].quantile(0.25)\n",
    "        Q3 = df_li_class['exec_time'].quantile(0.75)\n",
    "        IQR = Q3 - Q1    #IQR is interquartile range.\n",
    "        filter = (df_li_class['exec_time'] >= Q1 - 1.5 * IQR) & (df_li_class['exec_time'] <= Q3 + 1.5 *IQR)\n",
    "        df_li_class = df_li_class.loc[filter]\n",
    "        df_li_class = df_li_class.astype(float)\n",
    "        li_new.append(df_li_class)\n",
    "                  \n",
    "print(len(li_new)) "
   ]
  },
  {
   "cell_type": "markdown",
   "id": "929c327c",
   "metadata": {},
   "source": [
    "## integrate likelihood of the data being in cash.\n",
    "we assume that all the task whose execution time is in the first quartile could have had all its data in the cache. While, the rest of the tasks would have resulted in a cache flush. While predicting we assume that the that the data of the task is not in the cache "
   ]
  },
  {
   "cell_type": "code",
   "execution_count": 89,
   "id": "4051d1e3",
   "metadata": {},
   "outputs": [],
   "source": [
    "for i in range(0, len(li_new)):\n",
    "    Q1 = li_new[i]['exec_time'].quantile(0.25)\n",
    "    Q3 = li_new[i]['exec_time'].quantile(0.75)\n",
    "    IQR = Q3 - Q1    #IQR is interquartile range.\n",
    "    li_new[i]['cache_likelihood'] = np.where(li_new[i]['exec_time'] < Q1, 1, 0)"
   ]
  },
  {
   "cell_type": "markdown",
   "id": "33b1d0a2",
   "metadata": {},
   "source": [
    "### New DataFrame"
   ]
  },
  {
   "cell_type": "code",
   "execution_count": 90,
   "id": "67f6e2ff",
   "metadata": {},
   "outputs": [
    {
     "data": {
      "text/html": [
       "<div>\n",
       "<style scoped>\n",
       "    .dataframe tbody tr th:only-of-type {\n",
       "        vertical-align: middle;\n",
       "    }\n",
       "\n",
       "    .dataframe tbody tr th {\n",
       "        vertical-align: top;\n",
       "    }\n",
       "\n",
       "    .dataframe thead th {\n",
       "        text-align: right;\n",
       "    }\n",
       "</style>\n",
       "<table border=\"1\" class=\"dataframe\">\n",
       "  <thead>\n",
       "    <tr style=\"text-align: right;\">\n",
       "      <th></th>\n",
       "      <th>begin</th>\n",
       "      <th>end</th>\n",
       "      <th>taskpool_id</th>\n",
       "      <th>task_class_id</th>\n",
       "      <th>chore_id</th>\n",
       "      <th>nb_data_items</th>\n",
       "      <th>total_data_size</th>\n",
       "      <th>priority</th>\n",
       "      <th>exec_time</th>\n",
       "      <th>cache_likelihood</th>\n",
       "    </tr>\n",
       "  </thead>\n",
       "  <tbody>\n",
       "    <tr>\n",
       "      <th>0</th>\n",
       "      <td>199680.0</td>\n",
       "      <td>6506370.0</td>\n",
       "      <td>2.0</td>\n",
       "      <td>1.0</td>\n",
       "      <td>0.0</td>\n",
       "      <td>2.0</td>\n",
       "      <td>5120000.0</td>\n",
       "      <td>0.0</td>\n",
       "      <td>6306.690</td>\n",
       "      <td>0</td>\n",
       "    </tr>\n",
       "    <tr>\n",
       "      <th>1</th>\n",
       "      <td>6530386.0</td>\n",
       "      <td>15152069.0</td>\n",
       "      <td>2.0</td>\n",
       "      <td>1.0</td>\n",
       "      <td>0.0</td>\n",
       "      <td>2.0</td>\n",
       "      <td>5120000.0</td>\n",
       "      <td>0.0</td>\n",
       "      <td>8621.683</td>\n",
       "      <td>0</td>\n",
       "    </tr>\n",
       "    <tr>\n",
       "      <th>2</th>\n",
       "      <td>15171375.0</td>\n",
       "      <td>21961048.0</td>\n",
       "      <td>2.0</td>\n",
       "      <td>1.0</td>\n",
       "      <td>0.0</td>\n",
       "      <td>2.0</td>\n",
       "      <td>5120000.0</td>\n",
       "      <td>0.0</td>\n",
       "      <td>6789.673</td>\n",
       "      <td>0</td>\n",
       "    </tr>\n",
       "    <tr>\n",
       "      <th>3</th>\n",
       "      <td>21978558.0</td>\n",
       "      <td>28177033.0</td>\n",
       "      <td>2.0</td>\n",
       "      <td>1.0</td>\n",
       "      <td>0.0</td>\n",
       "      <td>2.0</td>\n",
       "      <td>5120000.0</td>\n",
       "      <td>0.0</td>\n",
       "      <td>6198.475</td>\n",
       "      <td>0</td>\n",
       "    </tr>\n",
       "    <tr>\n",
       "      <th>4</th>\n",
       "      <td>28186947.0</td>\n",
       "      <td>34587327.0</td>\n",
       "      <td>2.0</td>\n",
       "      <td>1.0</td>\n",
       "      <td>0.0</td>\n",
       "      <td>2.0</td>\n",
       "      <td>5120000.0</td>\n",
       "      <td>0.0</td>\n",
       "      <td>6400.380</td>\n",
       "      <td>0</td>\n",
       "    </tr>\n",
       "  </tbody>\n",
       "</table>\n",
       "</div>"
      ],
      "text/plain": [
       "        begin         end  taskpool_id  task_class_id  chore_id  \\\n",
       "0    199680.0   6506370.0          2.0            1.0       0.0   \n",
       "1   6530386.0  15152069.0          2.0            1.0       0.0   \n",
       "2  15171375.0  21961048.0          2.0            1.0       0.0   \n",
       "3  21978558.0  28177033.0          2.0            1.0       0.0   \n",
       "4  28186947.0  34587327.0          2.0            1.0       0.0   \n",
       "\n",
       "   nb_data_items  total_data_size  priority  exec_time  cache_likelihood  \n",
       "0            2.0        5120000.0       0.0   6306.690                 0  \n",
       "1            2.0        5120000.0       0.0   8621.683                 0  \n",
       "2            2.0        5120000.0       0.0   6789.673                 0  \n",
       "3            2.0        5120000.0       0.0   6198.475                 0  \n",
       "4            2.0        5120000.0       0.0   6400.380                 0  "
      ]
     },
     "execution_count": 90,
     "metadata": {},
     "output_type": "execute_result"
    }
   ],
   "source": [
    "df_new = pd.concat(li_new, axis=0, ignore_index=True)\n",
    "df_new.head()"
   ]
  },
  {
   "cell_type": "markdown",
   "id": "c2428e1b",
   "metadata": {},
   "source": [
    "## change task_class column to catogrical data"
   ]
  },
  {
   "cell_type": "code",
   "execution_count": 91,
   "id": "f7a560b1",
   "metadata": {},
   "outputs": [],
   "source": [
    "#df_refined_new = pd.get_dummies(df_refined_new, prefix='task_pool_', columns=['taskpool_id'], prefix_sep='')\n",
    "df_new = pd.get_dummies(df_new, prefix='task_class_', columns=['task_class_id'], prefix_sep='')"
   ]
  },
  {
   "cell_type": "code",
   "execution_count": 92,
   "id": "92147881",
   "metadata": {},
   "outputs": [
    {
     "data": {
      "text/html": [
       "<div>\n",
       "<style scoped>\n",
       "    .dataframe tbody tr th:only-of-type {\n",
       "        vertical-align: middle;\n",
       "    }\n",
       "\n",
       "    .dataframe tbody tr th {\n",
       "        vertical-align: top;\n",
       "    }\n",
       "\n",
       "    .dataframe thead th {\n",
       "        text-align: right;\n",
       "    }\n",
       "</style>\n",
       "<table border=\"1\" class=\"dataframe\">\n",
       "  <thead>\n",
       "    <tr style=\"text-align: right;\">\n",
       "      <th></th>\n",
       "      <th>begin</th>\n",
       "      <th>end</th>\n",
       "      <th>taskpool_id</th>\n",
       "      <th>chore_id</th>\n",
       "      <th>nb_data_items</th>\n",
       "      <th>total_data_size</th>\n",
       "      <th>priority</th>\n",
       "      <th>exec_time</th>\n",
       "      <th>cache_likelihood</th>\n",
       "      <th>task_class_0.0</th>\n",
       "      <th>task_class_1.0</th>\n",
       "      <th>task_class_2.0</th>\n",
       "      <th>task_class_3.0</th>\n",
       "    </tr>\n",
       "  </thead>\n",
       "  <tbody>\n",
       "    <tr>\n",
       "      <th>0</th>\n",
       "      <td>199680.0</td>\n",
       "      <td>6506370.0</td>\n",
       "      <td>2.0</td>\n",
       "      <td>0.0</td>\n",
       "      <td>2.0</td>\n",
       "      <td>5120000.0</td>\n",
       "      <td>0.0</td>\n",
       "      <td>6306.690</td>\n",
       "      <td>0</td>\n",
       "      <td>0</td>\n",
       "      <td>1</td>\n",
       "      <td>0</td>\n",
       "      <td>0</td>\n",
       "    </tr>\n",
       "    <tr>\n",
       "      <th>1</th>\n",
       "      <td>6530386.0</td>\n",
       "      <td>15152069.0</td>\n",
       "      <td>2.0</td>\n",
       "      <td>0.0</td>\n",
       "      <td>2.0</td>\n",
       "      <td>5120000.0</td>\n",
       "      <td>0.0</td>\n",
       "      <td>8621.683</td>\n",
       "      <td>0</td>\n",
       "      <td>0</td>\n",
       "      <td>1</td>\n",
       "      <td>0</td>\n",
       "      <td>0</td>\n",
       "    </tr>\n",
       "    <tr>\n",
       "      <th>2</th>\n",
       "      <td>15171375.0</td>\n",
       "      <td>21961048.0</td>\n",
       "      <td>2.0</td>\n",
       "      <td>0.0</td>\n",
       "      <td>2.0</td>\n",
       "      <td>5120000.0</td>\n",
       "      <td>0.0</td>\n",
       "      <td>6789.673</td>\n",
       "      <td>0</td>\n",
       "      <td>0</td>\n",
       "      <td>1</td>\n",
       "      <td>0</td>\n",
       "      <td>0</td>\n",
       "    </tr>\n",
       "    <tr>\n",
       "      <th>3</th>\n",
       "      <td>21978558.0</td>\n",
       "      <td>28177033.0</td>\n",
       "      <td>2.0</td>\n",
       "      <td>0.0</td>\n",
       "      <td>2.0</td>\n",
       "      <td>5120000.0</td>\n",
       "      <td>0.0</td>\n",
       "      <td>6198.475</td>\n",
       "      <td>0</td>\n",
       "      <td>0</td>\n",
       "      <td>1</td>\n",
       "      <td>0</td>\n",
       "      <td>0</td>\n",
       "    </tr>\n",
       "    <tr>\n",
       "      <th>4</th>\n",
       "      <td>28186947.0</td>\n",
       "      <td>34587327.0</td>\n",
       "      <td>2.0</td>\n",
       "      <td>0.0</td>\n",
       "      <td>2.0</td>\n",
       "      <td>5120000.0</td>\n",
       "      <td>0.0</td>\n",
       "      <td>6400.380</td>\n",
       "      <td>0</td>\n",
       "      <td>0</td>\n",
       "      <td>1</td>\n",
       "      <td>0</td>\n",
       "      <td>0</td>\n",
       "    </tr>\n",
       "  </tbody>\n",
       "</table>\n",
       "</div>"
      ],
      "text/plain": [
       "        begin         end  taskpool_id  chore_id  nb_data_items  \\\n",
       "0    199680.0   6506370.0          2.0       0.0            2.0   \n",
       "1   6530386.0  15152069.0          2.0       0.0            2.0   \n",
       "2  15171375.0  21961048.0          2.0       0.0            2.0   \n",
       "3  21978558.0  28177033.0          2.0       0.0            2.0   \n",
       "4  28186947.0  34587327.0          2.0       0.0            2.0   \n",
       "\n",
       "   total_data_size  priority  exec_time  cache_likelihood  task_class_0.0  \\\n",
       "0        5120000.0       0.0   6306.690                 0               0   \n",
       "1        5120000.0       0.0   8621.683                 0               0   \n",
       "2        5120000.0       0.0   6789.673                 0               0   \n",
       "3        5120000.0       0.0   6198.475                 0               0   \n",
       "4        5120000.0       0.0   6400.380                 0               0   \n",
       "\n",
       "   task_class_1.0  task_class_2.0  task_class_3.0  \n",
       "0               1               0               0  \n",
       "1               1               0               0  \n",
       "2               1               0               0  \n",
       "3               1               0               0  \n",
       "4               1               0               0  "
      ]
     },
     "execution_count": 92,
     "metadata": {},
     "output_type": "execute_result"
    }
   ],
   "source": [
    "df_new.head()"
   ]
  },
  {
   "cell_type": "markdown",
   "id": "2d92631e",
   "metadata": {},
   "source": [
    "### Divide the data to training and test sets"
   ]
  },
  {
   "cell_type": "code",
   "execution_count": 95,
   "id": "ba0e62a5",
   "metadata": {},
   "outputs": [
    {
     "name": "stdout",
     "output_type": "stream",
     "text": [
      "(860154, 13)\n",
      "(215038, 13)\n"
     ]
    }
   ],
   "source": [
    "train_dataset = df_new.sample(frac=0.8, random_state=0)\n",
    "test_dataset = df_new.drop(train_dataset.index)\n",
    "print(train_dataset.shape)\n",
    "print(test_dataset.shape)"
   ]
  },
  {
   "cell_type": "markdown",
   "id": "6c46d7eb",
   "metadata": {},
   "source": [
    "## Divide the data into trainig features and labels"
   ]
  },
  {
   "cell_type": "code",
   "execution_count": 96,
   "id": "34d95040",
   "metadata": {},
   "outputs": [],
   "source": [
    "train_features = train_dataset.copy()\n",
    "test_features = test_dataset.copy()\n",
    "\n",
    "train_labels = train_features.pop('exec_time')\n",
    "test_labels = test_features.pop('exec_time')"
   ]
  },
  {
   "cell_type": "code",
   "execution_count": 97,
   "id": "5f16f1a2",
   "metadata": {},
   "outputs": [],
   "source": [
    "#train_features.describe().transpose()"
   ]
  },
  {
   "cell_type": "markdown",
   "id": "695ac3df",
   "metadata": {},
   "source": [
    "# -------------------Build the multi variate full model------------------------------"
   ]
  },
  {
   "cell_type": "markdown",
   "id": "b1ea8c13",
   "metadata": {},
   "source": [
    "## select the required features from the list"
   ]
  },
  {
   "cell_type": "code",
   "execution_count": 98,
   "id": "9dd6a6c3",
   "metadata": {},
   "outputs": [],
   "source": [
    "\n",
    "train_features = train_features.drop(['chore_id', 'begin', 'end', 'taskpool_id'], axis = 1)\n",
    "test_features = test_features.drop(['chore_id', 'begin', 'end', 'taskpool_id'], axis = 1)\n",
    "\n"
   ]
  },
  {
   "cell_type": "code",
   "execution_count": 99,
   "id": "6e881e08",
   "metadata": {},
   "outputs": [
    {
     "data": {
      "text/html": [
       "<div>\n",
       "<style scoped>\n",
       "    .dataframe tbody tr th:only-of-type {\n",
       "        vertical-align: middle;\n",
       "    }\n",
       "\n",
       "    .dataframe tbody tr th {\n",
       "        vertical-align: top;\n",
       "    }\n",
       "\n",
       "    .dataframe thead th {\n",
       "        text-align: right;\n",
       "    }\n",
       "</style>\n",
       "<table border=\"1\" class=\"dataframe\">\n",
       "  <thead>\n",
       "    <tr style=\"text-align: right;\">\n",
       "      <th></th>\n",
       "      <th>nb_data_items</th>\n",
       "      <th>total_data_size</th>\n",
       "      <th>priority</th>\n",
       "      <th>cache_likelihood</th>\n",
       "      <th>task_class_0.0</th>\n",
       "      <th>task_class_1.0</th>\n",
       "      <th>task_class_2.0</th>\n",
       "      <th>task_class_3.0</th>\n",
       "    </tr>\n",
       "  </thead>\n",
       "  <tbody>\n",
       "    <tr>\n",
       "      <th>267930</th>\n",
       "      <td>2.0</td>\n",
       "      <td>320000.0</td>\n",
       "      <td>0.0</td>\n",
       "      <td>1</td>\n",
       "      <td>0</td>\n",
       "      <td>1</td>\n",
       "      <td>0</td>\n",
       "      <td>0</td>\n",
       "    </tr>\n",
       "    <tr>\n",
       "      <th>373649</th>\n",
       "      <td>3.0</td>\n",
       "      <td>960000.0</td>\n",
       "      <td>1268.0</td>\n",
       "      <td>0</td>\n",
       "      <td>0</td>\n",
       "      <td>0</td>\n",
       "      <td>0</td>\n",
       "      <td>1</td>\n",
       "    </tr>\n",
       "    <tr>\n",
       "      <th>871026</th>\n",
       "      <td>3.0</td>\n",
       "      <td>240000.0</td>\n",
       "      <td>10856.0</td>\n",
       "      <td>0</td>\n",
       "      <td>0</td>\n",
       "      <td>0</td>\n",
       "      <td>0</td>\n",
       "      <td>1</td>\n",
       "    </tr>\n",
       "    <tr>\n",
       "      <th>942871</th>\n",
       "      <td>3.0</td>\n",
       "      <td>240000.0</td>\n",
       "      <td>248954.0</td>\n",
       "      <td>0</td>\n",
       "      <td>0</td>\n",
       "      <td>0</td>\n",
       "      <td>0</td>\n",
       "      <td>1</td>\n",
       "    </tr>\n",
       "    <tr>\n",
       "      <th>414417</th>\n",
       "      <td>3.0</td>\n",
       "      <td>960000.0</td>\n",
       "      <td>146104.0</td>\n",
       "      <td>0</td>\n",
       "      <td>0</td>\n",
       "      <td>0</td>\n",
       "      <td>0</td>\n",
       "      <td>1</td>\n",
       "    </tr>\n",
       "  </tbody>\n",
       "</table>\n",
       "</div>"
      ],
      "text/plain": [
       "        nb_data_items  total_data_size  priority  cache_likelihood  \\\n",
       "267930            2.0         320000.0       0.0                 1   \n",
       "373649            3.0         960000.0    1268.0                 0   \n",
       "871026            3.0         240000.0   10856.0                 0   \n",
       "942871            3.0         240000.0  248954.0                 0   \n",
       "414417            3.0         960000.0  146104.0                 0   \n",
       "\n",
       "        task_class_0.0  task_class_1.0  task_class_2.0  task_class_3.0  \n",
       "267930               0               1               0               0  \n",
       "373649               0               0               0               1  \n",
       "871026               0               0               0               1  \n",
       "942871               0               0               0               1  \n",
       "414417               0               0               0               1  "
      ]
     },
     "execution_count": 99,
     "metadata": {},
     "output_type": "execute_result"
    }
   ],
   "source": [
    "train_features.head()"
   ]
  },
  {
   "cell_type": "code",
   "execution_count": 100,
   "id": "5033b55f",
   "metadata": {},
   "outputs": [],
   "source": [
    "normalizer = tf.keras.layers.Normalization(axis=-1)\n",
    "#normalizer = layers.Normalization(input_shape=[1,], axis=None)\n",
    "normalizer.adapt(np.array(train_features))"
   ]
  },
  {
   "cell_type": "code",
   "execution_count": 101,
   "id": "d39d3614",
   "metadata": {},
   "outputs": [],
   "source": [
    "LR_model = tf.keras.Sequential([\n",
    "    normalizer,\n",
    "    layers.Dense(units=1)\n",
    "])"
   ]
  },
  {
   "cell_type": "code",
   "execution_count": 102,
   "id": "c5871033",
   "metadata": {},
   "outputs": [
    {
     "name": "stdout",
     "output_type": "stream",
     "text": [
      "[]\n"
     ]
    }
   ],
   "source": [
    "LR_model.compile(\n",
    "    optimizer=tf.optimizers.Adam(learning_rate=0.1),\n",
    "    loss='mse', metrics=[tf.keras.metrics.Accuracy()])\n",
    "print(LR_model.metrics_names)"
   ]
  },
  {
   "cell_type": "code",
   "execution_count": 103,
   "id": "676e4c72",
   "metadata": {},
   "outputs": [],
   "source": [
    "checkpoint_path = \"LR_model_all_class.ckpt\"\n",
    "checkpoint_dir = os.path.dirname(checkpoint_path)\n",
    "lr_callback = tf.keras.callbacks.ModelCheckpoint(filepath=checkpoint_path,\n",
    "                                                 save_weights_only=True,\n",
    "                                                 verbose=1)"
   ]
  },
  {
   "cell_type": "markdown",
   "id": "64c75b10",
   "metadata": {},
   "source": [
    "## Train the model"
   ]
  },
  {
   "cell_type": "code",
   "execution_count": 104,
   "id": "d8e6b329",
   "metadata": {},
   "outputs": [
    {
     "name": "stdout",
     "output_type": "stream",
     "text": [
      "\n",
      "Epoch 1: saving model to LR_model_all_class.ckpt\n"
     ]
    }
   ],
   "source": [
    "history = LR_model.fit(\n",
    "    train_features,\n",
    "    train_labels,\n",
    "    epochs=1,\n",
    "    # Suppress logging.\n",
    "    verbose=0,\n",
    "    # Calculate validation results on 20% of the training data.\n",
    "    validation_split = 0.2,\n",
    "    callbacks=[lr_callback])"
   ]
  },
  {
   "cell_type": "code",
   "execution_count": 66,
   "id": "2c8c0f8a",
   "metadata": {},
   "outputs": [
    {
     "name": "stdout",
     "output_type": "stream",
     "text": [
      "INFO:tensorflow:Assets written to: ./LR_model_all_class/assets\n"
     ]
    }
   ],
   "source": [
    "LR_model.save('./LR_model_all_class')"
   ]
  },
  {
   "cell_type": "code",
   "execution_count": 105,
   "id": "d0eb4267",
   "metadata": {},
   "outputs": [
    {
     "data": {
      "text/plain": [
       "{'loss': [17170252.0],\n",
       " 'accuracy': [0.0],\n",
       " 'val_loss': [13176643.0],\n",
       " 'val_accuracy': [0.0]}"
      ]
     },
     "execution_count": 105,
     "metadata": {},
     "output_type": "execute_result"
    }
   ],
   "source": [
    "history.history"
   ]
  },
  {
   "cell_type": "code",
   "execution_count": 106,
   "id": "2ad48f74",
   "metadata": {},
   "outputs": [
    {
     "name": "stdout",
     "output_type": "stream",
     "text": [
      "Model: \"sequential_3\"\n",
      "_________________________________________________________________\n",
      " Layer (type)                Output Shape              Param #   \n",
      "=================================================================\n",
      " normalization_2 (Normalizat  (None, 8)                17        \n",
      " ion)                                                            \n",
      "                                                                 \n",
      " dense_5 (Dense)             (None, 1)                 9         \n",
      "                                                                 \n",
      "=================================================================\n",
      "Total params: 26\n",
      "Trainable params: 9\n",
      "Non-trainable params: 17\n",
      "_________________________________________________________________\n"
     ]
    }
   ],
   "source": [
    "LR_model.summary()"
   ]
  },
  {
   "cell_type": "markdown",
   "id": "2ecf9ec8",
   "metadata": {},
   "source": [
    "## Train using DNN"
   ]
  },
  {
   "cell_type": "code",
   "execution_count": 107,
   "id": "0009d13e",
   "metadata": {},
   "outputs": [],
   "source": [
    "def build_and_compile_model(norm):\n",
    "  model = keras.Sequential([\n",
    "      norm,\n",
    "      layers.Dense(64, activation='relu'),\n",
    "      layers.Dense(64, activation='relu'),\n",
    "      layers.Dense(1)\n",
    "  ])\n",
    "\n",
    "  model.compile(loss='mean_absolute_error',\n",
    "                optimizer=tf.keras.optimizers.Adam(0.001))\n",
    "  return model"
   ]
  },
  {
   "cell_type": "code",
   "execution_count": 108,
   "id": "037d9bb7",
   "metadata": {
    "scrolled": true
   },
   "outputs": [
    {
     "name": "stdout",
     "output_type": "stream",
     "text": [
      "Model: \"sequential_4\"\n",
      "_________________________________________________________________\n",
      " Layer (type)                Output Shape              Param #   \n",
      "=================================================================\n",
      " normalization_2 (Normalizat  (None, 8)                17        \n",
      " ion)                                                            \n",
      "                                                                 \n",
      " dense_6 (Dense)             (None, 64)                576       \n",
      "                                                                 \n",
      " dense_7 (Dense)             (None, 64)                4160      \n",
      "                                                                 \n",
      " dense_8 (Dense)             (None, 1)                 65        \n",
      "                                                                 \n",
      "=================================================================\n",
      "Total params: 4,818\n",
      "Trainable params: 4,801\n",
      "Non-trainable params: 17\n",
      "_________________________________________________________________\n"
     ]
    }
   ],
   "source": [
    "dnn_model = build_and_compile_model(normalizer)\n",
    "dnn_model.summary()"
   ]
  },
  {
   "cell_type": "code",
   "execution_count": 109,
   "id": "905195a8",
   "metadata": {},
   "outputs": [],
   "source": [
    "checkpoint_path = \"DNN_model_all_class.ckpt\"\n",
    "checkpoint_dir = os.path.dirname(checkpoint_path)\n",
    "dnn_callback = tf.keras.callbacks.ModelCheckpoint(filepath=checkpoint_path,\n",
    "                                                 save_weights_only=True,\n",
    "                                                 verbose=1)"
   ]
  },
  {
   "cell_type": "code",
   "execution_count": null,
   "id": "bad7e667",
   "metadata": {},
   "outputs": [
    {
     "name": "stdout",
     "output_type": "stream",
     "text": [
      "\n",
      "Epoch 1: saving model to DNN_model_all_class.ckpt\n",
      "\n",
      "Epoch 2: saving model to DNN_model_all_class.ckpt\n",
      "\n",
      "Epoch 3: saving model to DNN_model_all_class.ckpt\n",
      "\n",
      "Epoch 4: saving model to DNN_model_all_class.ckpt\n",
      "\n",
      "Epoch 5: saving model to DNN_model_all_class.ckpt\n",
      "\n",
      "Epoch 6: saving model to DNN_model_all_class.ckpt\n",
      "\n",
      "Epoch 7: saving model to DNN_model_all_class.ckpt\n",
      "\n",
      "Epoch 8: saving model to DNN_model_all_class.ckpt\n",
      "\n",
      "Epoch 9: saving model to DNN_model_all_class.ckpt\n",
      "\n",
      "Epoch 10: saving model to DNN_model_all_class.ckpt\n",
      "\n",
      "Epoch 11: saving model to DNN_model_all_class.ckpt\n",
      "\n",
      "Epoch 12: saving model to DNN_model_all_class.ckpt\n",
      "\n",
      "Epoch 13: saving model to DNN_model_all_class.ckpt\n",
      "\n",
      "Epoch 14: saving model to DNN_model_all_class.ckpt\n",
      "\n",
      "Epoch 15: saving model to DNN_model_all_class.ckpt\n",
      "\n",
      "Epoch 16: saving model to DNN_model_all_class.ckpt\n",
      "\n",
      "Epoch 17: saving model to DNN_model_all_class.ckpt\n",
      "\n",
      "Epoch 18: saving model to DNN_model_all_class.ckpt\n",
      "\n",
      "Epoch 19: saving model to DNN_model_all_class.ckpt\n",
      "\n",
      "Epoch 20: saving model to DNN_model_all_class.ckpt\n",
      "\n",
      "Epoch 21: saving model to DNN_model_all_class.ckpt\n",
      "\n",
      "Epoch 22: saving model to DNN_model_all_class.ckpt\n",
      "\n",
      "Epoch 23: saving model to DNN_model_all_class.ckpt\n",
      "\n",
      "Epoch 24: saving model to DNN_model_all_class.ckpt\n",
      "\n",
      "Epoch 25: saving model to DNN_model_all_class.ckpt\n",
      "\n",
      "Epoch 26: saving model to DNN_model_all_class.ckpt\n",
      "\n",
      "Epoch 27: saving model to DNN_model_all_class.ckpt\n",
      "\n",
      "Epoch 28: saving model to DNN_model_all_class.ckpt\n",
      "\n",
      "Epoch 29: saving model to DNN_model_all_class.ckpt\n",
      "\n",
      "Epoch 30: saving model to DNN_model_all_class.ckpt\n",
      "\n",
      "Epoch 31: saving model to DNN_model_all_class.ckpt\n",
      "\n",
      "Epoch 32: saving model to DNN_model_all_class.ckpt\n",
      "\n",
      "Epoch 33: saving model to DNN_model_all_class.ckpt\n",
      "\n",
      "Epoch 34: saving model to DNN_model_all_class.ckpt\n",
      "\n",
      "Epoch 35: saving model to DNN_model_all_class.ckpt\n",
      "\n",
      "Epoch 36: saving model to DNN_model_all_class.ckpt\n",
      "\n",
      "Epoch 37: saving model to DNN_model_all_class.ckpt\n",
      "\n",
      "Epoch 38: saving model to DNN_model_all_class.ckpt\n",
      "\n",
      "Epoch 39: saving model to DNN_model_all_class.ckpt\n",
      "\n",
      "Epoch 40: saving model to DNN_model_all_class.ckpt\n",
      "\n",
      "Epoch 41: saving model to DNN_model_all_class.ckpt\n",
      "\n",
      "Epoch 42: saving model to DNN_model_all_class.ckpt\n",
      "\n",
      "Epoch 43: saving model to DNN_model_all_class.ckpt\n",
      "\n",
      "Epoch 44: saving model to DNN_model_all_class.ckpt\n",
      "\n",
      "Epoch 45: saving model to DNN_model_all_class.ckpt\n",
      "\n",
      "Epoch 46: saving model to DNN_model_all_class.ckpt\n",
      "\n",
      "Epoch 47: saving model to DNN_model_all_class.ckpt\n",
      "\n",
      "Epoch 48: saving model to DNN_model_all_class.ckpt\n",
      "\n",
      "Epoch 49: saving model to DNN_model_all_class.ckpt\n",
      "\n",
      "Epoch 50: saving model to DNN_model_all_class.ckpt\n",
      "\n",
      "Epoch 51: saving model to DNN_model_all_class.ckpt\n",
      "\n",
      "Epoch 52: saving model to DNN_model_all_class.ckpt\n",
      "\n",
      "Epoch 53: saving model to DNN_model_all_class.ckpt\n",
      "\n",
      "Epoch 54: saving model to DNN_model_all_class.ckpt\n",
      "\n",
      "Epoch 55: saving model to DNN_model_all_class.ckpt\n",
      "\n",
      "Epoch 56: saving model to DNN_model_all_class.ckpt\n",
      "\n",
      "Epoch 57: saving model to DNN_model_all_class.ckpt\n",
      "\n",
      "Epoch 58: saving model to DNN_model_all_class.ckpt\n",
      "\n",
      "Epoch 59: saving model to DNN_model_all_class.ckpt\n",
      "\n",
      "Epoch 60: saving model to DNN_model_all_class.ckpt\n",
      "\n",
      "Epoch 61: saving model to DNN_model_all_class.ckpt\n",
      "\n",
      "Epoch 62: saving model to DNN_model_all_class.ckpt\n",
      "\n",
      "Epoch 63: saving model to DNN_model_all_class.ckpt\n",
      "\n",
      "Epoch 64: saving model to DNN_model_all_class.ckpt\n",
      "\n",
      "Epoch 65: saving model to DNN_model_all_class.ckpt\n",
      "\n",
      "Epoch 66: saving model to DNN_model_all_class.ckpt\n",
      "\n",
      "Epoch 67: saving model to DNN_model_all_class.ckpt\n",
      "\n",
      "Epoch 68: saving model to DNN_model_all_class.ckpt\n",
      "\n",
      "Epoch 69: saving model to DNN_model_all_class.ckpt\n",
      "\n",
      "Epoch 70: saving model to DNN_model_all_class.ckpt\n",
      "\n",
      "Epoch 71: saving model to DNN_model_all_class.ckpt\n",
      "\n",
      "Epoch 72: saving model to DNN_model_all_class.ckpt\n",
      "\n",
      "Epoch 73: saving model to DNN_model_all_class.ckpt\n",
      "\n",
      "Epoch 74: saving model to DNN_model_all_class.ckpt\n",
      "\n",
      "Epoch 75: saving model to DNN_model_all_class.ckpt\n",
      "\n",
      "Epoch 76: saving model to DNN_model_all_class.ckpt\n",
      "\n",
      "Epoch 77: saving model to DNN_model_all_class.ckpt\n",
      "\n",
      "Epoch 78: saving model to DNN_model_all_class.ckpt\n",
      "\n",
      "Epoch 79: saving model to DNN_model_all_class.ckpt\n",
      "\n",
      "Epoch 80: saving model to DNN_model_all_class.ckpt\n",
      "\n",
      "Epoch 81: saving model to DNN_model_all_class.ckpt\n",
      "\n",
      "Epoch 82: saving model to DNN_model_all_class.ckpt\n",
      "\n",
      "Epoch 83: saving model to DNN_model_all_class.ckpt\n",
      "\n",
      "Epoch 84: saving model to DNN_model_all_class.ckpt\n",
      "\n",
      "Epoch 85: saving model to DNN_model_all_class.ckpt\n",
      "\n",
      "Epoch 86: saving model to DNN_model_all_class.ckpt\n",
      "\n",
      "Epoch 87: saving model to DNN_model_all_class.ckpt\n",
      "\n",
      "Epoch 88: saving model to DNN_model_all_class.ckpt\n",
      "\n",
      "Epoch 89: saving model to DNN_model_all_class.ckpt\n",
      "\n",
      "Epoch 90: saving model to DNN_model_all_class.ckpt\n",
      "\n",
      "Epoch 91: saving model to DNN_model_all_class.ckpt\n",
      "\n",
      "Epoch 92: saving model to DNN_model_all_class.ckpt\n",
      "\n",
      "Epoch 93: saving model to DNN_model_all_class.ckpt\n",
      "\n",
      "Epoch 94: saving model to DNN_model_all_class.ckpt\n",
      "\n",
      "Epoch 95: saving model to DNN_model_all_class.ckpt\n",
      "\n",
      "Epoch 96: saving model to DNN_model_all_class.ckpt\n",
      "\n",
      "Epoch 97: saving model to DNN_model_all_class.ckpt\n",
      "\n",
      "Epoch 98: saving model to DNN_model_all_class.ckpt\n",
      "\n",
      "Epoch 99: saving model to DNN_model_all_class.ckpt\n",
      "\n",
      "Epoch 100: saving model to DNN_model_all_class.ckpt\n"
     ]
    }
   ],
   "source": [
    "history = dnn_model.fit(\n",
    "    train_features,\n",
    "    train_labels,\n",
    "    validation_split=0.2,\n",
    "    verbose=0, epochs=100,\n",
    "    callbacks=[dnn_callback])"
   ]
  },
  {
   "cell_type": "code",
   "execution_count": 111,
   "id": "c0c7e41c",
   "metadata": {},
   "outputs": [
    {
     "name": "stdout",
     "output_type": "stream",
     "text": [
      "INFO:tensorflow:Assets written to: DNN_all_class/assets\n"
     ]
    }
   ],
   "source": [
    "dnn_model.save('DNN_all_class')\n"
   ]
  },
  {
   "cell_type": "code",
   "execution_count": 112,
   "id": "ea1f75ba",
   "metadata": {},
   "outputs": [
    {
     "data": {
      "text/plain": [
       "{'loss': [254.07647705078125], 'val_loss': [194.34872436523438]}"
      ]
     },
     "execution_count": 112,
     "metadata": {},
     "output_type": "execute_result"
    }
   ],
   "source": [
    "history.history"
   ]
  },
  {
   "cell_type": "code",
   "execution_count": null,
   "id": "89dbe31a",
   "metadata": {},
   "outputs": [],
   "source": []
  }
 ],
 "metadata": {
  "kernelspec": {
   "display_name": "Python 3 (ipykernel)",
   "language": "python",
   "name": "python3"
  },
  "language_info": {
   "codemirror_mode": {
    "name": "ipython",
    "version": 3
   },
   "file_extension": ".py",
   "mimetype": "text/x-python",
   "name": "python",
   "nbconvert_exporter": "python",
   "pygments_lexer": "ipython3",
   "version": "3.9.10"
  }
 },
 "nbformat": 4,
 "nbformat_minor": 5
}
