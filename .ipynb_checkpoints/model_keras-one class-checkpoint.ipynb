{
 "cells": [
  {
   "cell_type": "code",
   "execution_count": 1,
   "id": "1876d245",
   "metadata": {},
   "outputs": [
    {
     "name": "stdout",
     "output_type": "stream",
     "text": [
      "2.8.0\n"
     ]
    }
   ],
   "source": [
    "import matplotlib.pyplot as plt\n",
    "import numpy as np\n",
    "import pandas as pd\n",
    "import seaborn as sns\n",
    "import os\n",
    "import glob\n",
    "import statistics\n",
    "\n",
    "import tensorflow as tf\n",
    "\n",
    "from tensorflow import keras\n",
    "from tensorflow.keras import layers\n",
    "from numpy import sum as arraysum\n",
    "\n",
    "print(tf.__version__)\n",
    "\n",
    "# Make NumPy printouts easier to read.\n",
    "np.set_printoptions(precision=3, suppress=True)"
   ]
  },
  {
   "cell_type": "markdown",
   "id": "64fe431e",
   "metadata": {},
   "source": [
    "### Club all the traces together into a single dataframe"
   ]
  },
  {
   "cell_type": "code",
   "execution_count": null,
   "id": "4adecc06",
   "metadata": {},
   "outputs": [],
   "source": [
    "path = './traces/'# use your path\n",
    "#all_files = glob.glob(path + \"/*.h5\")\n",
    "all_files = glob.glob(path + \"/dpotrf_T_*_N_20k-*.prof.h5\")\n",
    "\n",
    "li = []\n",
    "\n",
    "for filename in all_files:\n",
    "    trace =  pd.HDFStore(filename)\n",
    "    data = trace.get('/events')\n",
    "    trace.close()\n",
    "    \n",
    "    li.append(data)\n",
    "\n",
    "df = pd.concat(li, axis=0, ignore_index=True)\n"
   ]
  },
  {
   "cell_type": "markdown",
   "id": "e8f0d6ba",
   "metadata": {},
   "source": [
    "# Clean the data"
   ]
  },
  {
   "cell_type": "code",
   "execution_count": null,
   "id": "702d9c40",
   "metadata": {},
   "outputs": [],
   "source": [
    "#remove info from other traces\n",
    "df_refined = df[['begin', 'end', 'taskpool_id', 'task_class_id','chore_id', 'nb_data_items', 'total_data_size', 'priority']].copy()\n",
    "df_refined['exec_time'] = (df['end'] - df['begin']) * .001 #0.001 nano seconds to micro seconds\n",
    "df_refined = df_refined.astype(float)"
   ]
  },
  {
   "cell_type": "code",
   "execution_count": null,
   "id": "dd301c4e",
   "metadata": {},
   "outputs": [],
   "source": [
    "df_class_name = {0: 'dpotrf', 1: 'dtrsm', 2: 'dsyrk', 3: 'dgemm'}"
   ]
  },
  {
   "cell_type": "code",
   "execution_count": 38,
   "id": "85b83021",
   "metadata": {},
   "outputs": [
    {
     "data": {
      "text/html": [
       "<div>\n",
       "<style scoped>\n",
       "    .dataframe tbody tr th:only-of-type {\n",
       "        vertical-align: middle;\n",
       "    }\n",
       "\n",
       "    .dataframe tbody tr th {\n",
       "        vertical-align: top;\n",
       "    }\n",
       "\n",
       "    .dataframe thead th {\n",
       "        text-align: right;\n",
       "    }\n",
       "</style>\n",
       "<table border=\"1\" class=\"dataframe\">\n",
       "  <thead>\n",
       "    <tr style=\"text-align: right;\">\n",
       "      <th></th>\n",
       "      <th>begin</th>\n",
       "      <th>end</th>\n",
       "      <th>taskpool_id</th>\n",
       "      <th>task_class_id</th>\n",
       "      <th>chore_id</th>\n",
       "      <th>nb_data_items</th>\n",
       "      <th>total_data_size</th>\n",
       "      <th>priority</th>\n",
       "      <th>exec_time</th>\n",
       "    </tr>\n",
       "  </thead>\n",
       "  <tbody>\n",
       "    <tr>\n",
       "      <th>2</th>\n",
       "      <td>1299741.0</td>\n",
       "      <td>8685016.0</td>\n",
       "      <td>2.0</td>\n",
       "      <td>1.0</td>\n",
       "      <td>0.0</td>\n",
       "      <td>2.0</td>\n",
       "      <td>5120000.0</td>\n",
       "      <td>0.0</td>\n",
       "      <td>7385.275</td>\n",
       "    </tr>\n",
       "    <tr>\n",
       "      <th>3</th>\n",
       "      <td>8691619.0</td>\n",
       "      <td>16162607.0</td>\n",
       "      <td>2.0</td>\n",
       "      <td>1.0</td>\n",
       "      <td>0.0</td>\n",
       "      <td>2.0</td>\n",
       "      <td>5120000.0</td>\n",
       "      <td>0.0</td>\n",
       "      <td>7470.988</td>\n",
       "    </tr>\n",
       "    <tr>\n",
       "      <th>4</th>\n",
       "      <td>16168584.0</td>\n",
       "      <td>24182129.0</td>\n",
       "      <td>2.0</td>\n",
       "      <td>1.0</td>\n",
       "      <td>0.0</td>\n",
       "      <td>2.0</td>\n",
       "      <td>5120000.0</td>\n",
       "      <td>0.0</td>\n",
       "      <td>8013.545</td>\n",
       "    </tr>\n",
       "    <tr>\n",
       "      <th>5</th>\n",
       "      <td>24188601.0</td>\n",
       "      <td>31603277.0</td>\n",
       "      <td>2.0</td>\n",
       "      <td>1.0</td>\n",
       "      <td>0.0</td>\n",
       "      <td>2.0</td>\n",
       "      <td>5120000.0</td>\n",
       "      <td>0.0</td>\n",
       "      <td>7414.676</td>\n",
       "    </tr>\n",
       "    <tr>\n",
       "      <th>6</th>\n",
       "      <td>31609242.0</td>\n",
       "      <td>39493451.0</td>\n",
       "      <td>2.0</td>\n",
       "      <td>1.0</td>\n",
       "      <td>0.0</td>\n",
       "      <td>2.0</td>\n",
       "      <td>5120000.0</td>\n",
       "      <td>0.0</td>\n",
       "      <td>7884.209</td>\n",
       "    </tr>\n",
       "  </tbody>\n",
       "</table>\n",
       "</div>"
      ],
      "text/plain": [
       "        begin         end  taskpool_id  task_class_id  chore_id  \\\n",
       "2   1299741.0   8685016.0          2.0            1.0       0.0   \n",
       "3   8691619.0  16162607.0          2.0            1.0       0.0   \n",
       "4  16168584.0  24182129.0          2.0            1.0       0.0   \n",
       "5  24188601.0  31603277.0          2.0            1.0       0.0   \n",
       "6  31609242.0  39493451.0          2.0            1.0       0.0   \n",
       "\n",
       "   nb_data_items  total_data_size  priority  exec_time  \n",
       "2            2.0        5120000.0       0.0   7385.275  \n",
       "3            2.0        5120000.0       0.0   7470.988  \n",
       "4            2.0        5120000.0       0.0   8013.545  \n",
       "5            2.0        5120000.0       0.0   7414.676  \n",
       "6            2.0        5120000.0       0.0   7884.209  "
      ]
     },
     "execution_count": 38,
     "metadata": {},
     "output_type": "execute_result"
    }
   ],
   "source": [
    "filter = ( (df_refined['task_class_id'] == 3 )  ( df_refined['priority'] >= 0 ) )\n",
    "#remove all other classes other than dpotrf, dgemm, trsm and syrk\n",
    "df_refined = df_refined[filter]\n",
    "df_refined.head()"
   ]
  },
  {
   "cell_type": "code",
   "execution_count": 111,
   "id": "dbf07c58",
   "metadata": {},
   "outputs": [],
   "source": [
    "df_class = {}\n",
    "for i in df_refined['task_class_id'].unique():\n",
    "    df_class[i] = df_refined[df_refined['task_class_id'] == i]\n",
    "    "
   ]
  },
  {
   "cell_type": "markdown",
   "id": "2408c99a",
   "metadata": {},
   "source": [
    "### remove outliers"
   ]
  },
  {
   "cell_type": "code",
   "execution_count": 112,
   "id": "488dde91",
   "metadata": {},
   "outputs": [],
   "source": [
    "df_class_new = {}\n",
    "for i in df_refined['task_class_id'].unique():\n",
    "    title = df_class_name[i]\n",
    "    Q1 = df_class[i]['exec_time'].quantile(0.25)\n",
    "    Q3 = df_class[i]['exec_time'].quantile(0.75)\n",
    "    IQR = Q3 - Q1    #IQR is interquartile range.\n",
    "    filter = (df_class[i]['exec_time'] >= Q1 - 1.5 * IQR) & (df_class[i]['exec_time'] <= Q3 + 1.5 *IQR)\n",
    "    df_class_new[i] = df_class[i].loc[filter]\n",
    "    df_class_new[i] = df_class_new[i].astype(float)\n",
    "    #plt.figure()\n",
    "    #sns.displot(df_new, x=\"exec_time\", hue='total_data_size', binwidth=5e2)\n",
    "    #plt.title(title)\n",
    "#plt.show()"
   ]
  },
  {
   "cell_type": "markdown",
   "id": "f9b5ba8b",
   "metadata": {},
   "source": [
    "## integrate likelihood of the data being in cash.\n",
    "we assume that all the task whose execution time is in the first quartile could have had all its data in the cache. While, the rest of the tasks would have resulted in a cache flush. While predicting we assume that the that the data of the task is not in the cache "
   ]
  },
  {
   "cell_type": "code",
   "execution_count": 113,
   "id": "7287608d",
   "metadata": {},
   "outputs": [],
   "source": [
    "\n",
    "for i in df_refined['task_class_id'].unique():\n",
    "    Q1 = df_class_new[i]['exec_time'].quantile(0.25)\n",
    "    Q3 = df_class_new[i]['exec_time'].quantile(0.75)\n",
    "    IQR = Q3 - Q1    #IQR is interquartile range.\n",
    "    df_class_new[i]['cache_likelihood'] = np.where(df_class_new[i]['exec_time'] < Q1, 1, 0)"
   ]
  },
  {
   "cell_type": "code",
   "execution_count": 115,
   "id": "f78281dc",
   "metadata": {},
   "outputs": [
    {
     "data": {
      "text/html": [
       "<div>\n",
       "<style scoped>\n",
       "    .dataframe tbody tr th:only-of-type {\n",
       "        vertical-align: middle;\n",
       "    }\n",
       "\n",
       "    .dataframe tbody tr th {\n",
       "        vertical-align: top;\n",
       "    }\n",
       "\n",
       "    .dataframe thead th {\n",
       "        text-align: right;\n",
       "    }\n",
       "</style>\n",
       "<table border=\"1\" class=\"dataframe\">\n",
       "  <thead>\n",
       "    <tr style=\"text-align: right;\">\n",
       "      <th></th>\n",
       "      <th>begin</th>\n",
       "      <th>end</th>\n",
       "      <th>taskpool_id</th>\n",
       "      <th>task_class_id</th>\n",
       "      <th>chore_id</th>\n",
       "      <th>nb_data_items</th>\n",
       "      <th>total_data_size</th>\n",
       "      <th>priority</th>\n",
       "      <th>exec_time</th>\n",
       "      <th>cache_likelihood</th>\n",
       "    </tr>\n",
       "  </thead>\n",
       "  <tbody>\n",
       "    <tr>\n",
       "      <th>4444</th>\n",
       "      <td>8.497909e+10</td>\n",
       "      <td>8.510934e+10</td>\n",
       "      <td>4.0</td>\n",
       "      <td>3.0</td>\n",
       "      <td>0.0</td>\n",
       "      <td>3.0</td>\n",
       "      <td>15360000.0</td>\n",
       "      <td>50.0</td>\n",
       "      <td>130243.928</td>\n",
       "      <td>0</td>\n",
       "    </tr>\n",
       "    <tr>\n",
       "      <th>4445</th>\n",
       "      <td>8.510936e+10</td>\n",
       "      <td>8.523962e+10</td>\n",
       "      <td>4.0</td>\n",
       "      <td>3.0</td>\n",
       "      <td>0.0</td>\n",
       "      <td>3.0</td>\n",
       "      <td>15360000.0</td>\n",
       "      <td>49.0</td>\n",
       "      <td>130261.962</td>\n",
       "      <td>0</td>\n",
       "    </tr>\n",
       "    <tr>\n",
       "      <th>4446</th>\n",
       "      <td>8.523965e+10</td>\n",
       "      <td>8.536988e+10</td>\n",
       "      <td>4.0</td>\n",
       "      <td>3.0</td>\n",
       "      <td>0.0</td>\n",
       "      <td>3.0</td>\n",
       "      <td>15360000.0</td>\n",
       "      <td>43.0</td>\n",
       "      <td>130234.336</td>\n",
       "      <td>0</td>\n",
       "    </tr>\n",
       "    <tr>\n",
       "      <th>4447</th>\n",
       "      <td>8.536995e+10</td>\n",
       "      <td>8.550032e+10</td>\n",
       "      <td>4.0</td>\n",
       "      <td>3.0</td>\n",
       "      <td>0.0</td>\n",
       "      <td>3.0</td>\n",
       "      <td>15360000.0</td>\n",
       "      <td>37.0</td>\n",
       "      <td>130375.590</td>\n",
       "      <td>0</td>\n",
       "    </tr>\n",
       "    <tr>\n",
       "      <th>4453</th>\n",
       "      <td>8.626220e+10</td>\n",
       "      <td>8.639252e+10</td>\n",
       "      <td>4.0</td>\n",
       "      <td>3.0</td>\n",
       "      <td>0.0</td>\n",
       "      <td>3.0</td>\n",
       "      <td>15360000.0</td>\n",
       "      <td>43.0</td>\n",
       "      <td>130322.776</td>\n",
       "      <td>0</td>\n",
       "    </tr>\n",
       "  </tbody>\n",
       "</table>\n",
       "</div>"
      ],
      "text/plain": [
       "             begin           end  taskpool_id  task_class_id  chore_id  \\\n",
       "4444  8.497909e+10  8.510934e+10          4.0            3.0       0.0   \n",
       "4445  8.510936e+10  8.523962e+10          4.0            3.0       0.0   \n",
       "4446  8.523965e+10  8.536988e+10          4.0            3.0       0.0   \n",
       "4447  8.536995e+10  8.550032e+10          4.0            3.0       0.0   \n",
       "4453  8.626220e+10  8.639252e+10          4.0            3.0       0.0   \n",
       "\n",
       "      nb_data_items  total_data_size  priority   exec_time  cache_likelihood  \n",
       "4444            3.0       15360000.0      50.0  130243.928                 0  \n",
       "4445            3.0       15360000.0      49.0  130261.962                 0  \n",
       "4446            3.0       15360000.0      43.0  130234.336                 0  \n",
       "4447            3.0       15360000.0      37.0  130375.590                 0  \n",
       "4453            3.0       15360000.0      43.0  130322.776                 0  "
      ]
     },
     "execution_count": 115,
     "metadata": {},
     "output_type": "execute_result"
    }
   ],
   "source": [
    "df_class_new[3].tail()"
   ]
  },
  {
   "cell_type": "code",
   "execution_count": 116,
   "id": "91079655",
   "metadata": {},
   "outputs": [
    {
     "data": {
      "text/html": [
       "<div>\n",
       "<style scoped>\n",
       "    .dataframe tbody tr th:only-of-type {\n",
       "        vertical-align: middle;\n",
       "    }\n",
       "\n",
       "    .dataframe tbody tr th {\n",
       "        vertical-align: top;\n",
       "    }\n",
       "\n",
       "    .dataframe thead th {\n",
       "        text-align: right;\n",
       "    }\n",
       "</style>\n",
       "<table border=\"1\" class=\"dataframe\">\n",
       "  <thead>\n",
       "    <tr style=\"text-align: right;\">\n",
       "      <th></th>\n",
       "      <th>begin</th>\n",
       "      <th>end</th>\n",
       "      <th>taskpool_id</th>\n",
       "      <th>task_class_id</th>\n",
       "      <th>chore_id</th>\n",
       "      <th>nb_data_items</th>\n",
       "      <th>total_data_size</th>\n",
       "      <th>priority</th>\n",
       "      <th>exec_time</th>\n",
       "      <th>cache_likelihood</th>\n",
       "    </tr>\n",
       "  </thead>\n",
       "  <tbody>\n",
       "    <tr>\n",
       "      <th>2327</th>\n",
       "      <td>1.235361e+09</td>\n",
       "      <td>1.365244e+09</td>\n",
       "      <td>4.0</td>\n",
       "      <td>3.0</td>\n",
       "      <td>0.0</td>\n",
       "      <td>3.0</td>\n",
       "      <td>15360000.0</td>\n",
       "      <td>9663.0</td>\n",
       "      <td>129883.223</td>\n",
       "      <td>1</td>\n",
       "    </tr>\n",
       "    <tr>\n",
       "      <th>2329</th>\n",
       "      <td>1.446044e+09</td>\n",
       "      <td>1.575589e+09</td>\n",
       "      <td>4.0</td>\n",
       "      <td>3.0</td>\n",
       "      <td>0.0</td>\n",
       "      <td>3.0</td>\n",
       "      <td>15360000.0</td>\n",
       "      <td>9399.0</td>\n",
       "      <td>129545.657</td>\n",
       "      <td>1</td>\n",
       "    </tr>\n",
       "    <tr>\n",
       "      <th>2331</th>\n",
       "      <td>1.650713e+09</td>\n",
       "      <td>1.780657e+09</td>\n",
       "      <td>4.0</td>\n",
       "      <td>3.0</td>\n",
       "      <td>0.0</td>\n",
       "      <td>3.0</td>\n",
       "      <td>15360000.0</td>\n",
       "      <td>8264.0</td>\n",
       "      <td>129944.084</td>\n",
       "      <td>1</td>\n",
       "    </tr>\n",
       "    <tr>\n",
       "      <th>2332</th>\n",
       "      <td>1.780687e+09</td>\n",
       "      <td>1.910167e+09</td>\n",
       "      <td>4.0</td>\n",
       "      <td>3.0</td>\n",
       "      <td>0.0</td>\n",
       "      <td>3.0</td>\n",
       "      <td>15360000.0</td>\n",
       "      <td>8258.0</td>\n",
       "      <td>129479.827</td>\n",
       "      <td>1</td>\n",
       "    </tr>\n",
       "    <tr>\n",
       "      <th>2334</th>\n",
       "      <td>1.976625e+09</td>\n",
       "      <td>2.106612e+09</td>\n",
       "      <td>4.0</td>\n",
       "      <td>3.0</td>\n",
       "      <td>0.0</td>\n",
       "      <td>3.0</td>\n",
       "      <td>15360000.0</td>\n",
       "      <td>8252.0</td>\n",
       "      <td>129986.397</td>\n",
       "      <td>1</td>\n",
       "    </tr>\n",
       "    <tr>\n",
       "      <th>...</th>\n",
       "      <td>...</td>\n",
       "      <td>...</td>\n",
       "      <td>...</td>\n",
       "      <td>...</td>\n",
       "      <td>...</td>\n",
       "      <td>...</td>\n",
       "      <td>...</td>\n",
       "      <td>...</td>\n",
       "      <td>...</td>\n",
       "      <td>...</td>\n",
       "    </tr>\n",
       "    <tr>\n",
       "      <th>4427</th>\n",
       "      <td>8.320691e+10</td>\n",
       "      <td>8.333697e+10</td>\n",
       "      <td>4.0</td>\n",
       "      <td>3.0</td>\n",
       "      <td>0.0</td>\n",
       "      <td>3.0</td>\n",
       "      <td>15360000.0</td>\n",
       "      <td>80.0</td>\n",
       "      <td>130061.462</td>\n",
       "      <td>1</td>\n",
       "    </tr>\n",
       "    <tr>\n",
       "      <th>4430</th>\n",
       "      <td>8.353466e+10</td>\n",
       "      <td>8.366486e+10</td>\n",
       "      <td>4.0</td>\n",
       "      <td>3.0</td>\n",
       "      <td>0.0</td>\n",
       "      <td>3.0</td>\n",
       "      <td>15360000.0</td>\n",
       "      <td>75.0</td>\n",
       "      <td>130196.339</td>\n",
       "      <td>1</td>\n",
       "    </tr>\n",
       "    <tr>\n",
       "      <th>4432</th>\n",
       "      <td>8.373195e+10</td>\n",
       "      <td>8.386215e+10</td>\n",
       "      <td>4.0</td>\n",
       "      <td>3.0</td>\n",
       "      <td>0.0</td>\n",
       "      <td>3.0</td>\n",
       "      <td>15360000.0</td>\n",
       "      <td>73.0</td>\n",
       "      <td>130195.047</td>\n",
       "      <td>1</td>\n",
       "    </tr>\n",
       "    <tr>\n",
       "      <th>4436</th>\n",
       "      <td>8.412661e+10</td>\n",
       "      <td>8.425679e+10</td>\n",
       "      <td>4.0</td>\n",
       "      <td>3.0</td>\n",
       "      <td>0.0</td>\n",
       "      <td>3.0</td>\n",
       "      <td>15360000.0</td>\n",
       "      <td>67.0</td>\n",
       "      <td>130177.740</td>\n",
       "      <td>1</td>\n",
       "    </tr>\n",
       "    <tr>\n",
       "      <th>4439</th>\n",
       "      <td>8.445428e+10</td>\n",
       "      <td>8.458448e+10</td>\n",
       "      <td>4.0</td>\n",
       "      <td>3.0</td>\n",
       "      <td>0.0</td>\n",
       "      <td>3.0</td>\n",
       "      <td>15360000.0</td>\n",
       "      <td>61.0</td>\n",
       "      <td>130191.769</td>\n",
       "      <td>1</td>\n",
       "    </tr>\n",
       "  </tbody>\n",
       "</table>\n",
       "<p>571 rows × 10 columns</p>\n",
       "</div>"
      ],
      "text/plain": [
       "             begin           end  taskpool_id  task_class_id  chore_id  \\\n",
       "2327  1.235361e+09  1.365244e+09          4.0            3.0       0.0   \n",
       "2329  1.446044e+09  1.575589e+09          4.0            3.0       0.0   \n",
       "2331  1.650713e+09  1.780657e+09          4.0            3.0       0.0   \n",
       "2332  1.780687e+09  1.910167e+09          4.0            3.0       0.0   \n",
       "2334  1.976625e+09  2.106612e+09          4.0            3.0       0.0   \n",
       "...            ...           ...          ...            ...       ...   \n",
       "4427  8.320691e+10  8.333697e+10          4.0            3.0       0.0   \n",
       "4430  8.353466e+10  8.366486e+10          4.0            3.0       0.0   \n",
       "4432  8.373195e+10  8.386215e+10          4.0            3.0       0.0   \n",
       "4436  8.412661e+10  8.425679e+10          4.0            3.0       0.0   \n",
       "4439  8.445428e+10  8.458448e+10          4.0            3.0       0.0   \n",
       "\n",
       "      nb_data_items  total_data_size  priority   exec_time  cache_likelihood  \n",
       "2327            3.0       15360000.0    9663.0  129883.223                 1  \n",
       "2329            3.0       15360000.0    9399.0  129545.657                 1  \n",
       "2331            3.0       15360000.0    8264.0  129944.084                 1  \n",
       "2332            3.0       15360000.0    8258.0  129479.827                 1  \n",
       "2334            3.0       15360000.0    8252.0  129986.397                 1  \n",
       "...             ...              ...       ...         ...               ...  \n",
       "4427            3.0       15360000.0      80.0  130061.462                 1  \n",
       "4430            3.0       15360000.0      75.0  130196.339                 1  \n",
       "4432            3.0       15360000.0      73.0  130195.047                 1  \n",
       "4436            3.0       15360000.0      67.0  130177.740                 1  \n",
       "4439            3.0       15360000.0      61.0  130191.769                 1  \n",
       "\n",
       "[571 rows x 10 columns]"
      ]
     },
     "execution_count": 116,
     "metadata": {},
     "output_type": "execute_result"
    }
   ],
   "source": [
    "df_class_new[3][df_class_new[3]['cache_likelihood'] == 1]#.total_data_siz"
   ]
  },
  {
   "cell_type": "markdown",
   "id": "2d92631e",
   "metadata": {},
   "source": [
    "### Divide the data to training and test sets (GEMM)"
   ]
  },
  {
   "cell_type": "code",
   "execution_count": 117,
   "id": "ba0e62a5",
   "metadata": {},
   "outputs": [
    {
     "name": "stdout",
     "output_type": "stream",
     "text": [
      "(1826, 10)\n",
      "(457, 10)\n"
     ]
    }
   ],
   "source": [
    "train_dataset = df_class_new[3].sample(frac=0.8, random_state=0)\n",
    "test_dataset = df_class_new[3].drop(train_dataset.index)\n",
    "print(train_dataset.shape)\n",
    "print(test_dataset.shape)"
   ]
  },
  {
   "cell_type": "markdown",
   "id": "6c46d7eb",
   "metadata": {},
   "source": [
    "## Divide the data into trainig features and labels"
   ]
  },
  {
   "cell_type": "code",
   "execution_count": 118,
   "id": "34d95040",
   "metadata": {},
   "outputs": [],
   "source": [
    "train_features = train_dataset.copy()\n",
    "test_features = test_dataset.copy()\n",
    "\n",
    "train_labels = train_features.pop('exec_time')\n",
    "test_labels = test_features.pop('exec_time')"
   ]
  },
  {
   "cell_type": "code",
   "execution_count": 119,
   "id": "5f16f1a2",
   "metadata": {},
   "outputs": [
    {
     "data": {
      "text/html": [
       "<div>\n",
       "<style scoped>\n",
       "    .dataframe tbody tr th:only-of-type {\n",
       "        vertical-align: middle;\n",
       "    }\n",
       "\n",
       "    .dataframe tbody tr th {\n",
       "        vertical-align: top;\n",
       "    }\n",
       "\n",
       "    .dataframe thead th {\n",
       "        text-align: right;\n",
       "    }\n",
       "</style>\n",
       "<table border=\"1\" class=\"dataframe\">\n",
       "  <thead>\n",
       "    <tr style=\"text-align: right;\">\n",
       "      <th></th>\n",
       "      <th>count</th>\n",
       "      <th>mean</th>\n",
       "      <th>std</th>\n",
       "      <th>min</th>\n",
       "      <th>25%</th>\n",
       "      <th>50%</th>\n",
       "      <th>75%</th>\n",
       "      <th>max</th>\n",
       "    </tr>\n",
       "  </thead>\n",
       "  <tbody>\n",
       "    <tr>\n",
       "      <th>begin</th>\n",
       "      <td>1826.0</td>\n",
       "      <td>4.458933e+10</td>\n",
       "      <td>2.441406e+10</td>\n",
       "      <td>823436996.0</td>\n",
       "      <td>2.358370e+10</td>\n",
       "      <td>4.477177e+10</td>\n",
       "      <td>6.568322e+10</td>\n",
       "      <td>8.811452e+10</td>\n",
       "    </tr>\n",
       "    <tr>\n",
       "      <th>end</th>\n",
       "      <td>1826.0</td>\n",
       "      <td>4.472123e+10</td>\n",
       "      <td>2.441411e+10</td>\n",
       "      <td>954193327.0</td>\n",
       "      <td>2.371476e+10</td>\n",
       "      <td>4.490383e+10</td>\n",
       "      <td>6.581636e+10</td>\n",
       "      <td>8.824438e+10</td>\n",
       "    </tr>\n",
       "    <tr>\n",
       "      <th>taskpool_id</th>\n",
       "      <td>1826.0</td>\n",
       "      <td>4.000000e+00</td>\n",
       "      <td>0.000000e+00</td>\n",
       "      <td>4.0</td>\n",
       "      <td>4.000000e+00</td>\n",
       "      <td>4.000000e+00</td>\n",
       "      <td>4.000000e+00</td>\n",
       "      <td>4.000000e+00</td>\n",
       "    </tr>\n",
       "    <tr>\n",
       "      <th>task_class_id</th>\n",
       "      <td>1826.0</td>\n",
       "      <td>3.000000e+00</td>\n",
       "      <td>0.000000e+00</td>\n",
       "      <td>3.0</td>\n",
       "      <td>3.000000e+00</td>\n",
       "      <td>3.000000e+00</td>\n",
       "      <td>3.000000e+00</td>\n",
       "      <td>3.000000e+00</td>\n",
       "    </tr>\n",
       "    <tr>\n",
       "      <th>chore_id</th>\n",
       "      <td>1826.0</td>\n",
       "      <td>0.000000e+00</td>\n",
       "      <td>0.000000e+00</td>\n",
       "      <td>0.0</td>\n",
       "      <td>0.000000e+00</td>\n",
       "      <td>0.000000e+00</td>\n",
       "      <td>0.000000e+00</td>\n",
       "      <td>0.000000e+00</td>\n",
       "    </tr>\n",
       "    <tr>\n",
       "      <th>nb_data_items</th>\n",
       "      <td>1826.0</td>\n",
       "      <td>3.000000e+00</td>\n",
       "      <td>0.000000e+00</td>\n",
       "      <td>3.0</td>\n",
       "      <td>3.000000e+00</td>\n",
       "      <td>3.000000e+00</td>\n",
       "      <td>3.000000e+00</td>\n",
       "      <td>3.000000e+00</td>\n",
       "    </tr>\n",
       "    <tr>\n",
       "      <th>total_data_size</th>\n",
       "      <td>1826.0</td>\n",
       "      <td>1.536000e+07</td>\n",
       "      <td>0.000000e+00</td>\n",
       "      <td>15360000.0</td>\n",
       "      <td>1.536000e+07</td>\n",
       "      <td>1.536000e+07</td>\n",
       "      <td>1.536000e+07</td>\n",
       "      <td>1.536000e+07</td>\n",
       "    </tr>\n",
       "    <tr>\n",
       "      <th>priority</th>\n",
       "      <td>1826.0</td>\n",
       "      <td>1.206334e+03</td>\n",
       "      <td>1.471413e+03</td>\n",
       "      <td>13.0</td>\n",
       "      <td>3.130000e+02</td>\n",
       "      <td>7.175000e+02</td>\n",
       "      <td>1.457000e+03</td>\n",
       "      <td>1.231100e+04</td>\n",
       "    </tr>\n",
       "    <tr>\n",
       "      <th>cache_likelihood</th>\n",
       "      <td>1826.0</td>\n",
       "      <td>2.447974e-01</td>\n",
       "      <td>4.300848e-01</td>\n",
       "      <td>0.0</td>\n",
       "      <td>0.000000e+00</td>\n",
       "      <td>0.000000e+00</td>\n",
       "      <td>0.000000e+00</td>\n",
       "      <td>1.000000e+00</td>\n",
       "    </tr>\n",
       "  </tbody>\n",
       "</table>\n",
       "</div>"
      ],
      "text/plain": [
       "                   count          mean           std          min  \\\n",
       "begin             1826.0  4.458933e+10  2.441406e+10  823436996.0   \n",
       "end               1826.0  4.472123e+10  2.441411e+10  954193327.0   \n",
       "taskpool_id       1826.0  4.000000e+00  0.000000e+00          4.0   \n",
       "task_class_id     1826.0  3.000000e+00  0.000000e+00          3.0   \n",
       "chore_id          1826.0  0.000000e+00  0.000000e+00          0.0   \n",
       "nb_data_items     1826.0  3.000000e+00  0.000000e+00          3.0   \n",
       "total_data_size   1826.0  1.536000e+07  0.000000e+00   15360000.0   \n",
       "priority          1826.0  1.206334e+03  1.471413e+03         13.0   \n",
       "cache_likelihood  1826.0  2.447974e-01  4.300848e-01          0.0   \n",
       "\n",
       "                           25%           50%           75%           max  \n",
       "begin             2.358370e+10  4.477177e+10  6.568322e+10  8.811452e+10  \n",
       "end               2.371476e+10  4.490383e+10  6.581636e+10  8.824438e+10  \n",
       "taskpool_id       4.000000e+00  4.000000e+00  4.000000e+00  4.000000e+00  \n",
       "task_class_id     3.000000e+00  3.000000e+00  3.000000e+00  3.000000e+00  \n",
       "chore_id          0.000000e+00  0.000000e+00  0.000000e+00  0.000000e+00  \n",
       "nb_data_items     3.000000e+00  3.000000e+00  3.000000e+00  3.000000e+00  \n",
       "total_data_size   1.536000e+07  1.536000e+07  1.536000e+07  1.536000e+07  \n",
       "priority          3.130000e+02  7.175000e+02  1.457000e+03  1.231100e+04  \n",
       "cache_likelihood  0.000000e+00  0.000000e+00  0.000000e+00  1.000000e+00  "
      ]
     },
     "execution_count": 119,
     "metadata": {},
     "output_type": "execute_result"
    }
   ],
   "source": [
    "train_features.describe().transpose()"
   ]
  },
  {
   "cell_type": "markdown",
   "id": "695ac3df",
   "metadata": {},
   "source": [
    "# -------------------Build the multi variate full model------------------------------"
   ]
  },
  {
   "cell_type": "markdown",
   "id": "b1ea8c13",
   "metadata": {},
   "source": [
    "## select the required features from the list"
   ]
  },
  {
   "cell_type": "code",
   "execution_count": 120,
   "id": "9dd6a6c3",
   "metadata": {},
   "outputs": [
    {
     "data": {
      "text/html": [
       "<div>\n",
       "<style scoped>\n",
       "    .dataframe tbody tr th:only-of-type {\n",
       "        vertical-align: middle;\n",
       "    }\n",
       "\n",
       "    .dataframe tbody tr th {\n",
       "        vertical-align: top;\n",
       "    }\n",
       "\n",
       "    .dataframe thead th {\n",
       "        text-align: right;\n",
       "    }\n",
       "</style>\n",
       "<table border=\"1\" class=\"dataframe\">\n",
       "  <thead>\n",
       "    <tr style=\"text-align: right;\">\n",
       "      <th></th>\n",
       "      <th>total_data_size</th>\n",
       "      <th>cache_likelihood</th>\n",
       "    </tr>\n",
       "  </thead>\n",
       "  <tbody>\n",
       "    <tr>\n",
       "      <th>2724</th>\n",
       "      <td>15360000.0</td>\n",
       "      <td>0</td>\n",
       "    </tr>\n",
       "    <tr>\n",
       "      <th>2396</th>\n",
       "      <td>15360000.0</td>\n",
       "      <td>1</td>\n",
       "    </tr>\n",
       "    <tr>\n",
       "      <th>2030</th>\n",
       "      <td>15360000.0</td>\n",
       "      <td>0</td>\n",
       "    </tr>\n",
       "    <tr>\n",
       "      <th>293</th>\n",
       "      <td>15360000.0</td>\n",
       "      <td>0</td>\n",
       "    </tr>\n",
       "    <tr>\n",
       "      <th>2860</th>\n",
       "      <td>15360000.0</td>\n",
       "      <td>1</td>\n",
       "    </tr>\n",
       "  </tbody>\n",
       "</table>\n",
       "</div>"
      ],
      "text/plain": [
       "      total_data_size  cache_likelihood\n",
       "2724       15360000.0                 0\n",
       "2396       15360000.0                 1\n",
       "2030       15360000.0                 0\n",
       "293        15360000.0                 0\n",
       "2860       15360000.0                 1"
      ]
     },
     "execution_count": 120,
     "metadata": {},
     "output_type": "execute_result"
    }
   ],
   "source": [
    "## for the time being select only total_data_size, priority, diff task_classes and diff taskpools\n",
    "\n",
    "#train_features = train_features.drop('end', 1)\n",
    "#train_features = train_features.drop('end', 1)\n",
    "train_features = train_features.drop(['chore_id', 'begin', 'end', 'task_class_id', 'taskpool_id', 'nb_data_items', 'priority'], axis = 1)\n",
    "test_features = test_features.drop(['chore_id', 'begin', 'end', 'task_class_id', 'taskpool_id', 'nb_data_items', 'priority'], axis = 1)\n",
    "train_features.head()\n"
   ]
  },
  {
   "cell_type": "code",
   "execution_count": 121,
   "id": "5033b55f",
   "metadata": {},
   "outputs": [],
   "source": [
    "normalizer = tf.keras.layers.Normalization(axis=-1)\n",
    "#normalizer = layers.Normalization(input_shape=[1,], axis=None)\n",
    "normalizer.adapt(np.array(train_features))"
   ]
  },
  {
   "cell_type": "code",
   "execution_count": 122,
   "id": "d39d3614",
   "metadata": {},
   "outputs": [],
   "source": [
    "\n",
    "\n",
    "full_model = tf.keras.Sequential([\n",
    "    normalizer,\n",
    "    layers.Dense(units=1)\n",
    "])"
   ]
  },
  {
   "cell_type": "code",
   "execution_count": 123,
   "id": "c5871033",
   "metadata": {},
   "outputs": [
    {
     "name": "stdout",
     "output_type": "stream",
     "text": [
      "[]\n"
     ]
    }
   ],
   "source": [
    "full_model.compile(\n",
    "    optimizer=tf.optimizers.Adam(learning_rate=0.1),\n",
    "    loss='mse', metrics=[tf.keras.metrics.Accuracy()])\n",
    "print(full_model.metrics_names)"
   ]
  },
  {
   "cell_type": "markdown",
   "id": "64c75b10",
   "metadata": {},
   "source": [
    "## Train the model"
   ]
  },
  {
   "cell_type": "code",
   "execution_count": 124,
   "id": "d8e6b329",
   "metadata": {},
   "outputs": [],
   "source": [
    "history = full_model.fit(\n",
    "    train_features,\n",
    "    train_labels,\n",
    "    epochs=100,\n",
    "    # Suppress logging.\n",
    "    verbose=0,\n",
    "    # Calculate validation results on 20% of the training data.\n",
    "    validation_split = 0.2)"
   ]
  },
  {
   "cell_type": "code",
   "execution_count": 148,
   "id": "957a8b37",
   "metadata": {},
   "outputs": [
    {
     "name": "stdout",
     "output_type": "stream",
     "text": [
      "<class 'keras.callbacks.History'>\n",
      "dict_keys(['loss', 'val_loss'])\n",
      "<class 'list'>\n",
      "100\n"
     ]
    }
   ],
   "source": [
    "print(type(history))\n",
    "print(history.history.keys())\n",
    "print(type(history.history['loss']))\n",
    "print(len(history.history['loss']))"
   ]
  },
  {
   "cell_type": "code",
   "execution_count": 150,
   "id": "35acdfbe",
   "metadata": {},
   "outputs": [],
   "source": []
  },
  {
   "cell_type": "code",
   "execution_count": 125,
   "id": "99839a36",
   "metadata": {},
   "outputs": [
    {
     "data": {
      "image/png": "[encoded data removed]",
      "text/plain": [
       "<Figure size 432x288 with 1 Axes>"
      ]
     },
     "metadata": {
      "needs_background": "light"
     },
     "output_type": "display_data"
    }
   ],
   "source": [
    "def plot_loss(history):\n",
    "  plt.plot(history.history['loss'], label='loss')\n",
    "  plt.plot(history.history['val_loss'], label='val_loss')\n",
    "  plt.ylim([0, 10])\n",
    "  plt.xlabel('Epoch')\n",
    "  plt.ylabel('Error [total_data_size]')\n",
    "  plt.legend()\n",
    "  plt.grid(True)\n",
    "\n",
    "plot_loss(history)"
   ]
  },
  {
   "cell_type": "code",
   "execution_count": 126,
   "id": "2ad48f74",
   "metadata": {},
   "outputs": [
    {
     "name": "stdout",
     "output_type": "stream",
     "text": [
      "Model: \"sequential_5\"\n",
      "_________________________________________________________________\n",
      " Layer (type)                Output Shape              Param #   \n",
      "=================================================================\n",
      " normalization_7 (Normalizat  (None, 2)                5         \n",
      " ion)                                                            \n",
      "                                                                 \n",
      " dense_5 (Dense)             (None, 1)                 3         \n",
      "                                                                 \n",
      "=================================================================\n",
      "Total params: 8\n",
      "Trainable params: 3\n",
      "Non-trainable params: 5\n",
      "_________________________________________________________________\n"
     ]
    }
   ],
   "source": [
    "full_model.summary()"
   ]
  },
  {
   "cell_type": "code",
   "execution_count": 127,
   "id": "07867eb1",
   "metadata": {},
   "outputs": [
    {
     "data": {
      "text/html": [
       "<div>\n",
       "<style scoped>\n",
       "    .dataframe tbody tr th:only-of-type {\n",
       "        vertical-align: middle;\n",
       "    }\n",
       "\n",
       "    .dataframe tbody tr th {\n",
       "        vertical-align: top;\n",
       "    }\n",
       "\n",
       "    .dataframe thead th {\n",
       "        text-align: right;\n",
       "    }\n",
       "</style>\n",
       "<table border=\"1\" class=\"dataframe\">\n",
       "  <thead>\n",
       "    <tr style=\"text-align: right;\">\n",
       "      <th></th>\n",
       "      <th>loss</th>\n",
       "      <th>accuracy</th>\n",
       "      <th>val_loss</th>\n",
       "      <th>val_accuracy</th>\n",
       "      <th>epoch</th>\n",
       "    </tr>\n",
       "  </thead>\n",
       "  <tbody>\n",
       "    <tr>\n",
       "      <th>95</th>\n",
       "      <td>1.723268e+10</td>\n",
       "      <td>0.0</td>\n",
       "      <td>1.722204e+10</td>\n",
       "      <td>0.0</td>\n",
       "      <td>95</td>\n",
       "    </tr>\n",
       "    <tr>\n",
       "      <th>96</th>\n",
       "      <td>1.723091e+10</td>\n",
       "      <td>0.0</td>\n",
       "      <td>1.722026e+10</td>\n",
       "      <td>0.0</td>\n",
       "      <td>96</td>\n",
       "    </tr>\n",
       "    <tr>\n",
       "      <th>97</th>\n",
       "      <td>1.722912e+10</td>\n",
       "      <td>0.0</td>\n",
       "      <td>1.721848e+10</td>\n",
       "      <td>0.0</td>\n",
       "      <td>97</td>\n",
       "    </tr>\n",
       "    <tr>\n",
       "      <th>98</th>\n",
       "      <td>1.722734e+10</td>\n",
       "      <td>0.0</td>\n",
       "      <td>1.721669e+10</td>\n",
       "      <td>0.0</td>\n",
       "      <td>98</td>\n",
       "    </tr>\n",
       "    <tr>\n",
       "      <th>99</th>\n",
       "      <td>1.722556e+10</td>\n",
       "      <td>0.0</td>\n",
       "      <td>1.721492e+10</td>\n",
       "      <td>0.0</td>\n",
       "      <td>99</td>\n",
       "    </tr>\n",
       "  </tbody>\n",
       "</table>\n",
       "</div>"
      ],
      "text/plain": [
       "            loss  accuracy      val_loss  val_accuracy  epoch\n",
       "95  1.723268e+10       0.0  1.722204e+10           0.0     95\n",
       "96  1.723091e+10       0.0  1.722026e+10           0.0     96\n",
       "97  1.722912e+10       0.0  1.721848e+10           0.0     97\n",
       "98  1.722734e+10       0.0  1.721669e+10           0.0     98\n",
       "99  1.722556e+10       0.0  1.721492e+10           0.0     99"
      ]
     },
     "execution_count": 127,
     "metadata": {},
     "output_type": "execute_result"
    }
   ],
   "source": [
    "hist = pd.DataFrame(history.history)\n",
    "hist['epoch'] = history.epoch\n",
    "hist.tail()"
   ]
  },
  {
   "cell_type": "markdown",
   "id": "c4246341",
   "metadata": {},
   "source": [
    "## Test the Model "
   ]
  },
  {
   "cell_type": "code",
   "execution_count": 157,
   "id": "ab576026",
   "metadata": {},
   "outputs": [
    {
     "name": "stdout",
     "output_type": "stream",
     "text": [
      "4/4 [==============================] - 0s 6ms/step - loss: 17191874560.0000 - accuracy: 0.0000e+00\n",
      "<class 'list'>\n",
      "[17191874560.0, 0.0]\n"
     ]
    }
   ],
   "source": [
    "#test_results = {}\n",
    "#test_results['full_model'] = full_model.evaluate(\n",
    "#    test_features, test_labels, verbose=0)\n",
    "#loss, acc = full_model.evaluate(test_features, test_labels, verbose=2)\n",
    "#print(test_results['full_model'])\n",
    "\n",
    "loss = full_model.evaluate(test_features, test_labels, batch_size=128)\n",
    "print(type(loss))\n",
    "print(loss)"
   ]
  },
  {
   "cell_type": "code",
   "execution_count": 172,
   "id": "e451fcc9",
   "metadata": {},
   "outputs": [
    {
     "name": "stdout",
     "output_type": "stream",
     "text": [
      "Min 129490.868\n",
      "Max 136247.159\n"
     ]
    }
   ],
   "source": [
    "predicted = full_model.predict(test_features)\n",
    "\n",
    "min_ = test_labels.min()\n",
    "print('Min '+ str(min_))\n",
    "max_ = test_labels.max()\n",
    "print('Max '+ str(max_))\n"
   ]
  },
  {
   "cell_type": "code",
   "execution_count": 190,
   "id": "ec48956c",
   "metadata": {},
   "outputs": [
    {
     "name": "stdout",
     "output_type": "stream",
     "text": [
      "<class 'numpy.ndarray'>\n",
      "<class 'list'>\n",
      "<class 'pandas.core.series.Series'>\n",
      "<class 'list'>\n"
     ]
    }
   ],
   "source": [
    "print(type(predicted))\n",
    "predicted_list = [j for sub in  predicted.tolist() for j in sub]\n",
    "print(type(predicted_list))\n",
    "print(type(test_labels))\n",
    "actual_list = test_labels.tolist()\n",
    "print(type(actual_list))"
   ]
  },
  {
   "cell_type": "code",
   "execution_count": 208,
   "id": "7ba9c66b",
   "metadata": {},
   "outputs": [
    {
     "name": "stdout",
     "output_type": "stream",
     "text": [
      "3300.9057757108253\n"
     ]
    }
   ],
   "source": [
    "\n",
    "stdev = statistics.pstdev([i-j for i, j in zip(predicted_list, actual_list)])\n",
    "interval = 1.96 * stdev\n",
    "\n",
    "print(interval)"
   ]
  },
  {
   "cell_type": "markdown",
   "id": "2ecf9ec8",
   "metadata": {},
   "source": [
    "## Train using DNN"
   ]
  },
  {
   "cell_type": "code",
   "execution_count": 209,
   "id": "0009d13e",
   "metadata": {},
   "outputs": [],
   "source": [
    "def build_and_compile_model(norm):\n",
    "  model = keras.Sequential([\n",
    "      norm,\n",
    "      layers.Dense(64, activation='relu'),\n",
    "      layers.Dense(64, activation='relu'),\n",
    "      layers.Dense(1)\n",
    "  ])\n",
    "\n",
    "  model.compile(loss='mean_absolute_error',\n",
    "                optimizer=tf.keras.optimizers.Adam(0.001))\n",
    "  return model"
   ]
  },
  {
   "cell_type": "code",
   "execution_count": 199,
   "id": "037d9bb7",
   "metadata": {},
   "outputs": [
    {
     "name": "stdout",
     "output_type": "stream",
     "text": [
      "Model: \"sequential_7\"\n",
      "_________________________________________________________________\n",
      " Layer (type)                Output Shape              Param #   \n",
      "=================================================================\n",
      " normalization_7 (Normalizat  (None, 2)                5         \n",
      " ion)                                                            \n",
      "                                                                 \n",
      " dense_9 (Dense)             (None, 64)                192       \n",
      "                                                                 \n",
      " dense_10 (Dense)            (None, 64)                4160      \n",
      "                                                                 \n",
      " dense_11 (Dense)            (None, 1)                 65        \n",
      "                                                                 \n",
      "=================================================================\n",
      "Total params: 4,422\n",
      "Trainable params: 4,417\n",
      "Non-trainable params: 5\n",
      "_________________________________________________________________\n"
     ]
    }
   ],
   "source": [
    "dnn_model = build_and_compile_model(normalizer)\n",
    "dnn_model.summary()"
   ]
  },
  {
   "cell_type": "code",
   "execution_count": 200,
   "id": "bad7e667",
   "metadata": {},
   "outputs": [],
   "source": [
    "history = dnn_model.fit(\n",
    "    train_features,\n",
    "    train_labels,\n",
    "    validation_split=0.2,\n",
    "    verbose=0, epochs=100)"
   ]
  },
  {
   "cell_type": "code",
   "execution_count": 201,
   "id": "54934a4c",
   "metadata": {},
   "outputs": [
    {
     "data": {
      "image/png": "[encoded data removed]",
      "text/plain": [
       "<Figure size 432x288 with 1 Axes>"
      ]
     },
     "metadata": {
      "needs_background": "light"
     },
     "output_type": "display_data"
    }
   ],
   "source": [
    "plot_loss(history)"
   ]
  },
  {
   "cell_type": "markdown",
   "id": "246fdb1e",
   "metadata": {},
   "source": [
    "## Test the model"
   ]
  },
  {
   "cell_type": "code",
   "execution_count": 202,
   "id": "33f7c792",
   "metadata": {},
   "outputs": [
    {
     "name": "stdout",
     "output_type": "stream",
     "text": [
      "4/4 [==============================] - 0s 2ms/step - loss: 17191874560.0000 - accuracy: 0.0000e+00\n",
      "[17191874560.0, 0.0]\n"
     ]
    }
   ],
   "source": [
    "loss = full_model.evaluate(test_features, test_labels, batch_size=128)\n",
    "print(loss)"
   ]
  },
  {
   "cell_type": "code",
   "execution_count": 136,
   "id": "c4680e41",
   "metadata": {},
   "outputs": [
    {
     "name": "stdout",
     "output_type": "stream",
     "text": [
      "[[133127.7]]\n",
      "129490.868\n",
      "136247.159\n"
     ]
    }
   ],
   "source": [
    "print(dnn_model.predict([15360000.0, 0]))\n",
    "print(test_labels.min())\n",
    "print(test_labels.max())"
   ]
  },
  {
   "cell_type": "code",
   "execution_count": 211,
   "id": "36ede51f",
   "metadata": {},
   "outputs": [
    {
     "name": "stdout",
     "output_type": "stream",
     "text": [
      "[[130139.09]]\n",
      "129490.868\n",
      "136247.159\n"
     ]
    }
   ],
   "source": [
    "pred = dnn_model.predict([15360000.0, 1])\n",
    "print(pred)\n",
    "print(test_labels.min())\n",
    "print(test_labels.max())\n",
    "\n",
    "lower, upper = pred - interval, pred + interval"
   ]
  },
  {
   "cell_type": "code",
   "execution_count": 214,
   "id": "cd3db16e",
   "metadata": {},
   "outputs": [
    {
     "name": "stdout",
     "output_type": "stream",
     "text": [
      "95% likelihood that the true value is between 126838.188 and 133440.000\n",
      "True value: 133465.470\n"
     ]
    }
   ],
   "source": [
    "print('95%% likelihood that the true value is between %.3f and %.3f' % (lower, upper))\n",
    "print('True value: %.3f' % actual_list[0])"
   ]
  },
  {
   "cell_type": "code",
   "execution_count": null,
   "id": "6d4bc419",
   "metadata": {},
   "outputs": [],
   "source": []
  }
 ],
 "metadata": {
  "kernelspec": {
   "display_name": "Python 3 (ipykernel)",
   "language": "python",
   "name": "python3"
  },
  "language_info": {
   "codemirror_mode": {
    "name": "ipython",
    "version": 3
   },
   "file_extension": ".py",
   "mimetype": "text/x-python",
   "name": "python",
   "nbconvert_exporter": "python",
   "pygments_lexer": "ipython3",
   "version": "3.9.10"
  }
 },
 "nbformat": 4,
 "nbformat_minor": 5
}
