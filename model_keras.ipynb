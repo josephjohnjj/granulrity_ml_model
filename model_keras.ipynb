{
 "cells": [
  {
   "cell_type": "code",
   "execution_count": 409,
   "id": "1876d245",
   "metadata": {},
   "outputs": [
    {
     "name": "stdout",
     "output_type": "stream",
     "text": [
      "2.8.0\n"
     ]
    }
   ],
   "source": [
    "import matplotlib.pyplot as plt\n",
    "import numpy as np\n",
    "import pandas as pd\n",
    "import seaborn as sns\n",
    "import os\n",
    "import glob\n",
    "\n",
    "import tensorflow as tf\n",
    "\n",
    "from tensorflow import keras\n",
    "from tensorflow.keras import layers\n",
    "\n",
    "print(tf.__version__)\n",
    "\n",
    "# Make NumPy printouts easier to read.\n",
    "np.set_printoptions(precision=3, suppress=True)"
   ]
  },
  {
   "cell_type": "markdown",
   "id": "64fe431e",
   "metadata": {},
   "source": [
    "### Club all the traces together into a single dataframe"
   ]
  },
  {
   "cell_type": "code",
   "execution_count": 410,
   "id": "4adecc06",
   "metadata": {},
   "outputs": [],
   "source": [
    "path = './traces/'# use your path\n",
    "all_files = glob.glob(path + \"/*.h5\")\n",
    "\n",
    "li = []\n",
    "\n",
    "for filename in all_files:\n",
    "    trace =  pd.HDFStore(filename)\n",
    "    data = trace.get('/events')\n",
    "    trace.close()\n",
    "    \n",
    "    li.append(data)\n",
    "\n",
    "df = pd.concat(li, axis=0, ignore_index=True)\n"
   ]
  },
  {
   "cell_type": "code",
   "execution_count": 411,
   "id": "09af1aed",
   "metadata": {},
   "outputs": [
    {
     "name": "stdout",
     "output_type": "stream",
     "text": [
      "  type   id nb_data_items stream_id flags node_id chore_id total_data_size  \\\n",
      "0    3    0             0         0     1       1        0               0   \n",
      "1    3    0             0         0     1       1        0               0   \n",
      "2    3    1             2         0     1       1        0               0   \n",
      "3    3   76             2         0     1       1        0               0   \n",
      "4    3  226             2         0     1       1        0               0   \n",
      "\n",
      "  task_class_id taskpool_id       end     begin priority  tid tcid msg_size  \\\n",
      "0             5           2     58693     56000       -1  NaN  NaN      NaN   \n",
      "1             4           2   1347796     60284       -1  NaN  NaN      NaN   \n",
      "2             1           2   8699232   1352975        0  NaN  NaN      NaN   \n",
      "3             1           2  16728234   8706044        0  NaN  NaN      NaN   \n",
      "4             1           2  24272737  16734689        0  NaN  NaN      NaN   \n",
      "\n",
      "   src tpid  dst  \n",
      "0  NaN  NaN  NaN  \n",
      "1  NaN  NaN  NaN  \n",
      "2  NaN  NaN  NaN  \n",
      "3  NaN  NaN  NaN  \n",
      "4  NaN  NaN  NaN  \n",
      "(425897, 19)\n"
     ]
    }
   ],
   "source": [
    "print(df.head())\n",
    "print(df.shape)"
   ]
  },
  {
   "cell_type": "markdown",
   "id": "e8f0d6ba",
   "metadata": {},
   "source": [
    "# Clean the data"
   ]
  },
  {
   "cell_type": "code",
   "execution_count": 412,
   "id": "702d9c40",
   "metadata": {},
   "outputs": [],
   "source": [
    "#remove info from other traces\n",
    "df_refined = df[['begin', 'end', 'taskpool_id', 'task_class_id','chore_id', 'nb_data_items', 'total_data_size', 'priority']].copy()\n",
    "df_refined['exec_time'] = df['end'] - df['begin']\n",
    "\n"
   ]
  },
  {
   "cell_type": "code",
   "execution_count": 413,
   "id": "54bdce89",
   "metadata": {},
   "outputs": [
    {
     "name": "stdout",
     "output_type": "stream",
     "text": [
      "      begin       end taskpool_id task_class_id chore_id nb_data_items  \\\n",
      "2   1352975   8699232           2             1        0             2   \n",
      "3   8706044  16728234           2             1        0             2   \n",
      "4  16734689  24272737           2             1        0             2   \n",
      "5  24278334  32289685           2             1        0             2   \n",
      "6  32295483  39697575           2             1        0             2   \n",
      "\n",
      "  total_data_size priority exec_time  \n",
      "2               0        0   7346257  \n",
      "3               0        0   8022190  \n",
      "4               0        0   7538048  \n",
      "5               0        0   8011351  \n",
      "6               0        0   7402092  \n",
      "(380147, 9)\n"
     ]
    },
    {
     "data": {
      "text/plain": [
       "begin              True\n",
       "end                True\n",
       "taskpool_id        True\n",
       "task_class_id      True\n",
       "chore_id           True\n",
       "nb_data_items      True\n",
       "total_data_size    True\n",
       "priority           True\n",
       "exec_time          True\n",
       "dtype: bool"
      ]
     },
     "execution_count": 413,
     "metadata": {},
     "output_type": "execute_result"
    }
   ],
   "source": [
    "# remove unwanted values\n",
    "df_refined.dropna()\n",
    "df_refined = df_refined[df_refined.priority > -1]\n",
    "df_refined = df_refined[df_refined.taskpool_id > -1]\n",
    "print(df_refined.head())\n",
    "print(df_refined.shape)\n",
    "\n",
    "#check all the values in the df is numeric\n",
    "df_refined.apply(lambda s: pd.to_numeric(s, errors='coerce').notnull().all())\n",
    "\n",
    "#if(df_refined.isnull().values.any()):\n",
    "#    df_refined.dropna()\n"
   ]
  },
  {
   "cell_type": "markdown",
   "id": "8bbc6dd7",
   "metadata": {},
   "source": [
    "###  task_class_id and  taskpool_id are catogorical data. So it has to be transformed using dummies"
   ]
  },
  {
   "cell_type": "code",
   "execution_count": 375,
   "id": "cc4b1690",
   "metadata": {},
   "outputs": [
    {
     "name": "stderr",
     "output_type": "stream",
     "text": [
      "/usr/local/lib/python3.9/site-packages/pandas/core/algorithms.py:798: FutureWarning: In a future version, the Index constructor will not infer numeric dtypes when passed object-dtype sequences (matching Series behavior)\n",
      "  uniques = Index(uniques)\n",
      "/usr/local/lib/python3.9/site-packages/pandas/core/algorithms.py:798: FutureWarning: In a future version, the Index constructor will not infer numeric dtypes when passed object-dtype sequences (matching Series behavior)\n",
      "  uniques = Index(uniques)\n"
     ]
    }
   ],
   "source": [
    "df_refined = pd.get_dummies(df_refined, prefix='task_class_', columns=['task_class_id'], prefix_sep='')\n",
    "df_refined = pd.get_dummies(df_refined, prefix='task_pool_', columns=['taskpool_id'], prefix_sep='')"
   ]
  },
  {
   "cell_type": "code",
   "execution_count": 376,
   "id": "59cefc14",
   "metadata": {},
   "outputs": [],
   "source": [
    "#df_refined.apply(lambda s: pd.to_numeric(s, errors='coerce').notnull().all())\n",
    "# select the float columns\n",
    "#df_num = df.select_dtypes(include=[np.float])\n",
    "#print(df_num)\n",
    "# select non-numeric columns\n",
    "#df_num = df_refined.select_dtypes(exclude=[np.number])\n",
    "#print(df_num)"
   ]
  },
  {
   "cell_type": "code",
   "execution_count": 377,
   "id": "58d273a5",
   "metadata": {},
   "outputs": [],
   "source": [
    "#df_refined = data_refined.astype(float)\n",
    "df_refined = df_refined.apply(pd.to_numeric, errors='coerce')\n",
    "#print(df_refined.head())\n",
    "#df_refined.apply(lambda s: pd.to_numeric(s, errors='coerce').notnull().all())"
   ]
  },
  {
   "cell_type": "code",
   "execution_count": 314,
   "id": "80b7f7f5",
   "metadata": {},
   "outputs": [],
   "source": [
    "#data_refined.columns[~data_refined.columns.duplicated()]\n",
    "#data_refined.columns.is_unique\n",
    "#data_refined.index.duplicated()\n",
    "#data_refined.index = data_refined.index.where(~data_refined.index.duplicated(), data_refined.index + 10)\n",
    "#data_refined.index.duplicated()"
   ]
  },
  {
   "cell_type": "markdown",
   "id": "28c787af",
   "metadata": {},
   "source": [
    "### Divide the data to training and data sets"
   ]
  },
  {
   "cell_type": "code",
   "execution_count": 378,
   "id": "ba0e62a5",
   "metadata": {},
   "outputs": [
    {
     "name": "stdout",
     "output_type": "stream",
     "text": [
      "(304118, 14)\n",
      "(76029, 14)\n"
     ]
    }
   ],
   "source": [
    "train_dataset = df_refined.sample(frac=0.8, random_state=0)\n",
    "test_dataset = df_refined.drop(train_dataset.index)\n",
    "print(train_dataset.shape)\n",
    "print(test_dataset.shape)"
   ]
  },
  {
   "cell_type": "code",
   "execution_count": 379,
   "id": "9dc8745f",
   "metadata": {},
   "outputs": [],
   "source": [
    "#train_dataset.head()\n",
    "#train_dataset.isnull().values.any()\n",
    "#train_dataset.apply(lambda s: pd.to_numeric(s, errors='coerce').notnull().all())"
   ]
  },
  {
   "cell_type": "code",
   "execution_count": 380,
   "id": "aa072176",
   "metadata": {},
   "outputs": [],
   "source": [
    "#train_dataset.apply(lambda s: pd.to_numeric(s, errors='coerce').notnull().all())"
   ]
  },
  {
   "cell_type": "markdown",
   "id": "3f9527f5",
   "metadata": {},
   "source": [
    "## Data description"
   ]
  },
  {
   "cell_type": "code",
   "execution_count": 381,
   "id": "66ad7e6b",
   "metadata": {},
   "outputs": [],
   "source": [
    "#sns.pairplot(train_dataset[['exec_time', 'begin', 'end', 'taskpool_id', 'task_class_id','chore_id', 'nb_data_items', 'total_data_size', 'priority']], diag_kind='kde')\n",
    "#sns.pairplot(train_dataset[['exec_time','total_data_size', 'chore_id', 'nb_data_items', 'priority']], diag_kind='kde')\n",
    "\n"
   ]
  },
  {
   "cell_type": "code",
   "execution_count": 383,
   "id": "503711d6",
   "metadata": {},
   "outputs": [],
   "source": [
    "#train_dataset.transpose().describe()"
   ]
  },
  {
   "cell_type": "markdown",
   "id": "9b4c3e10",
   "metadata": {},
   "source": [
    "## Divide the data into trainig features and labels"
   ]
  },
  {
   "cell_type": "code",
   "execution_count": 384,
   "id": "34d95040",
   "metadata": {},
   "outputs": [],
   "source": [
    "train_features = train_dataset.copy()\n",
    "test_features = test_dataset.copy()\n",
    "\n",
    "train_labels = train_features.pop('exec_time')\n",
    "test_labels = test_features.pop('exec_time')"
   ]
  },
  {
   "cell_type": "code",
   "execution_count": 385,
   "id": "a7d50bdb",
   "metadata": {},
   "outputs": [
    {
     "data": {
      "text/html": [
       "<div>\n",
       "<style scoped>\n",
       "    .dataframe tbody tr th:only-of-type {\n",
       "        vertical-align: middle;\n",
       "    }\n",
       "\n",
       "    .dataframe tbody tr th {\n",
       "        vertical-align: top;\n",
       "    }\n",
       "\n",
       "    .dataframe thead th {\n",
       "        text-align: right;\n",
       "    }\n",
       "</style>\n",
       "<table border=\"1\" class=\"dataframe\">\n",
       "  <thead>\n",
       "    <tr style=\"text-align: right;\">\n",
       "      <th></th>\n",
       "      <th>count</th>\n",
       "      <th>mean</th>\n",
       "      <th>std</th>\n",
       "      <th>min</th>\n",
       "      <th>25%</th>\n",
       "      <th>50%</th>\n",
       "      <th>75%</th>\n",
       "      <th>max</th>\n",
       "    </tr>\n",
       "  </thead>\n",
       "  <tbody>\n",
       "    <tr>\n",
       "      <th>begin</th>\n",
       "      <td>304118.0</td>\n",
       "      <td>2.336290e+11</td>\n",
       "      <td>2.220619e+11</td>\n",
       "      <td>113754.0</td>\n",
       "      <td>5.845145e+10</td>\n",
       "      <td>1.601811e+11</td>\n",
       "      <td>3.435423e+11</td>\n",
       "      <td>8.305551e+11</td>\n",
       "    </tr>\n",
       "    <tr>\n",
       "      <th>end</th>\n",
       "      <td>304118.0</td>\n",
       "      <td>2.336422e+11</td>\n",
       "      <td>2.220658e+11</td>\n",
       "      <td>843836.0</td>\n",
       "      <td>5.845883e+10</td>\n",
       "      <td>1.601857e+11</td>\n",
       "      <td>3.435589e+11</td>\n",
       "      <td>8.305585e+11</td>\n",
       "    </tr>\n",
       "    <tr>\n",
       "      <th>chore_id</th>\n",
       "      <td>304118.0</td>\n",
       "      <td>0.000000e+00</td>\n",
       "      <td>0.000000e+00</td>\n",
       "      <td>0.0</td>\n",
       "      <td>0.000000e+00</td>\n",
       "      <td>0.000000e+00</td>\n",
       "      <td>0.000000e+00</td>\n",
       "      <td>0.000000e+00</td>\n",
       "    </tr>\n",
       "    <tr>\n",
       "      <th>nb_data_items</th>\n",
       "      <td>304118.0</td>\n",
       "      <td>2.906684e+00</td>\n",
       "      <td>2.964289e-01</td>\n",
       "      <td>0.0</td>\n",
       "      <td>3.000000e+00</td>\n",
       "      <td>3.000000e+00</td>\n",
       "      <td>3.000000e+00</td>\n",
       "      <td>3.000000e+00</td>\n",
       "    </tr>\n",
       "    <tr>\n",
       "      <th>total_data_size</th>\n",
       "      <td>304118.0</td>\n",
       "      <td>8.068626e+05</td>\n",
       "      <td>1.177754e+06</td>\n",
       "      <td>0.0</td>\n",
       "      <td>0.000000e+00</td>\n",
       "      <td>0.000000e+00</td>\n",
       "      <td>1.280000e+06</td>\n",
       "      <td>1.024000e+07</td>\n",
       "    </tr>\n",
       "    <tr>\n",
       "      <th>priority</th>\n",
       "      <td>304118.0</td>\n",
       "      <td>5.404704e+04</td>\n",
       "      <td>9.814905e+04</td>\n",
       "      <td>0.0</td>\n",
       "      <td>4.704000e+03</td>\n",
       "      <td>1.593600e+04</td>\n",
       "      <td>5.315725e+04</td>\n",
       "      <td>1.000000e+06</td>\n",
       "    </tr>\n",
       "    <tr>\n",
       "      <th>task_class_0</th>\n",
       "      <td>304118.0</td>\n",
       "      <td>7.069624e-04</td>\n",
       "      <td>2.657941e-02</td>\n",
       "      <td>0.0</td>\n",
       "      <td>0.000000e+00</td>\n",
       "      <td>0.000000e+00</td>\n",
       "      <td>0.000000e+00</td>\n",
       "      <td>1.000000e+00</td>\n",
       "    </tr>\n",
       "    <tr>\n",
       "      <th>task_class_1</th>\n",
       "      <td>304118.0</td>\n",
       "      <td>6.023320e-02</td>\n",
       "      <td>2.379188e-01</td>\n",
       "      <td>0.0</td>\n",
       "      <td>0.000000e+00</td>\n",
       "      <td>0.000000e+00</td>\n",
       "      <td>0.000000e+00</td>\n",
       "      <td>1.000000e+00</td>\n",
       "    </tr>\n",
       "    <tr>\n",
       "      <th>task_class_2</th>\n",
       "      <td>304118.0</td>\n",
       "      <td>3.074465e-02</td>\n",
       "      <td>1.726253e-01</td>\n",
       "      <td>0.0</td>\n",
       "      <td>0.000000e+00</td>\n",
       "      <td>0.000000e+00</td>\n",
       "      <td>0.000000e+00</td>\n",
       "      <td>1.000000e+00</td>\n",
       "    </tr>\n",
       "    <tr>\n",
       "      <th>task_class_3</th>\n",
       "      <td>304118.0</td>\n",
       "      <td>9.082560e-01</td>\n",
       "      <td>2.886647e-01</td>\n",
       "      <td>0.0</td>\n",
       "      <td>1.000000e+00</td>\n",
       "      <td>1.000000e+00</td>\n",
       "      <td>1.000000e+00</td>\n",
       "      <td>1.000000e+00</td>\n",
       "    </tr>\n",
       "    <tr>\n",
       "      <th>task_class_4</th>\n",
       "      <td>304118.0</td>\n",
       "      <td>5.918755e-05</td>\n",
       "      <td>7.693130e-03</td>\n",
       "      <td>0.0</td>\n",
       "      <td>0.000000e+00</td>\n",
       "      <td>0.000000e+00</td>\n",
       "      <td>0.000000e+00</td>\n",
       "      <td>1.000000e+00</td>\n",
       "    </tr>\n",
       "    <tr>\n",
       "      <th>task_pool_2</th>\n",
       "      <td>304118.0</td>\n",
       "      <td>3.090248e-02</td>\n",
       "      <td>1.730538e-01</td>\n",
       "      <td>0.0</td>\n",
       "      <td>0.000000e+00</td>\n",
       "      <td>0.000000e+00</td>\n",
       "      <td>0.000000e+00</td>\n",
       "      <td>1.000000e+00</td>\n",
       "    </tr>\n",
       "    <tr>\n",
       "      <th>task_pool_4</th>\n",
       "      <td>304118.0</td>\n",
       "      <td>9.690975e-01</td>\n",
       "      <td>1.730538e-01</td>\n",
       "      <td>0.0</td>\n",
       "      <td>1.000000e+00</td>\n",
       "      <td>1.000000e+00</td>\n",
       "      <td>1.000000e+00</td>\n",
       "      <td>1.000000e+00</td>\n",
       "    </tr>\n",
       "  </tbody>\n",
       "</table>\n",
       "</div>"
      ],
      "text/plain": [
       "                    count          mean           std       min           25%  \\\n",
       "begin            304118.0  2.336290e+11  2.220619e+11  113754.0  5.845145e+10   \n",
       "end              304118.0  2.336422e+11  2.220658e+11  843836.0  5.845883e+10   \n",
       "chore_id         304118.0  0.000000e+00  0.000000e+00       0.0  0.000000e+00   \n",
       "nb_data_items    304118.0  2.906684e+00  2.964289e-01       0.0  3.000000e+00   \n",
       "total_data_size  304118.0  8.068626e+05  1.177754e+06       0.0  0.000000e+00   \n",
       "priority         304118.0  5.404704e+04  9.814905e+04       0.0  4.704000e+03   \n",
       "task_class_0     304118.0  7.069624e-04  2.657941e-02       0.0  0.000000e+00   \n",
       "task_class_1     304118.0  6.023320e-02  2.379188e-01       0.0  0.000000e+00   \n",
       "task_class_2     304118.0  3.074465e-02  1.726253e-01       0.0  0.000000e+00   \n",
       "task_class_3     304118.0  9.082560e-01  2.886647e-01       0.0  1.000000e+00   \n",
       "task_class_4     304118.0  5.918755e-05  7.693130e-03       0.0  0.000000e+00   \n",
       "task_pool_2      304118.0  3.090248e-02  1.730538e-01       0.0  0.000000e+00   \n",
       "task_pool_4      304118.0  9.690975e-01  1.730538e-01       0.0  1.000000e+00   \n",
       "\n",
       "                          50%           75%           max  \n",
       "begin            1.601811e+11  3.435423e+11  8.305551e+11  \n",
       "end              1.601857e+11  3.435589e+11  8.305585e+11  \n",
       "chore_id         0.000000e+00  0.000000e+00  0.000000e+00  \n",
       "nb_data_items    3.000000e+00  3.000000e+00  3.000000e+00  \n",
       "total_data_size  0.000000e+00  1.280000e+06  1.024000e+07  \n",
       "priority         1.593600e+04  5.315725e+04  1.000000e+06  \n",
       "task_class_0     0.000000e+00  0.000000e+00  1.000000e+00  \n",
       "task_class_1     0.000000e+00  0.000000e+00  1.000000e+00  \n",
       "task_class_2     0.000000e+00  0.000000e+00  1.000000e+00  \n",
       "task_class_3     1.000000e+00  1.000000e+00  1.000000e+00  \n",
       "task_class_4     0.000000e+00  0.000000e+00  1.000000e+00  \n",
       "task_pool_2      0.000000e+00  0.000000e+00  1.000000e+00  \n",
       "task_pool_4      1.000000e+00  1.000000e+00  1.000000e+00  "
      ]
     },
     "execution_count": 385,
     "metadata": {},
     "output_type": "execute_result"
    }
   ],
   "source": [
    "train_features.describe().transpose()"
   ]
  },
  {
   "cell_type": "code",
   "execution_count": 350,
   "id": "3db52bbc",
   "metadata": {},
   "outputs": [
    {
     "data": {
      "text/html": [
       "<div>\n",
       "<style scoped>\n",
       "    .dataframe tbody tr th:only-of-type {\n",
       "        vertical-align: middle;\n",
       "    }\n",
       "\n",
       "    .dataframe tbody tr th {\n",
       "        vertical-align: top;\n",
       "    }\n",
       "\n",
       "    .dataframe thead th {\n",
       "        text-align: right;\n",
       "    }\n",
       "</style>\n",
       "<table border=\"1\" class=\"dataframe\">\n",
       "  <thead>\n",
       "    <tr style=\"text-align: right;\">\n",
       "      <th></th>\n",
       "      <th>begin</th>\n",
       "      <th>end</th>\n",
       "      <th>chore_id</th>\n",
       "      <th>nb_data_items</th>\n",
       "      <th>total_data_size</th>\n",
       "      <th>priority</th>\n",
       "      <th>task_class_0</th>\n",
       "      <th>task_class_1</th>\n",
       "      <th>task_class_2</th>\n",
       "      <th>task_class_3</th>\n",
       "      <th>task_class_4</th>\n",
       "      <th>task_pool_2</th>\n",
       "      <th>task_pool_4</th>\n",
       "    </tr>\n",
       "  </thead>\n",
       "  <tbody>\n",
       "    <tr>\n",
       "      <th>81342</th>\n",
       "      <td>435261423394</td>\n",
       "      <td>435278316211</td>\n",
       "      <td>0</td>\n",
       "      <td>3</td>\n",
       "      <td>0</td>\n",
       "      <td>15385</td>\n",
       "      <td>0</td>\n",
       "      <td>0</td>\n",
       "      <td>0</td>\n",
       "      <td>1</td>\n",
       "      <td>0</td>\n",
       "      <td>0</td>\n",
       "      <td>1</td>\n",
       "    </tr>\n",
       "    <tr>\n",
       "      <th>67905</th>\n",
       "      <td>183151088802</td>\n",
       "      <td>183167948493</td>\n",
       "      <td>0</td>\n",
       "      <td>3</td>\n",
       "      <td>0</td>\n",
       "      <td>65204</td>\n",
       "      <td>0</td>\n",
       "      <td>0</td>\n",
       "      <td>0</td>\n",
       "      <td>1</td>\n",
       "      <td>0</td>\n",
       "      <td>0</td>\n",
       "      <td>1</td>\n",
       "    </tr>\n",
       "    <tr>\n",
       "      <th>223688</th>\n",
       "      <td>48842699245</td>\n",
       "      <td>48844846874</td>\n",
       "      <td>0</td>\n",
       "      <td>3</td>\n",
       "      <td>0</td>\n",
       "      <td>49288</td>\n",
       "      <td>0</td>\n",
       "      <td>0</td>\n",
       "      <td>0</td>\n",
       "      <td>1</td>\n",
       "      <td>0</td>\n",
       "      <td>0</td>\n",
       "      <td>1</td>\n",
       "    </tr>\n",
       "    <tr>\n",
       "      <th>154267</th>\n",
       "      <td>794931042942</td>\n",
       "      <td>794947635497</td>\n",
       "      <td>0</td>\n",
       "      <td>3</td>\n",
       "      <td>2560000</td>\n",
       "      <td>181</td>\n",
       "      <td>0</td>\n",
       "      <td>0</td>\n",
       "      <td>0</td>\n",
       "      <td>1</td>\n",
       "      <td>0</td>\n",
       "      <td>0</td>\n",
       "      <td>1</td>\n",
       "    </tr>\n",
       "    <tr>\n",
       "      <th>92701</th>\n",
       "      <td>660981551892</td>\n",
       "      <td>660998483235</td>\n",
       "      <td>0</td>\n",
       "      <td>3</td>\n",
       "      <td>0</td>\n",
       "      <td>4256</td>\n",
       "      <td>0</td>\n",
       "      <td>0</td>\n",
       "      <td>0</td>\n",
       "      <td>1</td>\n",
       "      <td>0</td>\n",
       "      <td>0</td>\n",
       "      <td>1</td>\n",
       "    </tr>\n",
       "  </tbody>\n",
       "</table>\n",
       "</div>"
      ],
      "text/plain": [
       "               begin           end  chore_id  nb_data_items  total_data_size  \\\n",
       "81342   435261423394  435278316211         0              3                0   \n",
       "67905   183151088802  183167948493         0              3                0   \n",
       "223688   48842699245   48844846874         0              3                0   \n",
       "154267  794931042942  794947635497         0              3          2560000   \n",
       "92701   660981551892  660998483235         0              3                0   \n",
       "\n",
       "        priority  task_class_0  task_class_1  task_class_2  task_class_3  \\\n",
       "81342      15385             0             0             0             1   \n",
       "67905      65204             0             0             0             1   \n",
       "223688     49288             0             0             0             1   \n",
       "154267       181             0             0             0             1   \n",
       "92701       4256             0             0             0             1   \n",
       "\n",
       "        task_class_4  task_pool_2  task_pool_4  \n",
       "81342              0            0            1  \n",
       "67905              0            0            1  \n",
       "223688             0            0            1  \n",
       "154267             0            0            1  \n",
       "92701              0            0            1  "
      ]
     },
     "execution_count": 350,
     "metadata": {},
     "output_type": "execute_result"
    }
   ],
   "source": [
    "#train_features.head()"
   ]
  },
  {
   "cell_type": "markdown",
   "id": "273701ee",
   "metadata": {},
   "source": [
    "# ------------Build the univariate model using only data--------------------------"
   ]
  },
  {
   "cell_type": "code",
   "execution_count": 351,
   "id": "c1a4caad",
   "metadata": {},
   "outputs": [],
   "source": [
    "total_data_size = np.array(train_features['total_data_size'])\n",
    "data_only_normalizer = layers.Normalization(input_shape=[1,], axis=None)\n",
    "data_only_normalizer.adapt(total_data_size)"
   ]
  },
  {
   "cell_type": "code",
   "execution_count": 352,
   "id": "65179bee",
   "metadata": {},
   "outputs": [
    {
     "name": "stdout",
     "output_type": "stream",
     "text": [
      "Model: \"sequential_7\"\n",
      "_________________________________________________________________\n",
      " Layer (type)                Output Shape              Param #   \n",
      "=================================================================\n",
      " normalization_28 (Normaliza  (None, 1)                3         \n",
      " tion)                                                           \n",
      "                                                                 \n",
      " dense_7 (Dense)             (None, 1)                 2         \n",
      "                                                                 \n",
      "=================================================================\n",
      "Total params: 5\n",
      "Trainable params: 2\n",
      "Non-trainable params: 3\n",
      "_________________________________________________________________\n"
     ]
    }
   ],
   "source": [
    "\n",
    "data_only_model = tf.keras.Sequential([\n",
    "    data_only_normalizer,\n",
    "    layers.Dense(units=1)\n",
    "])\n",
    "\n",
    "data_only_model.summary()"
   ]
  },
  {
   "cell_type": "code",
   "execution_count": 330,
   "id": "4defbd51",
   "metadata": {},
   "outputs": [],
   "source": [
    "data_only_model.compile(\n",
    "    optimizer=tf.optimizers.Adam(learning_rate=0.1),\n",
    "    loss='mean_absolute_error', metrics=[\"accuracy\"])"
   ]
  },
  {
   "cell_type": "markdown",
   "id": "0539baf3",
   "metadata": {},
   "source": [
    "## Train the univariate model"
   ]
  },
  {
   "cell_type": "code",
   "execution_count": 331,
   "id": "d46ef045",
   "metadata": {},
   "outputs": [],
   "source": [
    "\n",
    "history = data_only_model.fit(\n",
    "    train_features['total_data_size'],\n",
    "    train_labels,\n",
    "    epochs=100,\n",
    "    # Suppress logging.\n",
    "    verbose=0,\n",
    "    # Calculate validation results on 20% of the training data.\n",
    "    validation_split = 0.2)"
   ]
  },
  {
   "cell_type": "markdown",
   "id": "15b08413",
   "metadata": {},
   "source": [
    "## visualize the univariate model"
   ]
  },
  {
   "cell_type": "code",
   "execution_count": 332,
   "id": "62e4dd88",
   "metadata": {},
   "outputs": [
    {
     "data": {
      "text/html": [
       "<div>\n",
       "<style scoped>\n",
       "    .dataframe tbody tr th:only-of-type {\n",
       "        vertical-align: middle;\n",
       "    }\n",
       "\n",
       "    .dataframe tbody tr th {\n",
       "        vertical-align: top;\n",
       "    }\n",
       "\n",
       "    .dataframe thead th {\n",
       "        text-align: right;\n",
       "    }\n",
       "</style>\n",
       "<table border=\"1\" class=\"dataframe\">\n",
       "  <thead>\n",
       "    <tr style=\"text-align: right;\">\n",
       "      <th></th>\n",
       "      <th>loss</th>\n",
       "      <th>accuracy</th>\n",
       "      <th>val_loss</th>\n",
       "      <th>val_accuracy</th>\n",
       "      <th>epoch</th>\n",
       "    </tr>\n",
       "  </thead>\n",
       "  <tbody>\n",
       "    <tr>\n",
       "      <th>95</th>\n",
       "      <td>13145193.0</td>\n",
       "      <td>0.0</td>\n",
       "      <td>13102319.0</td>\n",
       "      <td>0.0</td>\n",
       "      <td>95</td>\n",
       "    </tr>\n",
       "    <tr>\n",
       "      <th>96</th>\n",
       "      <td>13144415.0</td>\n",
       "      <td>0.0</td>\n",
       "      <td>13101557.0</td>\n",
       "      <td>0.0</td>\n",
       "      <td>96</td>\n",
       "    </tr>\n",
       "    <tr>\n",
       "      <th>97</th>\n",
       "      <td>13143617.0</td>\n",
       "      <td>0.0</td>\n",
       "      <td>13100772.0</td>\n",
       "      <td>0.0</td>\n",
       "      <td>97</td>\n",
       "    </tr>\n",
       "    <tr>\n",
       "      <th>98</th>\n",
       "      <td>13142840.0</td>\n",
       "      <td>0.0</td>\n",
       "      <td>13100017.0</td>\n",
       "      <td>0.0</td>\n",
       "      <td>98</td>\n",
       "    </tr>\n",
       "    <tr>\n",
       "      <th>99</th>\n",
       "      <td>13142088.0</td>\n",
       "      <td>0.0</td>\n",
       "      <td>13099242.0</td>\n",
       "      <td>0.0</td>\n",
       "      <td>99</td>\n",
       "    </tr>\n",
       "  </tbody>\n",
       "</table>\n",
       "</div>"
      ],
      "text/plain": [
       "          loss  accuracy    val_loss  val_accuracy  epoch\n",
       "95  13145193.0       0.0  13102319.0           0.0     95\n",
       "96  13144415.0       0.0  13101557.0           0.0     96\n",
       "97  13143617.0       0.0  13100772.0           0.0     97\n",
       "98  13142840.0       0.0  13100017.0           0.0     98\n",
       "99  13142088.0       0.0  13099242.0           0.0     99"
      ]
     },
     "execution_count": 332,
     "metadata": {},
     "output_type": "execute_result"
    }
   ],
   "source": [
    "hist = pd.DataFrame(history.history)\n",
    "hist['epoch'] = history.epoch\n",
    "hist.tail()"
   ]
  },
  {
   "cell_type": "code",
   "execution_count": 333,
   "id": "b377d1ae",
   "metadata": {},
   "outputs": [
    {
     "data": {
      "image/png": "[encoded data removed]",
      "text/plain": [
       "<Figure size 432x288 with 1 Axes>"
      ]
     },
     "metadata": {
      "needs_background": "light"
     },
     "output_type": "display_data"
    }
   ],
   "source": [
    "def plot_loss(history):\n",
    "  plt.plot(history.history['loss'], label='loss')\n",
    "  plt.plot(history.history['val_loss'], label='val_loss')\n",
    "  plt.ylim([0, 10])\n",
    "  plt.xlabel('Epoch')\n",
    "  plt.ylabel('Error [total_data_size]')\n",
    "  plt.legend()\n",
    "  plt.grid(True)\n",
    "\n",
    "plot_loss(history)"
   ]
  },
  {
   "cell_type": "markdown",
   "id": "695ac3df",
   "metadata": {},
   "source": [
    "# -------------------Build the multi variate full model------------------------------"
   ]
  },
  {
   "cell_type": "markdown",
   "id": "9ae7b4c7",
   "metadata": {},
   "source": [
    "## select the required features from the list"
   ]
  },
  {
   "cell_type": "code",
   "execution_count": 389,
   "id": "d3b4ecca",
   "metadata": {},
   "outputs": [],
   "source": [
    "#train_features.head()"
   ]
  },
  {
   "cell_type": "code",
   "execution_count": 391,
   "id": "2f4e9b22",
   "metadata": {},
   "outputs": [
    {
     "data": {
      "text/html": [
       "<div>\n",
       "<style scoped>\n",
       "    .dataframe tbody tr th:only-of-type {\n",
       "        vertical-align: middle;\n",
       "    }\n",
       "\n",
       "    .dataframe tbody tr th {\n",
       "        vertical-align: top;\n",
       "    }\n",
       "\n",
       "    .dataframe thead th {\n",
       "        text-align: right;\n",
       "    }\n",
       "</style>\n",
       "<table border=\"1\" class=\"dataframe\">\n",
       "  <thead>\n",
       "    <tr style=\"text-align: right;\">\n",
       "      <th></th>\n",
       "      <th>nb_data_items</th>\n",
       "      <th>total_data_size</th>\n",
       "      <th>priority</th>\n",
       "      <th>task_class_0</th>\n",
       "      <th>task_class_1</th>\n",
       "      <th>task_class_2</th>\n",
       "      <th>task_class_3</th>\n",
       "      <th>task_class_4</th>\n",
       "      <th>task_pool_2</th>\n",
       "      <th>task_pool_4</th>\n",
       "    </tr>\n",
       "  </thead>\n",
       "  <tbody>\n",
       "    <tr>\n",
       "      <th>81342</th>\n",
       "      <td>3</td>\n",
       "      <td>0</td>\n",
       "      <td>15385</td>\n",
       "      <td>0</td>\n",
       "      <td>0</td>\n",
       "      <td>0</td>\n",
       "      <td>1</td>\n",
       "      <td>0</td>\n",
       "      <td>0</td>\n",
       "      <td>1</td>\n",
       "    </tr>\n",
       "    <tr>\n",
       "      <th>67905</th>\n",
       "      <td>3</td>\n",
       "      <td>0</td>\n",
       "      <td>65204</td>\n",
       "      <td>0</td>\n",
       "      <td>0</td>\n",
       "      <td>0</td>\n",
       "      <td>1</td>\n",
       "      <td>0</td>\n",
       "      <td>0</td>\n",
       "      <td>1</td>\n",
       "    </tr>\n",
       "    <tr>\n",
       "      <th>223688</th>\n",
       "      <td>3</td>\n",
       "      <td>0</td>\n",
       "      <td>49288</td>\n",
       "      <td>0</td>\n",
       "      <td>0</td>\n",
       "      <td>0</td>\n",
       "      <td>1</td>\n",
       "      <td>0</td>\n",
       "      <td>0</td>\n",
       "      <td>1</td>\n",
       "    </tr>\n",
       "    <tr>\n",
       "      <th>154267</th>\n",
       "      <td>3</td>\n",
       "      <td>2560000</td>\n",
       "      <td>181</td>\n",
       "      <td>0</td>\n",
       "      <td>0</td>\n",
       "      <td>0</td>\n",
       "      <td>1</td>\n",
       "      <td>0</td>\n",
       "      <td>0</td>\n",
       "      <td>1</td>\n",
       "    </tr>\n",
       "    <tr>\n",
       "      <th>92701</th>\n",
       "      <td>3</td>\n",
       "      <td>0</td>\n",
       "      <td>4256</td>\n",
       "      <td>0</td>\n",
       "      <td>0</td>\n",
       "      <td>0</td>\n",
       "      <td>1</td>\n",
       "      <td>0</td>\n",
       "      <td>0</td>\n",
       "      <td>1</td>\n",
       "    </tr>\n",
       "  </tbody>\n",
       "</table>\n",
       "</div>"
      ],
      "text/plain": [
       "        nb_data_items  total_data_size  priority  task_class_0  task_class_1  \\\n",
       "81342               3                0     15385             0             0   \n",
       "67905               3                0     65204             0             0   \n",
       "223688              3                0     49288             0             0   \n",
       "154267              3          2560000       181             0             0   \n",
       "92701               3                0      4256             0             0   \n",
       "\n",
       "        task_class_2  task_class_3  task_class_4  task_pool_2  task_pool_4  \n",
       "81342              0             1             0            0            1  \n",
       "67905              0             1             0            0            1  \n",
       "223688             0             1             0            0            1  \n",
       "154267             0             1             0            0            1  \n",
       "92701              0             1             0            0            1  "
      ]
     },
     "execution_count": 391,
     "metadata": {},
     "output_type": "execute_result"
    }
   ],
   "source": [
    "## for the time being select only total_data_size, priority, diff task_classes and diff taskpools\n",
    "\n",
    "#train_features = train_features.drop('end', 1)\n",
    "#train_features = train_features.drop('end', 1)\n",
    "train_features = train_features.drop(['chore_id', 'begin', 'end'], axis = 1)\n",
    "train_features.head()"
   ]
  },
  {
   "cell_type": "code",
   "execution_count": 398,
   "id": "d39d3614",
   "metadata": {},
   "outputs": [],
   "source": [
    "full_model = tf.keras.Sequential([\n",
    "    normalizer,\n",
    "    layers.Dense(units=1)\n",
    "])"
   ]
  },
  {
   "cell_type": "code",
   "execution_count": 399,
   "id": "54d733f8",
   "metadata": {},
   "outputs": [],
   "source": [
    "normalizer = tf.keras.layers.Normalization(axis=-1)\n",
    "normalizer.adapt(np.array(train_features))"
   ]
  },
  {
   "cell_type": "code",
   "execution_count": 400,
   "id": "c5871033",
   "metadata": {},
   "outputs": [
    {
     "name": "stdout",
     "output_type": "stream",
     "text": [
      "[]\n"
     ]
    }
   ],
   "source": [
    "full_model.compile(\n",
    "    optimizer=tf.optimizers.Adam(learning_rate=0.1),\n",
    "    loss='mean_absolute_error', metrics=[tf.keras.metrics.MeanSquaredError(), tf.keras.metrics.Accuracy()])\n",
    "print(full_model.metrics_names)"
   ]
  },
  {
   "cell_type": "markdown",
   "id": "64c75b10",
   "metadata": {},
   "source": [
    "## Train the model"
   ]
  },
  {
   "cell_type": "code",
   "execution_count": 401,
   "id": "d8e6b329",
   "metadata": {},
   "outputs": [],
   "source": [
    "history = full_model.fit(\n",
    "    train_features,\n",
    "    train_labels,\n",
    "    epochs=100,\n",
    "    # Suppress logging.\n",
    "    verbose=0,\n",
    "    # Calculate validation results on 20% of the training data.\n",
    "    validation_split = 0.2)"
   ]
  },
  {
   "cell_type": "code",
   "execution_count": 402,
   "id": "2ad48f74",
   "metadata": {},
   "outputs": [
    {
     "name": "stdout",
     "output_type": "stream",
     "text": [
      "Model: \"sequential_12\"\n",
      "_________________________________________________________________\n",
      " Layer (type)                Output Shape              Param #   \n",
      "=================================================================\n",
      " normalization_30 (Normaliza  (None, 10)               21        \n",
      " tion)                                                           \n",
      "                                                                 \n",
      " dense_14 (Dense)            (None, 1)                 11        \n",
      "                                                                 \n",
      "=================================================================\n",
      "Total params: 32\n",
      "Trainable params: 11\n",
      "Non-trainable params: 21\n",
      "_________________________________________________________________\n"
     ]
    }
   ],
   "source": [
    "full_model.summary()"
   ]
  },
  {
   "cell_type": "code",
   "execution_count": 403,
   "id": "07867eb1",
   "metadata": {},
   "outputs": [
    {
     "data": {
      "text/html": [
       "<div>\n",
       "<style scoped>\n",
       "    .dataframe tbody tr th:only-of-type {\n",
       "        vertical-align: middle;\n",
       "    }\n",
       "\n",
       "    .dataframe tbody tr th {\n",
       "        vertical-align: top;\n",
       "    }\n",
       "\n",
       "    .dataframe thead th {\n",
       "        text-align: right;\n",
       "    }\n",
       "</style>\n",
       "<table border=\"1\" class=\"dataframe\">\n",
       "  <thead>\n",
       "    <tr style=\"text-align: right;\">\n",
       "      <th></th>\n",
       "      <th>loss</th>\n",
       "      <th>mean_squared_error</th>\n",
       "      <th>accuracy</th>\n",
       "      <th>val_loss</th>\n",
       "      <th>val_mean_squared_error</th>\n",
       "      <th>val_accuracy</th>\n",
       "      <th>epoch</th>\n",
       "    </tr>\n",
       "  </thead>\n",
       "  <tbody>\n",
       "    <tr>\n",
       "      <th>95</th>\n",
       "      <td>13145175.0</td>\n",
       "      <td>5.353163e+14</td>\n",
       "      <td>0.0</td>\n",
       "      <td>13102349.0</td>\n",
       "      <td>5.359670e+14</td>\n",
       "      <td>0.0</td>\n",
       "      <td>95</td>\n",
       "    </tr>\n",
       "    <tr>\n",
       "      <th>96</th>\n",
       "      <td>13144430.0</td>\n",
       "      <td>5.352971e+14</td>\n",
       "      <td>0.0</td>\n",
       "      <td>13101573.0</td>\n",
       "      <td>5.359475e+14</td>\n",
       "      <td>0.0</td>\n",
       "      <td>96</td>\n",
       "    </tr>\n",
       "    <tr>\n",
       "      <th>97</th>\n",
       "      <td>13143613.0</td>\n",
       "      <td>5.352766e+14</td>\n",
       "      <td>0.0</td>\n",
       "      <td>13100801.0</td>\n",
       "      <td>5.359267e+14</td>\n",
       "      <td>0.0</td>\n",
       "      <td>97</td>\n",
       "    </tr>\n",
       "    <tr>\n",
       "      <th>98</th>\n",
       "      <td>13142825.0</td>\n",
       "      <td>5.352552e+14</td>\n",
       "      <td>0.0</td>\n",
       "      <td>13100032.0</td>\n",
       "      <td>5.359061e+14</td>\n",
       "      <td>0.0</td>\n",
       "      <td>98</td>\n",
       "    </tr>\n",
       "    <tr>\n",
       "      <th>99</th>\n",
       "      <td>13142037.0</td>\n",
       "      <td>5.352338e+14</td>\n",
       "      <td>0.0</td>\n",
       "      <td>13099257.0</td>\n",
       "      <td>5.358862e+14</td>\n",
       "      <td>0.0</td>\n",
       "      <td>99</td>\n",
       "    </tr>\n",
       "  </tbody>\n",
       "</table>\n",
       "</div>"
      ],
      "text/plain": [
       "          loss  mean_squared_error  accuracy    val_loss  \\\n",
       "95  13145175.0        5.353163e+14       0.0  13102349.0   \n",
       "96  13144430.0        5.352971e+14       0.0  13101573.0   \n",
       "97  13143613.0        5.352766e+14       0.0  13100801.0   \n",
       "98  13142825.0        5.352552e+14       0.0  13100032.0   \n",
       "99  13142037.0        5.352338e+14       0.0  13099257.0   \n",
       "\n",
       "    val_mean_squared_error  val_accuracy  epoch  \n",
       "95            5.359670e+14           0.0     95  \n",
       "96            5.359475e+14           0.0     96  \n",
       "97            5.359267e+14           0.0     97  \n",
       "98            5.359061e+14           0.0     98  \n",
       "99            5.358862e+14           0.0     99  "
      ]
     },
     "execution_count": 403,
     "metadata": {},
     "output_type": "execute_result"
    }
   ],
   "source": [
    "hist = pd.DataFrame(history.history)\n",
    "hist['epoch'] = history.epoch\n",
    "hist.tail()"
   ]
  },
  {
   "cell_type": "markdown",
   "id": "c4246341",
   "metadata": {},
   "source": [
    "## Test the Model "
   ]
  },
  {
   "cell_type": "code",
   "execution_count": 405,
   "id": "ab576026",
   "metadata": {},
   "outputs": [
    {
     "ename": "ValueError",
     "evalue": "in user code:\n\n    File \"/usr/local/lib/python3.9/site-packages/keras/engine/training.py\", line 1525, in test_function  *\n        return step_function(self, iterator)\n    File \"/usr/local/lib/python3.9/site-packages/keras/engine/training.py\", line 1514, in step_function  **\n        outputs = model.distribute_strategy.run(run_step, args=(data,))\n    File \"/usr/local/lib/python3.9/site-packages/keras/engine/training.py\", line 1507, in run_step  **\n        outputs = model.test_step(data)\n    File \"/usr/local/lib/python3.9/site-packages/keras/engine/training.py\", line 1471, in test_step\n        y_pred = self(x, training=False)\n    File \"/usr/local/lib/python3.9/site-packages/keras/utils/traceback_utils.py\", line 67, in error_handler\n        raise e.with_traceback(filtered_tb) from None\n\n    ValueError: Exception encountered when calling layer \"normalization_30\" (type Normalization).\n    \n    Dimensions must be equal, but are 13 and 10 for '{{node sequential_12/normalization_30/sub}} = Sub[T=DT_FLOAT](sequential_12/Cast, sequential_12/normalization_30/sub/y)' with input shapes: [?,13], [1,10].\n    \n    Call arguments received:\n      • inputs=tf.Tensor(shape=(None, 13), dtype=float32)\n",
     "output_type": "error",
     "traceback": [
      "\u001b[0;31m---------------------------------------------------------------------------\u001b[0m",
      "\u001b[0;31mValueError\u001b[0m                                Traceback (most recent call last)",
      "Input \u001b[0;32mIn [405]\u001b[0m, in \u001b[0;36m<cell line: 7>\u001b[0;34m()\u001b[0m\n\u001b[1;32m      1\u001b[0m \u001b[38;5;66;03m#test_results = {}\u001b[39;00m\n\u001b[1;32m      2\u001b[0m \u001b[38;5;66;03m#test_results['full_model'] = full_model.evaluate(\u001b[39;00m\n\u001b[1;32m      3\u001b[0m \u001b[38;5;66;03m#    test_features, test_labels, verbose=0)\u001b[39;00m\n\u001b[1;32m      4\u001b[0m \u001b[38;5;66;03m#loss, acc = full_model.evaluate(test_features, test_labels, verbose=2)\u001b[39;00m\n\u001b[1;32m      5\u001b[0m \u001b[38;5;66;03m#print(test_results['full_model'])\u001b[39;00m\n\u001b[0;32m----> 7\u001b[0m loss \u001b[38;5;241m=\u001b[39m \u001b[43mfull_model\u001b[49m\u001b[38;5;241;43m.\u001b[39;49m\u001b[43mevaluate\u001b[49m\u001b[43m(\u001b[49m\u001b[43mtest_features\u001b[49m\u001b[43m,\u001b[49m\u001b[43m \u001b[49m\u001b[43mtest_labels\u001b[49m\u001b[43m,\u001b[49m\u001b[43m \u001b[49m\u001b[43mbatch_size\u001b[49m\u001b[38;5;241;43m=\u001b[39;49m\u001b[38;5;241;43m128\u001b[39;49m\u001b[43m)\u001b[49m\n",
      "File \u001b[0;32m/usr/local/lib/python3.9/site-packages/keras/utils/traceback_utils.py:67\u001b[0m, in \u001b[0;36mfilter_traceback.<locals>.error_handler\u001b[0;34m(*args, **kwargs)\u001b[0m\n\u001b[1;32m     65\u001b[0m \u001b[38;5;28;01mexcept\u001b[39;00m \u001b[38;5;167;01mException\u001b[39;00m \u001b[38;5;28;01mas\u001b[39;00m e:  \u001b[38;5;66;03m# pylint: disable=broad-except\u001b[39;00m\n\u001b[1;32m     66\u001b[0m   filtered_tb \u001b[38;5;241m=\u001b[39m _process_traceback_frames(e\u001b[38;5;241m.\u001b[39m__traceback__)\n\u001b[0;32m---> 67\u001b[0m   \u001b[38;5;28;01mraise\u001b[39;00m e\u001b[38;5;241m.\u001b[39mwith_traceback(filtered_tb) \u001b[38;5;28;01mfrom\u001b[39;00m \u001b[38;5;28mNone\u001b[39m\n\u001b[1;32m     68\u001b[0m \u001b[38;5;28;01mfinally\u001b[39;00m:\n\u001b[1;32m     69\u001b[0m   \u001b[38;5;28;01mdel\u001b[39;00m filtered_tb\n",
      "File \u001b[0;32m/usr/local/lib/python3.9/site-packages/tensorflow/python/framework/func_graph.py:1147\u001b[0m, in \u001b[0;36mfunc_graph_from_py_func.<locals>.autograph_handler\u001b[0;34m(*args, **kwargs)\u001b[0m\n\u001b[1;32m   1145\u001b[0m \u001b[38;5;28;01mexcept\u001b[39;00m \u001b[38;5;167;01mException\u001b[39;00m \u001b[38;5;28;01mas\u001b[39;00m e:  \u001b[38;5;66;03m# pylint:disable=broad-except\u001b[39;00m\n\u001b[1;32m   1146\u001b[0m   \u001b[38;5;28;01mif\u001b[39;00m \u001b[38;5;28mhasattr\u001b[39m(e, \u001b[38;5;124m\"\u001b[39m\u001b[38;5;124mag_error_metadata\u001b[39m\u001b[38;5;124m\"\u001b[39m):\n\u001b[0;32m-> 1147\u001b[0m     \u001b[38;5;28;01mraise\u001b[39;00m e\u001b[38;5;241m.\u001b[39mag_error_metadata\u001b[38;5;241m.\u001b[39mto_exception(e)\n\u001b[1;32m   1148\u001b[0m   \u001b[38;5;28;01melse\u001b[39;00m:\n\u001b[1;32m   1149\u001b[0m     \u001b[38;5;28;01mraise\u001b[39;00m\n",
      "\u001b[0;31mValueError\u001b[0m: in user code:\n\n    File \"/usr/local/lib/python3.9/site-packages/keras/engine/training.py\", line 1525, in test_function  *\n        return step_function(self, iterator)\n    File \"/usr/local/lib/python3.9/site-packages/keras/engine/training.py\", line 1514, in step_function  **\n        outputs = model.distribute_strategy.run(run_step, args=(data,))\n    File \"/usr/local/lib/python3.9/site-packages/keras/engine/training.py\", line 1507, in run_step  **\n        outputs = model.test_step(data)\n    File \"/usr/local/lib/python3.9/site-packages/keras/engine/training.py\", line 1471, in test_step\n        y_pred = self(x, training=False)\n    File \"/usr/local/lib/python3.9/site-packages/keras/utils/traceback_utils.py\", line 67, in error_handler\n        raise e.with_traceback(filtered_tb) from None\n\n    ValueError: Exception encountered when calling layer \"normalization_30\" (type Normalization).\n    \n    Dimensions must be equal, but are 13 and 10 for '{{node sequential_12/normalization_30/sub}} = Sub[T=DT_FLOAT](sequential_12/Cast, sequential_12/normalization_30/sub/y)' with input shapes: [?,13], [1,10].\n    \n    Call arguments received:\n      • inputs=tf.Tensor(shape=(None, 13), dtype=float32)\n"
     ]
    }
   ],
   "source": [
    "#test_results = {}\n",
    "#test_results['full_model'] = full_model.evaluate(\n",
    "#    test_features, test_labels, verbose=0)\n",
    "#loss, acc = full_model.evaluate(test_features, test_labels, verbose=2)\n",
    "#print(test_results['full_model'])\n",
    "\n",
    "loss = full_model.evaluate(test_features, test_labels, batch_size=128)\n",
    "print(loss)"
   ]
  },
  {
   "cell_type": "markdown",
   "id": "1ad68fc9",
   "metadata": {},
   "source": [
    "## checkpoint the model"
   ]
  },
  {
   "cell_type": "code",
   "execution_count": 67,
   "id": "24db96dd",
   "metadata": {},
   "outputs": [],
   "source": [
    "checkpoint_path = \"./full_model.ckpt\"\n",
    "checkpoint_dir = os.path.dirname(checkpoint_path)\n",
    "cp_callback = tf.keras.callbacks.ModelCheckpoint(filepath=checkpoint_path,\n",
    "                                                 save_weights_only=True,\n",
    "                                                 verbose=1)"
   ]
  },
  {
   "cell_type": "markdown",
   "id": "aecc3b97",
   "metadata": {},
   "source": [
    "## Train again from the checkpoint"
   ]
  },
  {
   "cell_type": "code",
   "execution_count": 68,
   "id": "e376be42",
   "metadata": {},
   "outputs": [
    {
     "name": "stdout",
     "output_type": "stream",
     "text": [
      "Epoch 1/10\n",
      "2203/2211 [============================>.] - ETA: 0s - loss: 6258607.5000\n",
      "Epoch 1: saving model to ./full_model.ckpt\n",
      "2211/2211 [==============================] - 6s 3ms/step - loss: 6256079.5000 - val_loss: 6255974.0000\n",
      "Epoch 2/10\n",
      "2196/2211 [============================>.] - ETA: 0s - loss: 6262878.5000\n",
      "Epoch 2: saving model to ./full_model.ckpt\n",
      "2211/2211 [==============================] - 6s 3ms/step - loss: 6255860.0000 - val_loss: 6255759.0000\n",
      "Epoch 3/10\n",
      "2209/2211 [============================>.] - ETA: 0s - loss: 6253822.0000\n",
      "Epoch 3: saving model to ./full_model.ckpt\n",
      "2211/2211 [==============================] - 6s 3ms/step - loss: 6255645.5000 - val_loss: 6255526.5000\n",
      "Epoch 4/10\n",
      "2197/2211 [============================>.] - ETA: 0s - loss: 6254022.0000\n",
      "Epoch 4: saving model to ./full_model.ckpt\n",
      "2211/2211 [==============================] - 6s 3ms/step - loss: 6255423.5000 - val_loss: 6255318.5000\n",
      "Epoch 5/10\n",
      "2189/2211 [============================>.] - ETA: 0s - loss: 6247012.5000\n",
      "Epoch 5: saving model to ./full_model.ckpt\n",
      "2211/2211 [==============================] - 6s 3ms/step - loss: 6255207.5000 - val_loss: 6255098.5000\n",
      "Epoch 6/10\n",
      "2193/2211 [============================>.] - ETA: 0s - loss: 6260561.0000\n",
      "Epoch 6: saving model to ./full_model.ckpt\n",
      "2211/2211 [==============================] - 6s 3ms/step - loss: 6254983.5000 - val_loss: 6254876.0000\n",
      "Epoch 7/10\n",
      "2182/2211 [============================>.] - ETA: 0s - loss: 6255211.5000\n",
      "Epoch 7: saving model to ./full_model.ckpt\n",
      "2211/2211 [==============================] - 6s 3ms/step - loss: 6254763.5000 - val_loss: 6254651.0000\n",
      "Epoch 8/10\n",
      "2197/2211 [============================>.] - ETA: 0s - loss: 6253135.5000\n",
      "Epoch 8: saving model to ./full_model.ckpt\n",
      "2211/2211 [==============================] - 9s 4ms/step - loss: 6254552.5000 - val_loss: 6254432.5000\n",
      "Epoch 9/10\n",
      "2211/2211 [==============================] - ETA: 0s - loss: 6254324.0000\n",
      "Epoch 9: saving model to ./full_model.ckpt\n",
      "2211/2211 [==============================] - 5s 2ms/step - loss: 6254324.0000 - val_loss: 6254217.0000\n",
      "Epoch 10/10\n",
      "2204/2211 [============================>.] - ETA: 0s - loss: 6254015.5000\n",
      "Epoch 10: saving model to ./full_model.ckpt\n",
      "2211/2211 [==============================] - 5s 2ms/step - loss: 6254100.5000 - val_loss: 6253994.0000\n"
     ]
    },
    {
     "data": {
      "text/plain": [
       "<keras.callbacks.History at 0x160c00430>"
      ]
     },
     "execution_count": 68,
     "metadata": {},
     "output_type": "execute_result"
    }
   ],
   "source": [
    "full_model.fit(train_features, \n",
    "          train_labels,  \n",
    "          epochs=10,\n",
    "          validation_data=(train_features, train_labels),\n",
    "          callbacks=[cp_callback]) "
   ]
  },
  {
   "cell_type": "code",
   "execution_count": 24,
   "id": "378caf2a",
   "metadata": {},
   "outputs": [
    {
     "data": {
      "text/plain": [
       "['trace.ipynb',\n",
       " 'checkpoint',\n",
       " 'model-Copy1.ipynb',\n",
       " 'Untitled.ipynb',\n",
       " 'demo_8.otf2',\n",
       " 'model-working.ipynb',\n",
       " 'demo_8',\n",
       " 'model_keras.ipynb',\n",
       " 'sample.ipynb',\n",
       " 'CMakeError.log',\n",
       " 'full_model.ckpt.data-00000-of-00001',\n",
       " 'demo_8.vsettings',\n",
       " 'train',\n",
       " 'full_model.ckpt.index',\n",
       " '.ipynb_checkpoints',\n",
       " 'dpotrf-1.prof.h5',\n",
       " 'Archive.zip',\n",
       " 'demo_8.def',\n",
       " 'dpotrf-0.prof.h5']"
      ]
     },
     "execution_count": 24,
     "metadata": {},
     "output_type": "execute_result"
    }
   ],
   "source": [
    "os.listdir(checkpoint_dir)"
   ]
  },
  {
   "cell_type": "markdown",
   "id": "22ec57e4",
   "metadata": {},
   "source": [
    "## Save the model"
   ]
  },
  {
   "cell_type": "code",
   "execution_count": 69,
   "id": "731f0bdf",
   "metadata": {},
   "outputs": [
    {
     "name": "stderr",
     "output_type": "stream",
     "text": [
      "2022-04-05 18:08:39.915580: W tensorflow/python/util/util.cc:368] Sets are not currently considered sequences, but this may change in the future, so consider avoiding using them.\n"
     ]
    },
    {
     "name": "stdout",
     "output_type": "stream",
     "text": [
      "INFO:tensorflow:Assets written to: ./full_model/assets\n"
     ]
    }
   ],
   "source": [
    "full_model.save('./full_model')"
   ]
  },
  {
   "cell_type": "markdown",
   "id": "c07dd891",
   "metadata": {},
   "source": [
    "## Train using DNN"
   ]
  },
  {
   "cell_type": "code",
   "execution_count": 406,
   "id": "d854635b",
   "metadata": {},
   "outputs": [],
   "source": [
    "def build_and_compile_model(norm):\n",
    "  model = keras.Sequential([\n",
    "      norm,\n",
    "      layers.Dense(64, activation='relu'),\n",
    "      layers.Dense(64, activation='relu'),\n",
    "      layers.Dense(1)\n",
    "  ])\n",
    "\n",
    "  model.compile(loss='mean_absolute_error',\n",
    "                optimizer=tf.keras.optimizers.Adam(0.001))\n",
    "  return model"
   ]
  },
  {
   "cell_type": "code",
   "execution_count": 407,
   "id": "8f05382f",
   "metadata": {},
   "outputs": [
    {
     "name": "stdout",
     "output_type": "stream",
     "text": [
      "Model: \"sequential_13\"\n",
      "_________________________________________________________________\n",
      " Layer (type)                Output Shape              Param #   \n",
      "=================================================================\n",
      " normalization_31 (Normaliza  (None, 10)               21        \n",
      " tion)                                                           \n",
      "                                                                 \n",
      " dense_15 (Dense)            (None, 64)                704       \n",
      "                                                                 \n",
      " dense_16 (Dense)            (None, 64)                4160      \n",
      "                                                                 \n",
      " dense_17 (Dense)            (None, 1)                 65        \n",
      "                                                                 \n",
      "=================================================================\n",
      "Total params: 4,950\n",
      "Trainable params: 4,929\n",
      "Non-trainable params: 21\n",
      "_________________________________________________________________\n"
     ]
    }
   ],
   "source": [
    "dnn_model = build_and_compile_model(normalizer)\n",
    "dnn_model.summary()"
   ]
  },
  {
   "cell_type": "code",
   "execution_count": 408,
   "id": "e43126f8",
   "metadata": {},
   "outputs": [
    {
     "ename": "KeyboardInterrupt",
     "evalue": "",
     "output_type": "error",
     "traceback": [
      "\u001b[0;31m---------------------------------------------------------------------------\u001b[0m",
      "\u001b[0;31mKeyboardInterrupt\u001b[0m                         Traceback (most recent call last)",
      "Input \u001b[0;32mIn [408]\u001b[0m, in \u001b[0;36m<cell line: 1>\u001b[0;34m()\u001b[0m\n\u001b[0;32m----> 1\u001b[0m history \u001b[38;5;241m=\u001b[39m \u001b[43mdnn_model\u001b[49m\u001b[38;5;241;43m.\u001b[39;49m\u001b[43mfit\u001b[49m\u001b[43m(\u001b[49m\n\u001b[1;32m      2\u001b[0m \u001b[43m    \u001b[49m\u001b[43mtrain_features\u001b[49m\u001b[43m,\u001b[49m\n\u001b[1;32m      3\u001b[0m \u001b[43m    \u001b[49m\u001b[43mtrain_labels\u001b[49m\u001b[43m,\u001b[49m\n\u001b[1;32m      4\u001b[0m \u001b[43m    \u001b[49m\u001b[43mvalidation_split\u001b[49m\u001b[38;5;241;43m=\u001b[39;49m\u001b[38;5;241;43m0.2\u001b[39;49m\u001b[43m,\u001b[49m\n\u001b[1;32m      5\u001b[0m \u001b[43m    \u001b[49m\u001b[43mverbose\u001b[49m\u001b[38;5;241;43m=\u001b[39;49m\u001b[38;5;241;43m0\u001b[39;49m\u001b[43m,\u001b[49m\u001b[43m \u001b[49m\u001b[43mepochs\u001b[49m\u001b[38;5;241;43m=\u001b[39;49m\u001b[38;5;241;43m100\u001b[39;49m\u001b[43m)\u001b[49m\n",
      "File \u001b[0;32m/usr/local/lib/python3.9/site-packages/keras/utils/traceback_utils.py:64\u001b[0m, in \u001b[0;36mfilter_traceback.<locals>.error_handler\u001b[0;34m(*args, **kwargs)\u001b[0m\n\u001b[1;32m     62\u001b[0m filtered_tb \u001b[38;5;241m=\u001b[39m \u001b[38;5;28;01mNone\u001b[39;00m\n\u001b[1;32m     63\u001b[0m \u001b[38;5;28;01mtry\u001b[39;00m:\n\u001b[0;32m---> 64\u001b[0m   \u001b[38;5;28;01mreturn\u001b[39;00m \u001b[43mfn\u001b[49m\u001b[43m(\u001b[49m\u001b[38;5;241;43m*\u001b[39;49m\u001b[43margs\u001b[49m\u001b[43m,\u001b[49m\u001b[43m \u001b[49m\u001b[38;5;241;43m*\u001b[39;49m\u001b[38;5;241;43m*\u001b[39;49m\u001b[43mkwargs\u001b[49m\u001b[43m)\u001b[49m\n\u001b[1;32m     65\u001b[0m \u001b[38;5;28;01mexcept\u001b[39;00m \u001b[38;5;167;01mException\u001b[39;00m \u001b[38;5;28;01mas\u001b[39;00m e:  \u001b[38;5;66;03m# pylint: disable=broad-except\u001b[39;00m\n\u001b[1;32m     66\u001b[0m   filtered_tb \u001b[38;5;241m=\u001b[39m _process_traceback_frames(e\u001b[38;5;241m.\u001b[39m__traceback__)\n",
      "File \u001b[0;32m/usr/local/lib/python3.9/site-packages/keras/engine/training.py:1420\u001b[0m, in \u001b[0;36mModel.fit\u001b[0;34m(self, x, y, batch_size, epochs, verbose, callbacks, validation_split, validation_data, shuffle, class_weight, sample_weight, initial_epoch, steps_per_epoch, validation_steps, validation_batch_size, validation_freq, max_queue_size, workers, use_multiprocessing)\u001b[0m\n\u001b[1;32m   1406\u001b[0m \u001b[38;5;28;01mif\u001b[39;00m \u001b[38;5;28mgetattr\u001b[39m(\u001b[38;5;28mself\u001b[39m, \u001b[38;5;124m'\u001b[39m\u001b[38;5;124m_eval_data_handler\u001b[39m\u001b[38;5;124m'\u001b[39m, \u001b[38;5;28;01mNone\u001b[39;00m) \u001b[38;5;129;01mis\u001b[39;00m \u001b[38;5;28;01mNone\u001b[39;00m:\n\u001b[1;32m   1407\u001b[0m   \u001b[38;5;28mself\u001b[39m\u001b[38;5;241m.\u001b[39m_eval_data_handler \u001b[38;5;241m=\u001b[39m data_adapter\u001b[38;5;241m.\u001b[39mget_data_handler(\n\u001b[1;32m   1408\u001b[0m       x\u001b[38;5;241m=\u001b[39mval_x,\n\u001b[1;32m   1409\u001b[0m       y\u001b[38;5;241m=\u001b[39mval_y,\n\u001b[0;32m   (...)\u001b[0m\n\u001b[1;32m   1418\u001b[0m       model\u001b[38;5;241m=\u001b[39m\u001b[38;5;28mself\u001b[39m,\n\u001b[1;32m   1419\u001b[0m       steps_per_execution\u001b[38;5;241m=\u001b[39m\u001b[38;5;28mself\u001b[39m\u001b[38;5;241m.\u001b[39m_steps_per_execution)\n\u001b[0;32m-> 1420\u001b[0m val_logs \u001b[38;5;241m=\u001b[39m \u001b[38;5;28;43mself\u001b[39;49m\u001b[38;5;241;43m.\u001b[39;49m\u001b[43mevaluate\u001b[49m\u001b[43m(\u001b[49m\n\u001b[1;32m   1421\u001b[0m \u001b[43m    \u001b[49m\u001b[43mx\u001b[49m\u001b[38;5;241;43m=\u001b[39;49m\u001b[43mval_x\u001b[49m\u001b[43m,\u001b[49m\n\u001b[1;32m   1422\u001b[0m \u001b[43m    \u001b[49m\u001b[43my\u001b[49m\u001b[38;5;241;43m=\u001b[39;49m\u001b[43mval_y\u001b[49m\u001b[43m,\u001b[49m\n\u001b[1;32m   1423\u001b[0m \u001b[43m    \u001b[49m\u001b[43msample_weight\u001b[49m\u001b[38;5;241;43m=\u001b[39;49m\u001b[43mval_sample_weight\u001b[49m\u001b[43m,\u001b[49m\n\u001b[1;32m   1424\u001b[0m \u001b[43m    \u001b[49m\u001b[43mbatch_size\u001b[49m\u001b[38;5;241;43m=\u001b[39;49m\u001b[43mvalidation_batch_size\u001b[49m\u001b[43m \u001b[49m\u001b[38;5;129;43;01mor\u001b[39;49;00m\u001b[43m \u001b[49m\u001b[43mbatch_size\u001b[49m\u001b[43m,\u001b[49m\n\u001b[1;32m   1425\u001b[0m \u001b[43m    \u001b[49m\u001b[43msteps\u001b[49m\u001b[38;5;241;43m=\u001b[39;49m\u001b[43mvalidation_steps\u001b[49m\u001b[43m,\u001b[49m\n\u001b[1;32m   1426\u001b[0m \u001b[43m    \u001b[49m\u001b[43mcallbacks\u001b[49m\u001b[38;5;241;43m=\u001b[39;49m\u001b[43mcallbacks\u001b[49m\u001b[43m,\u001b[49m\n\u001b[1;32m   1427\u001b[0m \u001b[43m    \u001b[49m\u001b[43mmax_queue_size\u001b[49m\u001b[38;5;241;43m=\u001b[39;49m\u001b[43mmax_queue_size\u001b[49m\u001b[43m,\u001b[49m\n\u001b[1;32m   1428\u001b[0m \u001b[43m    \u001b[49m\u001b[43mworkers\u001b[49m\u001b[38;5;241;43m=\u001b[39;49m\u001b[43mworkers\u001b[49m\u001b[43m,\u001b[49m\n\u001b[1;32m   1429\u001b[0m \u001b[43m    \u001b[49m\u001b[43muse_multiprocessing\u001b[49m\u001b[38;5;241;43m=\u001b[39;49m\u001b[43muse_multiprocessing\u001b[49m\u001b[43m,\u001b[49m\n\u001b[1;32m   1430\u001b[0m \u001b[43m    \u001b[49m\u001b[43mreturn_dict\u001b[49m\u001b[38;5;241;43m=\u001b[39;49m\u001b[38;5;28;43;01mTrue\u001b[39;49;00m\u001b[43m,\u001b[49m\n\u001b[1;32m   1431\u001b[0m \u001b[43m    \u001b[49m\u001b[43m_use_cached_eval_dataset\u001b[49m\u001b[38;5;241;43m=\u001b[39;49m\u001b[38;5;28;43;01mTrue\u001b[39;49;00m\u001b[43m)\u001b[49m\n\u001b[1;32m   1432\u001b[0m val_logs \u001b[38;5;241m=\u001b[39m {\u001b[38;5;124m'\u001b[39m\u001b[38;5;124mval_\u001b[39m\u001b[38;5;124m'\u001b[39m \u001b[38;5;241m+\u001b[39m name: val \u001b[38;5;28;01mfor\u001b[39;00m name, val \u001b[38;5;129;01min\u001b[39;00m val_logs\u001b[38;5;241m.\u001b[39mitems()}\n\u001b[1;32m   1433\u001b[0m epoch_logs\u001b[38;5;241m.\u001b[39mupdate(val_logs)\n",
      "File \u001b[0;32m/usr/local/lib/python3.9/site-packages/keras/utils/traceback_utils.py:64\u001b[0m, in \u001b[0;36mfilter_traceback.<locals>.error_handler\u001b[0;34m(*args, **kwargs)\u001b[0m\n\u001b[1;32m     62\u001b[0m filtered_tb \u001b[38;5;241m=\u001b[39m \u001b[38;5;28;01mNone\u001b[39;00m\n\u001b[1;32m     63\u001b[0m \u001b[38;5;28;01mtry\u001b[39;00m:\n\u001b[0;32m---> 64\u001b[0m   \u001b[38;5;28;01mreturn\u001b[39;00m \u001b[43mfn\u001b[49m\u001b[43m(\u001b[49m\u001b[38;5;241;43m*\u001b[39;49m\u001b[43margs\u001b[49m\u001b[43m,\u001b[49m\u001b[43m \u001b[49m\u001b[38;5;241;43m*\u001b[39;49m\u001b[38;5;241;43m*\u001b[39;49m\u001b[43mkwargs\u001b[49m\u001b[43m)\u001b[49m\n\u001b[1;32m     65\u001b[0m \u001b[38;5;28;01mexcept\u001b[39;00m \u001b[38;5;167;01mException\u001b[39;00m \u001b[38;5;28;01mas\u001b[39;00m e:  \u001b[38;5;66;03m# pylint: disable=broad-except\u001b[39;00m\n\u001b[1;32m     66\u001b[0m   filtered_tb \u001b[38;5;241m=\u001b[39m _process_traceback_frames(e\u001b[38;5;241m.\u001b[39m__traceback__)\n",
      "File \u001b[0;32m/usr/local/lib/python3.9/site-packages/keras/engine/training.py:1713\u001b[0m, in \u001b[0;36mModel.evaluate\u001b[0;34m(self, x, y, batch_size, verbose, sample_weight, steps, callbacks, max_queue_size, workers, use_multiprocessing, return_dict, **kwargs)\u001b[0m\n\u001b[1;32m   1711\u001b[0m \u001b[38;5;28mself\u001b[39m\u001b[38;5;241m.\u001b[39mreset_metrics()\n\u001b[1;32m   1712\u001b[0m \u001b[38;5;28;01mwith\u001b[39;00m data_handler\u001b[38;5;241m.\u001b[39mcatch_stop_iteration():\n\u001b[0;32m-> 1713\u001b[0m   \u001b[38;5;28;01mfor\u001b[39;00m step \u001b[38;5;129;01min\u001b[39;00m data_handler\u001b[38;5;241m.\u001b[39msteps():\n\u001b[1;32m   1714\u001b[0m     \u001b[38;5;28;01mwith\u001b[39;00m tf\u001b[38;5;241m.\u001b[39mprofiler\u001b[38;5;241m.\u001b[39mexperimental\u001b[38;5;241m.\u001b[39mTrace(\u001b[38;5;124m'\u001b[39m\u001b[38;5;124mtest\u001b[39m\u001b[38;5;124m'\u001b[39m, step_num\u001b[38;5;241m=\u001b[39mstep, _r\u001b[38;5;241m=\u001b[39m\u001b[38;5;241m1\u001b[39m):\n\u001b[1;32m   1715\u001b[0m       callbacks\u001b[38;5;241m.\u001b[39mon_test_batch_begin(step)\n",
      "File \u001b[0;32m/usr/local/lib/python3.9/site-packages/keras/engine/data_adapter.py:1246\u001b[0m, in \u001b[0;36mDataHandler.steps\u001b[0;34m(self)\u001b[0m\n\u001b[1;32m   1244\u001b[0m \u001b[38;5;28;01mif\u001b[39;00m \u001b[38;5;28mself\u001b[39m\u001b[38;5;241m.\u001b[39m_insufficient_data:  \u001b[38;5;66;03m# Set by `catch_stop_iteration`.\u001b[39;00m\n\u001b[1;32m   1245\u001b[0m   \u001b[38;5;28;01mbreak\u001b[39;00m\n\u001b[0;32m-> 1246\u001b[0m original_spe \u001b[38;5;241m=\u001b[39m \u001b[38;5;28;43mself\u001b[39;49m\u001b[38;5;241;43m.\u001b[39;49m\u001b[43m_steps_per_execution\u001b[49m\u001b[38;5;241;43m.\u001b[39;49m\u001b[43mnumpy\u001b[49m\u001b[43m(\u001b[49m\u001b[43m)\u001b[49m\u001b[38;5;241m.\u001b[39mitem()\n\u001b[1;32m   1247\u001b[0m can_run_full_execution \u001b[38;5;241m=\u001b[39m (\n\u001b[1;32m   1248\u001b[0m     original_spe \u001b[38;5;241m==\u001b[39m \u001b[38;5;241m1\u001b[39m \u001b[38;5;129;01mor\u001b[39;00m\n\u001b[1;32m   1249\u001b[0m     \u001b[38;5;28mself\u001b[39m\u001b[38;5;241m.\u001b[39m_inferred_steps \u001b[38;5;129;01mis\u001b[39;00m \u001b[38;5;28;01mNone\u001b[39;00m \u001b[38;5;129;01mor\u001b[39;00m\n\u001b[1;32m   1250\u001b[0m     \u001b[38;5;28mself\u001b[39m\u001b[38;5;241m.\u001b[39m_inferred_steps \u001b[38;5;241m-\u001b[39m \u001b[38;5;28mself\u001b[39m\u001b[38;5;241m.\u001b[39m_current_step \u001b[38;5;241m>\u001b[39m\u001b[38;5;241m=\u001b[39m\n\u001b[1;32m   1251\u001b[0m     original_spe)\n\u001b[1;32m   1253\u001b[0m \u001b[38;5;28;01mif\u001b[39;00m can_run_full_execution:\n",
      "File \u001b[0;32m/usr/local/lib/python3.9/site-packages/tensorflow/python/ops/resource_variable_ops.py:674\u001b[0m, in \u001b[0;36mBaseResourceVariable.numpy\u001b[0;34m(self)\u001b[0m\n\u001b[1;32m    672\u001b[0m \u001b[38;5;28;01mdef\u001b[39;00m \u001b[38;5;21mnumpy\u001b[39m(\u001b[38;5;28mself\u001b[39m):\n\u001b[1;32m    673\u001b[0m   \u001b[38;5;28;01mif\u001b[39;00m context\u001b[38;5;241m.\u001b[39mexecuting_eagerly():\n\u001b[0;32m--> 674\u001b[0m     \u001b[38;5;28;01mreturn\u001b[39;00m \u001b[38;5;28;43mself\u001b[39;49m\u001b[38;5;241;43m.\u001b[39;49m\u001b[43mread_value\u001b[49m\u001b[43m(\u001b[49m\u001b[43m)\u001b[49m\u001b[38;5;241m.\u001b[39mnumpy()\n\u001b[1;32m    675\u001b[0m   \u001b[38;5;28;01mraise\u001b[39;00m \u001b[38;5;167;01mNotImplementedError\u001b[39;00m(\n\u001b[1;32m    676\u001b[0m       \u001b[38;5;124m\"\u001b[39m\u001b[38;5;124mnumpy() is only available when eager execution is enabled.\u001b[39m\u001b[38;5;124m\"\u001b[39m)\n",
      "File \u001b[0;32m/usr/local/lib/python3.9/site-packages/tensorflow/python/ops/resource_variable_ops.py:749\u001b[0m, in \u001b[0;36mBaseResourceVariable.read_value\u001b[0;34m(self)\u001b[0m\n\u001b[1;32m    740\u001b[0m \u001b[38;5;124;03m\"\"\"Constructs an op which reads the value of this variable.\u001b[39;00m\n\u001b[1;32m    741\u001b[0m \n\u001b[1;32m    742\u001b[0m \u001b[38;5;124;03mShould be used when there are multiple reads, or when it is desirable to\u001b[39;00m\n\u001b[0;32m   (...)\u001b[0m\n\u001b[1;32m    746\u001b[0m \u001b[38;5;124;03m the read operation.\u001b[39;00m\n\u001b[1;32m    747\u001b[0m \u001b[38;5;124;03m\"\"\"\u001b[39;00m\n\u001b[1;32m    748\u001b[0m \u001b[38;5;28;01mwith\u001b[39;00m ops\u001b[38;5;241m.\u001b[39mname_scope(\u001b[38;5;124m\"\u001b[39m\u001b[38;5;124mRead\u001b[39m\u001b[38;5;124m\"\u001b[39m):\n\u001b[0;32m--> 749\u001b[0m   value \u001b[38;5;241m=\u001b[39m \u001b[38;5;28;43mself\u001b[39;49m\u001b[38;5;241;43m.\u001b[39;49m\u001b[43m_read_variable_op\u001b[49m\u001b[43m(\u001b[49m\u001b[43m)\u001b[49m\n\u001b[1;32m    750\u001b[0m \u001b[38;5;66;03m# Return an identity so it can get placed on whatever device the context\u001b[39;00m\n\u001b[1;32m    751\u001b[0m \u001b[38;5;66;03m# specifies instead of the device where the variable is.\u001b[39;00m\n\u001b[1;32m    752\u001b[0m \u001b[38;5;28;01mreturn\u001b[39;00m array_ops\u001b[38;5;241m.\u001b[39midentity(value)\n",
      "File \u001b[0;32m/usr/local/lib/python3.9/site-packages/tensorflow/python/ops/resource_variable_ops.py:715\u001b[0m, in \u001b[0;36mBaseResourceVariable._read_variable_op\u001b[0;34m(self)\u001b[0m\n\u001b[1;32m    714\u001b[0m \u001b[38;5;28;01mdef\u001b[39;00m \u001b[38;5;21m_read_variable_op\u001b[39m(\u001b[38;5;28mself\u001b[39m):\n\u001b[0;32m--> 715\u001b[0m   \u001b[43mvariable_accessed\u001b[49m\u001b[43m(\u001b[49m\u001b[38;5;28;43mself\u001b[39;49m\u001b[43m)\u001b[49m\n\u001b[1;32m    717\u001b[0m   \u001b[38;5;28;01mdef\u001b[39;00m \u001b[38;5;21mread_and_set_handle\u001b[39m():\n\u001b[1;32m    718\u001b[0m     result \u001b[38;5;241m=\u001b[39m gen_resource_variable_ops\u001b[38;5;241m.\u001b[39mread_variable_op(\n\u001b[1;32m    719\u001b[0m         \u001b[38;5;28mself\u001b[39m\u001b[38;5;241m.\u001b[39mhandle, \u001b[38;5;28mself\u001b[39m\u001b[38;5;241m.\u001b[39m_dtype)\n",
      "File \u001b[0;32m/usr/local/lib/python3.9/site-packages/tensorflow/python/ops/resource_variable_ops.py:328\u001b[0m, in \u001b[0;36mvariable_accessed\u001b[0;34m(variable)\u001b[0m\n\u001b[1;32m    326\u001b[0m \u001b[38;5;28;01mif\u001b[39;00m \u001b[38;5;28mhasattr\u001b[39m(ops\u001b[38;5;241m.\u001b[39mget_default_graph(), \u001b[38;5;124m\"\u001b[39m\u001b[38;5;124mwatch_variable\u001b[39m\u001b[38;5;124m\"\u001b[39m):\n\u001b[1;32m    327\u001b[0m   ops\u001b[38;5;241m.\u001b[39mget_default_graph()\u001b[38;5;241m.\u001b[39mwatch_variable(variable)\n\u001b[0;32m--> 328\u001b[0m \u001b[38;5;28;01mif\u001b[39;00m \u001b[43mvariable\u001b[49m\u001b[38;5;241;43m.\u001b[39;49m\u001b[43mtrainable\u001b[49m:\n\u001b[1;32m    329\u001b[0m   tape\u001b[38;5;241m.\u001b[39mvariable_accessed(variable)\n",
      "File \u001b[0;32m/usr/local/lib/python3.9/site-packages/tensorflow/python/ops/resource_variable_ops.py:653\u001b[0m, in \u001b[0;36mBaseResourceVariable.trainable\u001b[0;34m(self)\u001b[0m\n\u001b[1;32m    650\u001b[0m   \u001b[38;5;124;03m\"\"\"The op for this variable.\"\"\"\u001b[39;00m\n\u001b[1;32m    651\u001b[0m   \u001b[38;5;28;01mreturn\u001b[39;00m \u001b[38;5;28mself\u001b[39m\u001b[38;5;241m.\u001b[39mhandle\u001b[38;5;241m.\u001b[39mop\n\u001b[0;32m--> 653\u001b[0m \u001b[38;5;129m@property\u001b[39m\n\u001b[1;32m    654\u001b[0m \u001b[38;5;28;01mdef\u001b[39;00m \u001b[38;5;21mtrainable\u001b[39m(\u001b[38;5;28mself\u001b[39m):\n\u001b[1;32m    655\u001b[0m   \u001b[38;5;28;01mreturn\u001b[39;00m \u001b[38;5;28mself\u001b[39m\u001b[38;5;241m.\u001b[39m_trainable\n\u001b[1;32m    657\u001b[0m \u001b[38;5;129m@property\u001b[39m\n\u001b[1;32m    658\u001b[0m \u001b[38;5;28;01mdef\u001b[39;00m \u001b[38;5;21msynchronization\u001b[39m(\u001b[38;5;28mself\u001b[39m):\n",
      "\u001b[0;31mKeyboardInterrupt\u001b[0m: "
     ]
    }
   ],
   "source": [
    "history = dnn_model.fit(\n",
    "    train_features,\n",
    "    train_labels,\n",
    "    validation_split=0.2,\n",
    "    verbose=0, epochs=100)"
   ]
  },
  {
   "cell_type": "code",
   "execution_count": 364,
   "id": "86057406",
   "metadata": {},
   "outputs": [
    {
     "data": {
      "image/png": "[encoded data removed]",
      "text/plain": [
       "<Figure size 432x288 with 1 Axes>"
      ]
     },
     "metadata": {
      "needs_background": "light"
     },
     "output_type": "display_data"
    }
   ],
   "source": [
    "plot_loss(history)"
   ]
  },
  {
   "cell_type": "code",
   "execution_count": null,
   "id": "a7234ad9",
   "metadata": {},
   "outputs": [],
   "source": []
  }
 ],
 "metadata": {
  "kernelspec": {
   "display_name": "Python 3 (ipykernel)",
   "language": "python",
   "name": "python3"
  },
  "language_info": {
   "codemirror_mode": {
    "name": "ipython",
    "version": 3
   },
   "file_extension": ".py",
   "mimetype": "text/x-python",
   "name": "python",
   "nbconvert_exporter": "python",
   "pygments_lexer": "ipython3",
   "version": "3.9.10"
  }
 },
 "nbformat": 4,
 "nbformat_minor": 5
}
