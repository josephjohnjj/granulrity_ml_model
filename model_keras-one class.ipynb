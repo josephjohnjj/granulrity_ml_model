{
 "cells": [
  {
   "cell_type": "code",
   "execution_count": 5,
   "id": "1876d245",
   "metadata": {},
   "outputs": [
    {
     "name": "stdout",
     "output_type": "stream",
     "text": [
      "2.8.0\n"
     ]
    }
   ],
   "source": [
    "import matplotlib.pyplot as plt\n",
    "import numpy as np\n",
    "import pandas as pd\n",
    "import seaborn as sns\n",
    "import os\n",
    "import glob\n",
    "import statistics\n",
    "\n",
    "import tensorflow as tf\n",
    "\n",
    "from tensorflow import keras\n",
    "from tensorflow.keras import layers\n",
    "from numpy import sum as arraysum\n",
    "\n",
    "print(tf.__version__)\n",
    "\n",
    "# Make NumPy printouts easier to read.\n",
    "np.set_printoptions(precision=3, suppress=True)"
   ]
  },
  {
   "cell_type": "markdown",
   "id": "64fe431e",
   "metadata": {},
   "source": [
    "### Club all the traces together into a single dataframe"
   ]
  },
  {
   "cell_type": "code",
   "execution_count": 6,
   "id": "4adecc06",
   "metadata": {},
   "outputs": [],
   "source": [
    "path = './traces/'# use your path\n",
    "#all_files = glob.glob(path + \"/*.h5\")\n",
    "all_files = glob.glob(path + \"/dpotrf_T_*_N_20k-*.prof.h5\")\n",
    "\n",
    "li = []\n",
    "\n",
    "for filename in all_files:\n",
    "    trace =  pd.HDFStore(filename)\n",
    "    data = trace.get('/events')\n",
    "    trace.close()\n",
    "    \n",
    "    li.append(data)\n",
    "\n",
    "df = pd.concat(li, axis=0, ignore_index=True)\n"
   ]
  },
  {
   "cell_type": "markdown",
   "id": "e8f0d6ba",
   "metadata": {},
   "source": [
    "# Clean the data"
   ]
  },
  {
   "cell_type": "code",
   "execution_count": 7,
   "id": "702d9c40",
   "metadata": {},
   "outputs": [],
   "source": [
    "#remove info from other traces\n",
    "df_refined = df[['begin', 'end', 'taskpool_id', 'task_class_id','chore_id', 'nb_data_items', 'total_data_size', 'priority']].copy()\n",
    "df_refined['exec_time'] = (df['end'] - df['begin']) * .001 #0.001 nano seconds to micro seconds\n",
    "df_refined = df_refined.astype(float)"
   ]
  },
  {
   "cell_type": "code",
   "execution_count": 8,
   "id": "dd301c4e",
   "metadata": {},
   "outputs": [],
   "source": [
    "df_class_name = {0: 'dpotrf', 1: 'dtrsm', 2: 'dsyrk', 3: 'dgemm'}"
   ]
  },
  {
   "cell_type": "code",
   "execution_count": 9,
   "id": "85b83021",
   "metadata": {},
   "outputs": [
    {
     "data": {
      "text/html": [
       "<div>\n",
       "<style scoped>\n",
       "    .dataframe tbody tr th:only-of-type {\n",
       "        vertical-align: middle;\n",
       "    }\n",
       "\n",
       "    .dataframe tbody tr th {\n",
       "        vertical-align: top;\n",
       "    }\n",
       "\n",
       "    .dataframe thead th {\n",
       "        text-align: right;\n",
       "    }\n",
       "</style>\n",
       "<table border=\"1\" class=\"dataframe\">\n",
       "  <thead>\n",
       "    <tr style=\"text-align: right;\">\n",
       "      <th></th>\n",
       "      <th>begin</th>\n",
       "      <th>end</th>\n",
       "      <th>taskpool_id</th>\n",
       "      <th>task_class_id</th>\n",
       "      <th>chore_id</th>\n",
       "      <th>nb_data_items</th>\n",
       "      <th>total_data_size</th>\n",
       "      <th>priority</th>\n",
       "      <th>exec_time</th>\n",
       "    </tr>\n",
       "  </thead>\n",
       "  <tbody>\n",
       "    <tr>\n",
       "      <th>8</th>\n",
       "      <td>185362563.0</td>\n",
       "      <td>227160705.0</td>\n",
       "      <td>4.0</td>\n",
       "      <td>3.0</td>\n",
       "      <td>0.0</td>\n",
       "      <td>3.0</td>\n",
       "      <td>15360000.0</td>\n",
       "      <td>396.0</td>\n",
       "      <td>41798.142</td>\n",
       "    </tr>\n",
       "    <tr>\n",
       "      <th>9</th>\n",
       "      <td>227198609.0</td>\n",
       "      <td>281851243.0</td>\n",
       "      <td>4.0</td>\n",
       "      <td>3.0</td>\n",
       "      <td>0.0</td>\n",
       "      <td>3.0</td>\n",
       "      <td>15360000.0</td>\n",
       "      <td>5038.0</td>\n",
       "      <td>54652.634</td>\n",
       "    </tr>\n",
       "    <tr>\n",
       "      <th>10</th>\n",
       "      <td>281900433.0</td>\n",
       "      <td>320213108.0</td>\n",
       "      <td>4.0</td>\n",
       "      <td>3.0</td>\n",
       "      <td>0.0</td>\n",
       "      <td>3.0</td>\n",
       "      <td>15360000.0</td>\n",
       "      <td>3519.0</td>\n",
       "      <td>38312.675</td>\n",
       "    </tr>\n",
       "    <tr>\n",
       "      <th>11</th>\n",
       "      <td>320251585.0</td>\n",
       "      <td>357250422.0</td>\n",
       "      <td>4.0</td>\n",
       "      <td>3.0</td>\n",
       "      <td>0.0</td>\n",
       "      <td>3.0</td>\n",
       "      <td>15360000.0</td>\n",
       "      <td>4330.0</td>\n",
       "      <td>36998.837</td>\n",
       "    </tr>\n",
       "    <tr>\n",
       "      <th>12</th>\n",
       "      <td>357297224.0</td>\n",
       "      <td>395973888.0</td>\n",
       "      <td>4.0</td>\n",
       "      <td>3.0</td>\n",
       "      <td>0.0</td>\n",
       "      <td>3.0</td>\n",
       "      <td>15360000.0</td>\n",
       "      <td>2292.0</td>\n",
       "      <td>38676.664</td>\n",
       "    </tr>\n",
       "  </tbody>\n",
       "</table>\n",
       "</div>"
      ],
      "text/plain": [
       "          begin          end  taskpool_id  task_class_id  chore_id  \\\n",
       "8   185362563.0  227160705.0          4.0            3.0       0.0   \n",
       "9   227198609.0  281851243.0          4.0            3.0       0.0   \n",
       "10  281900433.0  320213108.0          4.0            3.0       0.0   \n",
       "11  320251585.0  357250422.0          4.0            3.0       0.0   \n",
       "12  357297224.0  395973888.0          4.0            3.0       0.0   \n",
       "\n",
       "    nb_data_items  total_data_size  priority  exec_time  \n",
       "8             3.0       15360000.0     396.0  41798.142  \n",
       "9             3.0       15360000.0    5038.0  54652.634  \n",
       "10            3.0       15360000.0    3519.0  38312.675  \n",
       "11            3.0       15360000.0    4330.0  36998.837  \n",
       "12            3.0       15360000.0    2292.0  38676.664  "
      ]
     },
     "execution_count": 9,
     "metadata": {},
     "output_type": "execute_result"
    }
   ],
   "source": [
    "filter = ( (df_refined['task_class_id'] == 3 )  )\n",
    "#remove all other classes other than dpotrf, dgemm, trsm and syrk\n",
    "df_refined = df_refined[filter]\n",
    "df_refined.head()"
   ]
  },
  {
   "cell_type": "code",
   "execution_count": 111,
   "id": "dbf07c58",
   "metadata": {},
   "outputs": [],
   "source": [
    "df_class = {}\n",
    "for i in df_refined['task_class_id'].unique():\n",
    "    df_class[i] = df_refined[df_refined['task_class_id'] == i]\n",
    "    "
   ]
  },
  {
   "cell_type": "markdown",
   "id": "2408c99a",
   "metadata": {},
   "source": [
    "### remove outliers"
   ]
  },
  {
   "cell_type": "code",
   "execution_count": 11,
   "id": "488dde91",
   "metadata": {},
   "outputs": [],
   "source": [
    "\n",
    "title = 'GEMM'\n",
    "Q1 = df_refined['exec_time'].quantile(0.25)\n",
    "Q3 = df_refined['exec_time'].quantile(0.75)\n",
    "IQR = Q3 - Q1    #IQR is interquartile range.\n",
    "filter = (df_refined['exec_time'] >= Q1 - 1.5 * IQR) & (df_refined['exec_time'] <= Q3 + 1.5 *IQR)\n",
    "df_refined = df_refined.loc[filter]\n",
    "df_refined = df_refined.astype(float)\n",
    "  "
   ]
  },
  {
   "cell_type": "markdown",
   "id": "f9b5ba8b",
   "metadata": {},
   "source": [
    "## integrate likelihood of the data being in cash.\n",
    "we assume that all the task whose execution time is in the first quartile could have had all its data in the cache. While, the rest of the tasks would have resulted in a cache flush. While predicting we assume that the that the data of the task is not in the cache "
   ]
  },
  {
   "cell_type": "code",
   "execution_count": 12,
   "id": "7287608d",
   "metadata": {},
   "outputs": [],
   "source": [
    "Q1 = df_refined['exec_time'].quantile(0.25)\n",
    "Q3 = df_refined['exec_time'].quantile(0.75)\n",
    "IQR = Q3 - Q1    #IQR is interquartile range.\n",
    "df_refined['cache_likelihood'] = np.where(df_refined['exec_time'] < Q1, 1, 0)"
   ]
  },
  {
   "cell_type": "code",
   "execution_count": 13,
   "id": "f78281dc",
   "metadata": {},
   "outputs": [
    {
     "data": {
      "text/html": [
       "<div>\n",
       "<style scoped>\n",
       "    .dataframe tbody tr th:only-of-type {\n",
       "        vertical-align: middle;\n",
       "    }\n",
       "\n",
       "    .dataframe tbody tr th {\n",
       "        vertical-align: top;\n",
       "    }\n",
       "\n",
       "    .dataframe thead th {\n",
       "        text-align: right;\n",
       "    }\n",
       "</style>\n",
       "<table border=\"1\" class=\"dataframe\">\n",
       "  <thead>\n",
       "    <tr style=\"text-align: right;\">\n",
       "      <th></th>\n",
       "      <th>begin</th>\n",
       "      <th>end</th>\n",
       "      <th>taskpool_id</th>\n",
       "      <th>task_class_id</th>\n",
       "      <th>chore_id</th>\n",
       "      <th>nb_data_items</th>\n",
       "      <th>total_data_size</th>\n",
       "      <th>priority</th>\n",
       "      <th>exec_time</th>\n",
       "      <th>cache_likelihood</th>\n",
       "    </tr>\n",
       "  </thead>\n",
       "  <tbody>\n",
       "    <tr>\n",
       "      <th>1642692</th>\n",
       "      <td>3.939947e+11</td>\n",
       "      <td>3.939948e+11</td>\n",
       "      <td>4.0</td>\n",
       "      <td>3.0</td>\n",
       "      <td>0.0</td>\n",
       "      <td>3.0</td>\n",
       "      <td>240000.0</td>\n",
       "      <td>572.0</td>\n",
       "      <td>89.519</td>\n",
       "      <td>0</td>\n",
       "    </tr>\n",
       "    <tr>\n",
       "      <th>1642693</th>\n",
       "      <td>3.939976e+11</td>\n",
       "      <td>3.939977e+11</td>\n",
       "      <td>4.0</td>\n",
       "      <td>3.0</td>\n",
       "      <td>0.0</td>\n",
       "      <td>3.0</td>\n",
       "      <td>240000.0</td>\n",
       "      <td>103.0</td>\n",
       "      <td>108.031</td>\n",
       "      <td>0</td>\n",
       "    </tr>\n",
       "    <tr>\n",
       "      <th>1642695</th>\n",
       "      <td>3.940688e+11</td>\n",
       "      <td>3.940689e+11</td>\n",
       "      <td>4.0</td>\n",
       "      <td>3.0</td>\n",
       "      <td>0.0</td>\n",
       "      <td>3.0</td>\n",
       "      <td>240000.0</td>\n",
       "      <td>294.0</td>\n",
       "      <td>95.878</td>\n",
       "      <td>0</td>\n",
       "    </tr>\n",
       "    <tr>\n",
       "      <th>1642696</th>\n",
       "      <td>3.940694e+11</td>\n",
       "      <td>3.940695e+11</td>\n",
       "      <td>4.0</td>\n",
       "      <td>3.0</td>\n",
       "      <td>0.0</td>\n",
       "      <td>3.0</td>\n",
       "      <td>240000.0</td>\n",
       "      <td>288.0</td>\n",
       "      <td>98.266</td>\n",
       "      <td>0</td>\n",
       "    </tr>\n",
       "    <tr>\n",
       "      <th>1642702</th>\n",
       "      <td>3.941754e+11</td>\n",
       "      <td>3.941755e+11</td>\n",
       "      <td>4.0</td>\n",
       "      <td>3.0</td>\n",
       "      <td>0.0</td>\n",
       "      <td>3.0</td>\n",
       "      <td>240000.0</td>\n",
       "      <td>31.0</td>\n",
       "      <td>99.821</td>\n",
       "      <td>0</td>\n",
       "    </tr>\n",
       "  </tbody>\n",
       "</table>\n",
       "</div>"
      ],
      "text/plain": [
       "                begin           end  taskpool_id  task_class_id  chore_id  \\\n",
       "1642692  3.939947e+11  3.939948e+11          4.0            3.0       0.0   \n",
       "1642693  3.939976e+11  3.939977e+11          4.0            3.0       0.0   \n",
       "1642695  3.940688e+11  3.940689e+11          4.0            3.0       0.0   \n",
       "1642696  3.940694e+11  3.940695e+11          4.0            3.0       0.0   \n",
       "1642702  3.941754e+11  3.941755e+11          4.0            3.0       0.0   \n",
       "\n",
       "         nb_data_items  total_data_size  priority  exec_time  cache_likelihood  \n",
       "1642692            3.0         240000.0     572.0     89.519                 0  \n",
       "1642693            3.0         240000.0     103.0    108.031                 0  \n",
       "1642695            3.0         240000.0     294.0     95.878                 0  \n",
       "1642696            3.0         240000.0     288.0     98.266                 0  \n",
       "1642702            3.0         240000.0      31.0     99.821                 0  "
      ]
     },
     "execution_count": 13,
     "metadata": {},
     "output_type": "execute_result"
    }
   ],
   "source": [
    "df_refined.tail()"
   ]
  },
  {
   "cell_type": "markdown",
   "id": "2d92631e",
   "metadata": {},
   "source": [
    "### Divide the data to training and test sets (GEMM)"
   ]
  },
  {
   "cell_type": "code",
   "execution_count": 15,
   "id": "ba0e62a5",
   "metadata": {},
   "outputs": [
    {
     "name": "stdout",
     "output_type": "stream",
     "text": [
      "(1007640, 10)\n",
      "(251910, 10)\n"
     ]
    }
   ],
   "source": [
    "train_dataset = df_refined.sample(frac=0.8, random_state=0)\n",
    "test_dataset = df_refined.drop(train_dataset.index)\n",
    "print(train_dataset.shape)\n",
    "print(test_dataset.shape)"
   ]
  },
  {
   "cell_type": "markdown",
   "id": "6c46d7eb",
   "metadata": {},
   "source": [
    "## Divide the data into trainig features and labels"
   ]
  },
  {
   "cell_type": "code",
   "execution_count": 16,
   "id": "34d95040",
   "metadata": {},
   "outputs": [],
   "source": [
    "train_features = train_dataset.copy()\n",
    "test_features = test_dataset.copy()\n",
    "\n",
    "train_labels = train_features.pop('exec_time')\n",
    "test_labels = test_features.pop('exec_time')"
   ]
  },
  {
   "cell_type": "code",
   "execution_count": 17,
   "id": "5f16f1a2",
   "metadata": {},
   "outputs": [
    {
     "data": {
      "text/html": [
       "<div>\n",
       "<style scoped>\n",
       "    .dataframe tbody tr th:only-of-type {\n",
       "        vertical-align: middle;\n",
       "    }\n",
       "\n",
       "    .dataframe tbody tr th {\n",
       "        vertical-align: top;\n",
       "    }\n",
       "\n",
       "    .dataframe thead th {\n",
       "        text-align: right;\n",
       "    }\n",
       "</style>\n",
       "<table border=\"1\" class=\"dataframe\">\n",
       "  <thead>\n",
       "    <tr style=\"text-align: right;\">\n",
       "      <th></th>\n",
       "      <th>count</th>\n",
       "      <th>mean</th>\n",
       "      <th>std</th>\n",
       "      <th>min</th>\n",
       "      <th>25%</th>\n",
       "      <th>50%</th>\n",
       "      <th>75%</th>\n",
       "      <th>max</th>\n",
       "    </tr>\n",
       "  </thead>\n",
       "  <tbody>\n",
       "    <tr>\n",
       "      <th>begin</th>\n",
       "      <td>1007640.0</td>\n",
       "      <td>1.917908e+11</td>\n",
       "      <td>1.102670e+11</td>\n",
       "      <td>6.342351e+09</td>\n",
       "      <td>9.568582e+10</td>\n",
       "      <td>1.889181e+11</td>\n",
       "      <td>2.862502e+11</td>\n",
       "      <td>3.942089e+11</td>\n",
       "    </tr>\n",
       "    <tr>\n",
       "      <th>end</th>\n",
       "      <td>1007640.0</td>\n",
       "      <td>1.917909e+11</td>\n",
       "      <td>1.102670e+11</td>\n",
       "      <td>6.342465e+09</td>\n",
       "      <td>9.568591e+10</td>\n",
       "      <td>1.889182e+11</td>\n",
       "      <td>2.862503e+11</td>\n",
       "      <td>3.942091e+11</td>\n",
       "    </tr>\n",
       "    <tr>\n",
       "      <th>taskpool_id</th>\n",
       "      <td>1007640.0</td>\n",
       "      <td>4.000000e+00</td>\n",
       "      <td>0.000000e+00</td>\n",
       "      <td>4.000000e+00</td>\n",
       "      <td>4.000000e+00</td>\n",
       "      <td>4.000000e+00</td>\n",
       "      <td>4.000000e+00</td>\n",
       "      <td>4.000000e+00</td>\n",
       "    </tr>\n",
       "    <tr>\n",
       "      <th>task_class_id</th>\n",
       "      <td>1007640.0</td>\n",
       "      <td>3.000000e+00</td>\n",
       "      <td>0.000000e+00</td>\n",
       "      <td>3.000000e+00</td>\n",
       "      <td>3.000000e+00</td>\n",
       "      <td>3.000000e+00</td>\n",
       "      <td>3.000000e+00</td>\n",
       "      <td>3.000000e+00</td>\n",
       "    </tr>\n",
       "    <tr>\n",
       "      <th>chore_id</th>\n",
       "      <td>1007640.0</td>\n",
       "      <td>0.000000e+00</td>\n",
       "      <td>0.000000e+00</td>\n",
       "      <td>0.000000e+00</td>\n",
       "      <td>0.000000e+00</td>\n",
       "      <td>0.000000e+00</td>\n",
       "      <td>0.000000e+00</td>\n",
       "      <td>0.000000e+00</td>\n",
       "    </tr>\n",
       "    <tr>\n",
       "      <th>nb_data_items</th>\n",
       "      <td>1007640.0</td>\n",
       "      <td>3.000000e+00</td>\n",
       "      <td>0.000000e+00</td>\n",
       "      <td>3.000000e+00</td>\n",
       "      <td>3.000000e+00</td>\n",
       "      <td>3.000000e+00</td>\n",
       "      <td>3.000000e+00</td>\n",
       "      <td>3.000000e+00</td>\n",
       "    </tr>\n",
       "    <tr>\n",
       "      <th>total_data_size</th>\n",
       "      <td>1007640.0</td>\n",
       "      <td>2.400000e+05</td>\n",
       "      <td>0.000000e+00</td>\n",
       "      <td>2.400000e+05</td>\n",
       "      <td>2.400000e+05</td>\n",
       "      <td>2.400000e+05</td>\n",
       "      <td>2.400000e+05</td>\n",
       "      <td>2.400000e+05</td>\n",
       "    </tr>\n",
       "    <tr>\n",
       "      <th>priority</th>\n",
       "      <td>1007640.0</td>\n",
       "      <td>4.270159e+05</td>\n",
       "      <td>7.705201e+05</td>\n",
       "      <td>1.300000e+01</td>\n",
       "      <td>3.271900e+04</td>\n",
       "      <td>1.055560e+05</td>\n",
       "      <td>4.409012e+05</td>\n",
       "      <td>7.647749e+06</td>\n",
       "    </tr>\n",
       "    <tr>\n",
       "      <th>cache_likelihood</th>\n",
       "      <td>1007640.0</td>\n",
       "      <td>2.500476e-01</td>\n",
       "      <td>4.330404e-01</td>\n",
       "      <td>0.000000e+00</td>\n",
       "      <td>0.000000e+00</td>\n",
       "      <td>0.000000e+00</td>\n",
       "      <td>1.000000e+00</td>\n",
       "      <td>1.000000e+00</td>\n",
       "    </tr>\n",
       "  </tbody>\n",
       "</table>\n",
       "</div>"
      ],
      "text/plain": [
       "                      count          mean           std           min  \\\n",
       "begin             1007640.0  1.917908e+11  1.102670e+11  6.342351e+09   \n",
       "end               1007640.0  1.917909e+11  1.102670e+11  6.342465e+09   \n",
       "taskpool_id       1007640.0  4.000000e+00  0.000000e+00  4.000000e+00   \n",
       "task_class_id     1007640.0  3.000000e+00  0.000000e+00  3.000000e+00   \n",
       "chore_id          1007640.0  0.000000e+00  0.000000e+00  0.000000e+00   \n",
       "nb_data_items     1007640.0  3.000000e+00  0.000000e+00  3.000000e+00   \n",
       "total_data_size   1007640.0  2.400000e+05  0.000000e+00  2.400000e+05   \n",
       "priority          1007640.0  4.270159e+05  7.705201e+05  1.300000e+01   \n",
       "cache_likelihood  1007640.0  2.500476e-01  4.330404e-01  0.000000e+00   \n",
       "\n",
       "                           25%           50%           75%           max  \n",
       "begin             9.568582e+10  1.889181e+11  2.862502e+11  3.942089e+11  \n",
       "end               9.568591e+10  1.889182e+11  2.862503e+11  3.942091e+11  \n",
       "taskpool_id       4.000000e+00  4.000000e+00  4.000000e+00  4.000000e+00  \n",
       "task_class_id     3.000000e+00  3.000000e+00  3.000000e+00  3.000000e+00  \n",
       "chore_id          0.000000e+00  0.000000e+00  0.000000e+00  0.000000e+00  \n",
       "nb_data_items     3.000000e+00  3.000000e+00  3.000000e+00  3.000000e+00  \n",
       "total_data_size   2.400000e+05  2.400000e+05  2.400000e+05  2.400000e+05  \n",
       "priority          3.271900e+04  1.055560e+05  4.409012e+05  7.647749e+06  \n",
       "cache_likelihood  0.000000e+00  0.000000e+00  1.000000e+00  1.000000e+00  "
      ]
     },
     "execution_count": 17,
     "metadata": {},
     "output_type": "execute_result"
    }
   ],
   "source": [
    "train_features.describe().transpose()"
   ]
  },
  {
   "cell_type": "markdown",
   "id": "695ac3df",
   "metadata": {},
   "source": [
    "# -------------------Build the multi variate full model------------------------------"
   ]
  },
  {
   "cell_type": "markdown",
   "id": "b1ea8c13",
   "metadata": {},
   "source": [
    "## select the required features from the list"
   ]
  },
  {
   "cell_type": "code",
   "execution_count": 18,
   "id": "9dd6a6c3",
   "metadata": {},
   "outputs": [
    {
     "data": {
      "text/html": [
       "<div>\n",
       "<style scoped>\n",
       "    .dataframe tbody tr th:only-of-type {\n",
       "        vertical-align: middle;\n",
       "    }\n",
       "\n",
       "    .dataframe tbody tr th {\n",
       "        vertical-align: top;\n",
       "    }\n",
       "\n",
       "    .dataframe thead th {\n",
       "        text-align: right;\n",
       "    }\n",
       "</style>\n",
       "<table border=\"1\" class=\"dataframe\">\n",
       "  <thead>\n",
       "    <tr style=\"text-align: right;\">\n",
       "      <th></th>\n",
       "      <th>task_class_id</th>\n",
       "      <th>nb_data_items</th>\n",
       "      <th>total_data_size</th>\n",
       "      <th>priority</th>\n",
       "      <th>cache_likelihood</th>\n",
       "    </tr>\n",
       "  </thead>\n",
       "  <tbody>\n",
       "    <tr>\n",
       "      <th>1142428</th>\n",
       "      <td>3.0</td>\n",
       "      <td>3.0</td>\n",
       "      <td>240000.0</td>\n",
       "      <td>454900.0</td>\n",
       "      <td>0</td>\n",
       "    </tr>\n",
       "    <tr>\n",
       "      <th>839879</th>\n",
       "      <td>3.0</td>\n",
       "      <td>3.0</td>\n",
       "      <td>240000.0</td>\n",
       "      <td>54278.0</td>\n",
       "      <td>0</td>\n",
       "    </tr>\n",
       "    <tr>\n",
       "      <th>1537092</th>\n",
       "      <td>3.0</td>\n",
       "      <td>3.0</td>\n",
       "      <td>240000.0</td>\n",
       "      <td>16376.0</td>\n",
       "      <td>0</td>\n",
       "    </tr>\n",
       "    <tr>\n",
       "      <th>1273068</th>\n",
       "      <td>3.0</td>\n",
       "      <td>3.0</td>\n",
       "      <td>240000.0</td>\n",
       "      <td>153335.0</td>\n",
       "      <td>0</td>\n",
       "    </tr>\n",
       "    <tr>\n",
       "      <th>1338292</th>\n",
       "      <td>3.0</td>\n",
       "      <td>3.0</td>\n",
       "      <td>240000.0</td>\n",
       "      <td>108361.0</td>\n",
       "      <td>0</td>\n",
       "    </tr>\n",
       "  </tbody>\n",
       "</table>\n",
       "</div>"
      ],
      "text/plain": [
       "         task_class_id  nb_data_items  total_data_size  priority  \\\n",
       "1142428            3.0            3.0         240000.0  454900.0   \n",
       "839879             3.0            3.0         240000.0   54278.0   \n",
       "1537092            3.0            3.0         240000.0   16376.0   \n",
       "1273068            3.0            3.0         240000.0  153335.0   \n",
       "1338292            3.0            3.0         240000.0  108361.0   \n",
       "\n",
       "         cache_likelihood  \n",
       "1142428                 0  \n",
       "839879                  0  \n",
       "1537092                 0  \n",
       "1273068                 0  \n",
       "1338292                 0  "
      ]
     },
     "execution_count": 18,
     "metadata": {},
     "output_type": "execute_result"
    }
   ],
   "source": [
    "## for the time being select only total_data_size, priority, diff task_classes and diff taskpools\n",
    "\n",
    "#train_features = train_features.drop('end', 1)\n",
    "#train_features = train_features.drop('end', 1)\n",
    "train_features = train_features.drop(['chore_id', 'begin', 'end', 'taskpool_id'], axis = 1)\n",
    "test_features = test_features.drop(['chore_id', 'begin', 'end', 'taskpool_id'], axis = 1)\n",
    "train_features.head()\n"
   ]
  },
  {
   "cell_type": "code",
   "execution_count": 19,
   "id": "5033b55f",
   "metadata": {},
   "outputs": [
    {
     "name": "stderr",
     "output_type": "stream",
     "text": [
      "2022-04-13 12:53:48.181355: I tensorflow/core/platform/cpu_feature_guard.cc:151] This TensorFlow binary is optimized with oneAPI Deep Neural Network Library (oneDNN) to use the following CPU instructions in performance-critical operations:  AVX2 FMA\n",
      "To enable them in other operations, rebuild TensorFlow with the appropriate compiler flags.\n"
     ]
    }
   ],
   "source": [
    "normalizer = tf.keras.layers.Normalization(axis=-1)\n",
    "#normalizer = layers.Normalization(input_shape=[1,], axis=None)\n",
    "normalizer.adapt(np.array(train_features))"
   ]
  },
  {
   "cell_type": "code",
   "execution_count": 20,
   "id": "d39d3614",
   "metadata": {},
   "outputs": [],
   "source": [
    "\n",
    "\n",
    "full_model = tf.keras.Sequential([\n",
    "    normalizer,\n",
    "    layers.Dense(units=1)\n",
    "])"
   ]
  },
  {
   "cell_type": "code",
   "execution_count": 21,
   "id": "c5871033",
   "metadata": {},
   "outputs": [
    {
     "name": "stdout",
     "output_type": "stream",
     "text": [
      "[]\n"
     ]
    }
   ],
   "source": [
    "full_model.compile(\n",
    "    optimizer=tf.optimizers.Adam(learning_rate=0.1),\n",
    "    loss='mse', metrics=[tf.keras.metrics.Accuracy()])\n",
    "print(full_model.metrics_names)"
   ]
  },
  {
   "cell_type": "markdown",
   "id": "64c75b10",
   "metadata": {},
   "source": [
    "## Train the linear regression  model"
   ]
  },
  {
   "cell_type": "code",
   "execution_count": 22,
   "id": "d8e6b329",
   "metadata": {},
   "outputs": [],
   "source": [
    "history = full_model.fit(\n",
    "    train_features,\n",
    "    train_labels,\n",
    "    epochs=100,\n",
    "    # Suppress logging.\n",
    "    verbose=0,\n",
    "    # Calculate validation results on 20% of the training data.\n",
    "    validation_split = 0.2)"
   ]
  },
  {
   "cell_type": "code",
   "execution_count": 35,
   "id": "dc125b0e",
   "metadata": {},
   "outputs": [
    {
     "data": {
      "text/html": [
       "<div>\n",
       "<style scoped>\n",
       "    .dataframe tbody tr th:only-of-type {\n",
       "        vertical-align: middle;\n",
       "    }\n",
       "\n",
       "    .dataframe tbody tr th {\n",
       "        vertical-align: top;\n",
       "    }\n",
       "\n",
       "    .dataframe thead th {\n",
       "        text-align: right;\n",
       "    }\n",
       "</style>\n",
       "<table border=\"1\" class=\"dataframe\">\n",
       "  <thead>\n",
       "    <tr style=\"text-align: right;\">\n",
       "      <th></th>\n",
       "      <th>task_class_id</th>\n",
       "      <th>nb_data_items</th>\n",
       "      <th>total_data_size</th>\n",
       "      <th>priority</th>\n",
       "      <th>cache_likelihood</th>\n",
       "    </tr>\n",
       "  </thead>\n",
       "  <tbody>\n",
       "    <tr>\n",
       "      <th>1142428</th>\n",
       "      <td>3.0</td>\n",
       "      <td>3.0</td>\n",
       "      <td>240000.0</td>\n",
       "      <td>454900.0</td>\n",
       "      <td>0</td>\n",
       "    </tr>\n",
       "    <tr>\n",
       "      <th>839879</th>\n",
       "      <td>3.0</td>\n",
       "      <td>3.0</td>\n",
       "      <td>240000.0</td>\n",
       "      <td>54278.0</td>\n",
       "      <td>0</td>\n",
       "    </tr>\n",
       "    <tr>\n",
       "      <th>1537092</th>\n",
       "      <td>3.0</td>\n",
       "      <td>3.0</td>\n",
       "      <td>240000.0</td>\n",
       "      <td>16376.0</td>\n",
       "      <td>0</td>\n",
       "    </tr>\n",
       "    <tr>\n",
       "      <th>1273068</th>\n",
       "      <td>3.0</td>\n",
       "      <td>3.0</td>\n",
       "      <td>240000.0</td>\n",
       "      <td>153335.0</td>\n",
       "      <td>0</td>\n",
       "    </tr>\n",
       "    <tr>\n",
       "      <th>1338292</th>\n",
       "      <td>3.0</td>\n",
       "      <td>3.0</td>\n",
       "      <td>240000.0</td>\n",
       "      <td>108361.0</td>\n",
       "      <td>0</td>\n",
       "    </tr>\n",
       "  </tbody>\n",
       "</table>\n",
       "</div>"
      ],
      "text/plain": [
       "         task_class_id  nb_data_items  total_data_size  priority  \\\n",
       "1142428            3.0            3.0         240000.0  454900.0   \n",
       "839879             3.0            3.0         240000.0   54278.0   \n",
       "1537092            3.0            3.0         240000.0   16376.0   \n",
       "1273068            3.0            3.0         240000.0  153335.0   \n",
       "1338292            3.0            3.0         240000.0  108361.0   \n",
       "\n",
       "         cache_likelihood  \n",
       "1142428                 0  \n",
       "839879                  0  \n",
       "1537092                 0  \n",
       "1273068                 0  \n",
       "1338292                 0  "
      ]
     },
     "execution_count": 35,
     "metadata": {},
     "output_type": "execute_result"
    }
   ],
   "source": [
    "train_features.head()"
   ]
  },
  {
   "cell_type": "code",
   "execution_count": 23,
   "id": "957a8b37",
   "metadata": {},
   "outputs": [
    {
     "name": "stdout",
     "output_type": "stream",
     "text": [
      "<class 'keras.callbacks.History'>\n",
      "dict_keys(['loss', 'accuracy', 'val_loss', 'val_accuracy'])\n",
      "<class 'list'>\n",
      "100\n"
     ]
    }
   ],
   "source": [
    "print(type(history))\n",
    "print(history.history.keys())\n",
    "print(type(history.history['loss']))\n",
    "print(len(history.history['loss']))"
   ]
  },
  {
   "cell_type": "code",
   "execution_count": null,
   "id": "35acdfbe",
   "metadata": {},
   "outputs": [],
   "source": []
  },
  {
   "cell_type": "code",
   "execution_count": 24,
   "id": "99839a36",
   "metadata": {},
   "outputs": [
    {
     "data": {
      "image/png": "[encoded data removed]",
      "text/plain": [
       "<Figure size 432x288 with 1 Axes>"
      ]
     },
     "metadata": {
      "needs_background": "light"
     },
     "output_type": "display_data"
    }
   ],
   "source": [
    "def plot_loss(history):\n",
    "  plt.plot(history.history['loss'], label='loss')\n",
    "  plt.plot(history.history['val_loss'], label='val_loss')\n",
    "  plt.ylim([0, 10])\n",
    "  plt.xlabel('Epoch')\n",
    "  plt.ylabel('Error [total_data_size]')\n",
    "  plt.legend()\n",
    "  plt.grid(True)\n",
    "\n",
    "plot_loss(history)"
   ]
  },
  {
   "cell_type": "code",
   "execution_count": 25,
   "id": "2ad48f74",
   "metadata": {},
   "outputs": [
    {
     "name": "stdout",
     "output_type": "stream",
     "text": [
      "Model: \"sequential\"\n",
      "_________________________________________________________________\n",
      " Layer (type)                Output Shape              Param #   \n",
      "=================================================================\n",
      " normalization (Normalizatio  (None, 5)                11        \n",
      " n)                                                              \n",
      "                                                                 \n",
      " dense (Dense)               (None, 1)                 6         \n",
      "                                                                 \n",
      "=================================================================\n",
      "Total params: 17\n",
      "Trainable params: 6\n",
      "Non-trainable params: 11\n",
      "_________________________________________________________________\n"
     ]
    }
   ],
   "source": [
    "full_model.summary()"
   ]
  },
  {
   "cell_type": "code",
   "execution_count": 26,
   "id": "07867eb1",
   "metadata": {},
   "outputs": [
    {
     "data": {
      "text/html": [
       "<div>\n",
       "<style scoped>\n",
       "    .dataframe tbody tr th:only-of-type {\n",
       "        vertical-align: middle;\n",
       "    }\n",
       "\n",
       "    .dataframe tbody tr th {\n",
       "        vertical-align: top;\n",
       "    }\n",
       "\n",
       "    .dataframe thead th {\n",
       "        text-align: right;\n",
       "    }\n",
       "</style>\n",
       "<table border=\"1\" class=\"dataframe\">\n",
       "  <thead>\n",
       "    <tr style=\"text-align: right;\">\n",
       "      <th></th>\n",
       "      <th>loss</th>\n",
       "      <th>accuracy</th>\n",
       "      <th>val_loss</th>\n",
       "      <th>val_accuracy</th>\n",
       "      <th>epoch</th>\n",
       "    </tr>\n",
       "  </thead>\n",
       "  <tbody>\n",
       "    <tr>\n",
       "      <th>95</th>\n",
       "      <td>34.808182</td>\n",
       "      <td>0.000001</td>\n",
       "      <td>34.725075</td>\n",
       "      <td>0.0</td>\n",
       "      <td>95</td>\n",
       "    </tr>\n",
       "    <tr>\n",
       "      <th>96</th>\n",
       "      <td>34.799984</td>\n",
       "      <td>0.000001</td>\n",
       "      <td>34.741295</td>\n",
       "      <td>0.0</td>\n",
       "      <td>96</td>\n",
       "    </tr>\n",
       "    <tr>\n",
       "      <th>97</th>\n",
       "      <td>34.805130</td>\n",
       "      <td>0.000000</td>\n",
       "      <td>35.381222</td>\n",
       "      <td>0.0</td>\n",
       "      <td>97</td>\n",
       "    </tr>\n",
       "    <tr>\n",
       "      <th>98</th>\n",
       "      <td>34.809391</td>\n",
       "      <td>0.000000</td>\n",
       "      <td>34.861607</td>\n",
       "      <td>0.0</td>\n",
       "      <td>98</td>\n",
       "    </tr>\n",
       "    <tr>\n",
       "      <th>99</th>\n",
       "      <td>34.800987</td>\n",
       "      <td>0.000000</td>\n",
       "      <td>35.038837</td>\n",
       "      <td>0.0</td>\n",
       "      <td>99</td>\n",
       "    </tr>\n",
       "  </tbody>\n",
       "</table>\n",
       "</div>"
      ],
      "text/plain": [
       "         loss  accuracy   val_loss  val_accuracy  epoch\n",
       "95  34.808182  0.000001  34.725075           0.0     95\n",
       "96  34.799984  0.000001  34.741295           0.0     96\n",
       "97  34.805130  0.000000  35.381222           0.0     97\n",
       "98  34.809391  0.000000  34.861607           0.0     98\n",
       "99  34.800987  0.000000  35.038837           0.0     99"
      ]
     },
     "execution_count": 26,
     "metadata": {},
     "output_type": "execute_result"
    }
   ],
   "source": [
    "hist = pd.DataFrame(history.history)\n",
    "hist['epoch'] = history.epoch\n",
    "hist.tail()"
   ]
  },
  {
   "cell_type": "markdown",
   "id": "c4246341",
   "metadata": {},
   "source": [
    "## Test the Model "
   ]
  },
  {
   "cell_type": "code",
   "execution_count": 27,
   "id": "ab576026",
   "metadata": {},
   "outputs": [
    {
     "name": "stdout",
     "output_type": "stream",
     "text": [
      "1969/1969 [==============================] - 3s 2ms/step - loss: 35.1341 - accuracy: 0.0000e+00\n",
      "<class 'list'>\n",
      "[35.134098052978516, 0.0]\n"
     ]
    }
   ],
   "source": [
    "#test_results = {}\n",
    "#test_results['full_model'] = full_model.evaluate(\n",
    "#    test_features, test_labels, verbose=0)\n",
    "#loss, acc = full_model.evaluate(test_features, test_labels, verbose=2)\n",
    "#print(test_results['full_model'])\n",
    "\n",
    "loss = full_model.evaluate(test_features, test_labels, batch_size=128)\n",
    "print(type(loss))\n",
    "print(loss)"
   ]
  },
  {
   "cell_type": "markdown",
   "id": "2ecf9ec8",
   "metadata": {},
   "source": [
    "## Train using DNN"
   ]
  },
  {
   "cell_type": "code",
   "execution_count": 28,
   "id": "0009d13e",
   "metadata": {},
   "outputs": [],
   "source": [
    "def build_and_compile_model(norm):\n",
    "  model = keras.Sequential([\n",
    "      norm,\n",
    "      layers.Dense(64, activation='relu'),\n",
    "      layers.Dense(64, activation='relu'),\n",
    "      layers.Dense(1)\n",
    "  ])\n",
    "\n",
    "  model.compile(loss='mean_absolute_error',\n",
    "                optimizer=tf.keras.optimizers.Adam(0.001))\n",
    "  return model"
   ]
  },
  {
   "cell_type": "code",
   "execution_count": 29,
   "id": "037d9bb7",
   "metadata": {},
   "outputs": [
    {
     "name": "stdout",
     "output_type": "stream",
     "text": [
      "Model: \"sequential_1\"\n",
      "_________________________________________________________________\n",
      " Layer (type)                Output Shape              Param #   \n",
      "=================================================================\n",
      " normalization (Normalizatio  (None, 5)                11        \n",
      " n)                                                              \n",
      "                                                                 \n",
      " dense_1 (Dense)             (None, 64)                384       \n",
      "                                                                 \n",
      " dense_2 (Dense)             (None, 64)                4160      \n",
      "                                                                 \n",
      " dense_3 (Dense)             (None, 1)                 65        \n",
      "                                                                 \n",
      "=================================================================\n",
      "Total params: 4,620\n",
      "Trainable params: 4,609\n",
      "Non-trainable params: 11\n",
      "_________________________________________________________________\n"
     ]
    }
   ],
   "source": [
    "dnn_model = build_and_compile_model(normalizer)\n",
    "dnn_model.summary()"
   ]
  },
  {
   "cell_type": "code",
   "execution_count": 30,
   "id": "bad7e667",
   "metadata": {},
   "outputs": [],
   "source": [
    "history = dnn_model.fit(\n",
    "    train_features,\n",
    "    train_labels,\n",
    "    validation_split=0.2,\n",
    "    verbose=0, epochs=100)"
   ]
  },
  {
   "cell_type": "code",
   "execution_count": 31,
   "id": "54934a4c",
   "metadata": {},
   "outputs": [
    {
     "data": {
      "image/png": "[encoded data removed]",
      "text/plain": [
       "<Figure size 432x288 with 1 Axes>"
      ]
     },
     "metadata": {
      "needs_background": "light"
     },
     "output_type": "display_data"
    }
   ],
   "source": [
    "plot_loss(history)"
   ]
  },
  {
   "cell_type": "markdown",
   "id": "246fdb1e",
   "metadata": {},
   "source": [
    "## Test the model"
   ]
  },
  {
   "cell_type": "code",
   "execution_count": 32,
   "id": "33f7c792",
   "metadata": {},
   "outputs": [
    {
     "name": "stdout",
     "output_type": "stream",
     "text": [
      "1969/1969 [==============================] - 4s 2ms/step - loss: 4.5401\n",
      "4.540094375610352\n"
     ]
    }
   ],
   "source": [
    "loss = dnn_model.evaluate(test_features, test_labels, batch_size=128)\n",
    "print(loss)"
   ]
  },
  {
   "cell_type": "markdown",
   "id": "9ae747a9",
   "metadata": {},
   "source": [
    "## Predict"
   ]
  },
  {
   "cell_type": "code",
   "execution_count": 40,
   "id": "7258969f",
   "metadata": {},
   "outputs": [
    {
     "name": "stdout",
     "output_type": "stream",
     "text": [
      "[[96.8]]\n"
     ]
    }
   ],
   "source": [
    "#task_class_id nb_data_items total_data_size priority cache_likelihood\n",
    "print(dnn_model.predict([3, 3, 240000.0, 294.0, 0]))\n"
   ]
  },
  {
   "cell_type": "code",
   "execution_count": 46,
   "id": "09eb45e4",
   "metadata": {},
   "outputs": [
    {
     "name": "stderr",
     "output_type": "stream",
     "text": [
      "2022-04-13 15:33:04.697942: W tensorflow/python/util/util.cc:368] Sets are not currently considered sequences, but this may change in the future, so consider avoiding using them.\n"
     ]
    },
    {
     "name": "stdout",
     "output_type": "stream",
     "text": [
      "INFO:tensorflow:Assets written to: ./dnn_model_one_class/assets\n"
     ]
    }
   ],
   "source": [
    "dnn_model.save('./dnn_model_one_class')"
   ]
  },
  {
   "cell_type": "code",
   "execution_count": 47,
   "id": "4984c5f4",
   "metadata": {},
   "outputs": [],
   "source": [
    "checkpoint_path = \"./dnn_model_one_class.ckpt\"\n",
    "checkpoint_dir = os.path.dirname(checkpoint_path)\n",
    "cp_callback = tf.keras.callbacks.ModelCheckpoint(filepath=checkpoint_path,\n",
    "                                                 save_weights_only=True,\n",
    "                                                 verbose=1)"
   ]
  },
  {
   "cell_type": "code",
   "execution_count": 48,
   "id": "f7b69c24",
   "metadata": {},
   "outputs": [],
   "source": [
    "new_dnn_model = tf.keras.models.load_model('./dnn_model_one_class')"
   ]
  },
  {
   "cell_type": "code",
   "execution_count": 45,
   "id": "a7ca35f6",
   "metadata": {},
   "outputs": [
    {
     "name": "stdout",
     "output_type": "stream",
     "text": [
      "normalization <keras.layers.preprocessing.normalization.Normalization object at 0x14ee897f0>\n",
      "dense_1 <keras.layers.core.dense.Dense object at 0x14fdcbfd0>\n",
      "dense_2 <keras.layers.core.dense.Dense object at 0x14fdcbe50>\n",
      "dense_3 <keras.layers.core.dense.Dense object at 0x14fdcb8b0>\n",
      "[<tf.Variable 'mean:0' shape=(5,) dtype=float32, numpy=\n",
      "array([     3.  ,      3.  , 239999.14, 427015.53,      0.25],\n",
      "      dtype=float32)>, <tf.Variable 'variance:0' shape=(5,) dtype=float32, numpy=\n",
      "array([1.045e-10, 1.045e-10, 9.560e-01, 5.937e+11, 1.875e-01],\n",
      "      dtype=float32)>, <tf.Variable 'count:0' shape=() dtype=int64, numpy=1007640>]\n"
     ]
    },
    {
     "ename": "AttributeError",
     "evalue": "'Normalization' object has no attribute 'bias'",
     "output_type": "error",
     "traceback": [
      "\u001b[0;31m---------------------------------------------------------------------------\u001b[0m",
      "\u001b[0;31mAttributeError\u001b[0m                            Traceback (most recent call last)",
      "Input \u001b[0;32mIn [45]\u001b[0m, in \u001b[0;36m<cell line: 4>\u001b[0;34m()\u001b[0m\n\u001b[1;32m      2\u001b[0m     \u001b[38;5;28mprint\u001b[39m(layer\u001b[38;5;241m.\u001b[39mname, layer)\n\u001b[1;32m      3\u001b[0m \u001b[38;5;28mprint\u001b[39m(dnn_model\u001b[38;5;241m.\u001b[39mlayers[\u001b[38;5;241m0\u001b[39m]\u001b[38;5;241m.\u001b[39mweights)\n\u001b[0;32m----> 4\u001b[0m \u001b[38;5;28mprint\u001b[39m(\u001b[43mdnn_model\u001b[49m\u001b[38;5;241;43m.\u001b[39;49m\u001b[43mlayers\u001b[49m\u001b[43m[\u001b[49m\u001b[38;5;241;43m0\u001b[39;49m\u001b[43m]\u001b[49m\u001b[38;5;241;43m.\u001b[39;49m\u001b[43mbias\u001b[49m\u001b[38;5;241m.\u001b[39mnumpy())\n\u001b[1;32m      5\u001b[0m \u001b[38;5;28mprint\u001b[39m(dnn_model\u001b[38;5;241m.\u001b[39mlayers[\u001b[38;5;241m0\u001b[39m]\u001b[38;5;241m.\u001b[39mbias_initializer)\n",
      "\u001b[0;31mAttributeError\u001b[0m: 'Normalization' object has no attribute 'bias'"
     ]
    }
   ],
   "source": [
    "for layer in dnn_model.layers:\n",
    "    print(layer.name, layer)\n",
    "print(dnn_model.layers[0].weights)\n",
    "print(dnn_model.layers[0].bias.numpy())\n",
    "print(dnn_model.layers[0].bias_initializer)"
   ]
  },
  {
   "cell_type": "code",
   "execution_count": null,
   "id": "ba4b5814",
   "metadata": {},
   "outputs": [],
   "source": []
  }
 ],
 "metadata": {
  "kernelspec": {
   "display_name": "Python 3 (ipykernel)",
   "language": "python",
   "name": "python3"
  },
  "language_info": {
   "codemirror_mode": {
    "name": "ipython",
    "version": 3
   },
   "file_extension": ".py",
   "mimetype": "text/x-python",
   "name": "python",
   "nbconvert_exporter": "python",
   "pygments_lexer": "ipython3",
   "version": "3.9.10"
  }
 },
 "nbformat": 4,
 "nbformat_minor": 5
}
