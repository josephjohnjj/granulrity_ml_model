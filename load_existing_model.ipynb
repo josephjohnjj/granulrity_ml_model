{
 "cells": [
  {
   "cell_type": "code",
   "execution_count": 183,
   "id": "1876d245",
   "metadata": {},
   "outputs": [
    {
     "name": "stdout",
     "output_type": "stream",
     "text": [
      "2.8.0\n"
     ]
    }
   ],
   "source": [
    "import matplotlib.pyplot as plt\n",
    "import numpy as np\n",
    "import pandas as pd\n",
    "import seaborn as sns\n",
    "import os\n",
    "import glob\n",
    "\n",
    "import tensorflow as tf\n",
    "\n",
    "from tensorflow import keras\n",
    "from tensorflow.keras import layers\n",
    "#import tensorflow_decision_forests as tfdf\n",
    "\n",
    "print(tf.__version__)\n",
    "\n",
    "# Make NumPy printouts easier to read.\n",
    "np.set_printoptions(precision=3, suppress=True)"
   ]
  },
  {
   "cell_type": "markdown",
   "id": "64fe431e",
   "metadata": {},
   "source": [
    "### Club all the traces together into a single dataframe"
   ]
  },
  {
   "cell_type": "code",
   "execution_count": 184,
   "id": "4adecc06",
   "metadata": {},
   "outputs": [
    {
     "name": "stdout",
     "output_type": "stream",
     "text": [
      "./traces/dpotrf_T_800_N_20k-1.prof.h5\n",
      "./traces/dpotrf_T_800_N_20k-0.prof.h5\n",
      "./traces/dpotrf_T_200_N_20k-1.prof.h5\n",
      "./traces/dpotrf_T_200_N_20k-0.prof.h5\n",
      "./traces/dpotrf_T_400_N_20k-0.prof.h5\n",
      "./traces/dpotrf_T_400_N_20k-1.prof.h5\n"
     ]
    }
   ],
   "source": [
    "path = './traces/'# use your path\n",
    "#all_files = glob.glob(path + \"/*.h5\")\n",
    "all_files = glob.glob(path + \"/dpotrf_T_*_N_20k-*.prof.h5\")\n",
    "\n",
    "li = []\n",
    "\n",
    "for filename in all_files:\n",
    "    trace =  pd.HDFStore(filename)\n",
    "    data = trace.get('/events')\n",
    "    trace.close()\n",
    "    \n",
    "    li.append(data)\n",
    "    print(filename)\n",
    "\n",
    "df = pd.concat(li, axis=0, ignore_index=True)\n"
   ]
  },
  {
   "cell_type": "code",
   "execution_count": 185,
   "id": "a1f6924e",
   "metadata": {},
   "outputs": [
    {
     "name": "stdout",
     "output_type": "stream",
     "text": [
      "6\n"
     ]
    }
   ],
   "source": [
    "print(len(li))"
   ]
  },
  {
   "cell_type": "markdown",
   "id": "e8f0d6ba",
   "metadata": {},
   "source": [
    "# Clean the data"
   ]
  },
  {
   "cell_type": "code",
   "execution_count": 186,
   "id": "702d9c40",
   "metadata": {},
   "outputs": [],
   "source": [
    "for i in range(0, len(li)):\n",
    "    li[i] = li[i][['begin', 'end', 'taskpool_id', 'task_class_id','chore_id', 'nb_data_items', 'total_data_size', 'priority']].copy()\n",
    "    li[i]['exec_time'] = (li[i]['end'] - li[i]['begin']) * .001 #0.001 nano seconds to micro seconds\n",
    "    li[i] = li[i].astype(float)"
   ]
  },
  {
   "cell_type": "code",
   "execution_count": 187,
   "id": "dd301c4e",
   "metadata": {},
   "outputs": [],
   "source": [
    "df_class_name = {0: 'dpotrf', 1: 'dtrsm', 2: 'dsyrk', 3: 'dgemm'}"
   ]
  },
  {
   "cell_type": "code",
   "execution_count": 188,
   "id": "85b83021",
   "metadata": {},
   "outputs": [],
   "source": [
    "for i in range(0, len(li)):\n",
    "    filter = ( (li[i]['task_class_id'] >= 0 ) & ( li[i]['task_class_id'] <= 3 ) & ( li[i]['priority'] >= 0 ) )\n",
    "    #remove all other classes other than dpotrf, dgemm, trsm and syrk\n",
    "    li[i] = li[i][filter]\n",
    "    li[i].head()"
   ]
  },
  {
   "cell_type": "markdown",
   "id": "929c327c",
   "metadata": {},
   "source": [
    "## integrate likelihood of the data being in cash.\n",
    "we assume that all the task whose execution time is in the first quartile could have had all its data in the cache. While, the rest of the tasks would have resulted in a cache flush. While predicting we assume that the that the data of the task is not in the cache "
   ]
  },
  {
   "cell_type": "code",
   "execution_count": 189,
   "id": "4aea73e7",
   "metadata": {},
   "outputs": [
    {
     "data": {
      "text/html": [
       "<div>\n",
       "<style scoped>\n",
       "    .dataframe tbody tr th:only-of-type {\n",
       "        vertical-align: middle;\n",
       "    }\n",
       "\n",
       "    .dataframe tbody tr th {\n",
       "        vertical-align: top;\n",
       "    }\n",
       "\n",
       "    .dataframe thead th {\n",
       "        text-align: right;\n",
       "    }\n",
       "</style>\n",
       "<table border=\"1\" class=\"dataframe\">\n",
       "  <thead>\n",
       "    <tr style=\"text-align: right;\">\n",
       "      <th></th>\n",
       "      <th>begin</th>\n",
       "      <th>end</th>\n",
       "      <th>taskpool_id</th>\n",
       "      <th>task_class_id</th>\n",
       "      <th>chore_id</th>\n",
       "      <th>nb_data_items</th>\n",
       "      <th>total_data_size</th>\n",
       "      <th>priority</th>\n",
       "      <th>exec_time</th>\n",
       "    </tr>\n",
       "  </thead>\n",
       "  <tbody>\n",
       "    <tr>\n",
       "      <th>99</th>\n",
       "      <td>1.001649e+09</td>\n",
       "      <td>1.002551e+09</td>\n",
       "      <td>4.0</td>\n",
       "      <td>3.0</td>\n",
       "      <td>0.0</td>\n",
       "      <td>3.0</td>\n",
       "      <td>960000.0</td>\n",
       "      <td>859697.0</td>\n",
       "      <td>902.193</td>\n",
       "    </tr>\n",
       "    <tr>\n",
       "      <th>102</th>\n",
       "      <td>1.003796e+09</td>\n",
       "      <td>1.004417e+09</td>\n",
       "      <td>4.0</td>\n",
       "      <td>3.0</td>\n",
       "      <td>0.0</td>\n",
       "      <td>3.0</td>\n",
       "      <td>960000.0</td>\n",
       "      <td>498115.0</td>\n",
       "      <td>621.305</td>\n",
       "    </tr>\n",
       "    <tr>\n",
       "      <th>103</th>\n",
       "      <td>1.004439e+09</td>\n",
       "      <td>1.005048e+09</td>\n",
       "      <td>4.0</td>\n",
       "      <td>3.0</td>\n",
       "      <td>0.0</td>\n",
       "      <td>3.0</td>\n",
       "      <td>960000.0</td>\n",
       "      <td>501367.0</td>\n",
       "      <td>608.873</td>\n",
       "    </tr>\n",
       "    <tr>\n",
       "      <th>104</th>\n",
       "      <td>1.195731e+09</td>\n",
       "      <td>1.196432e+09</td>\n",
       "      <td>4.0</td>\n",
       "      <td>3.0</td>\n",
       "      <td>0.0</td>\n",
       "      <td>3.0</td>\n",
       "      <td>960000.0</td>\n",
       "      <td>496063.0</td>\n",
       "      <td>700.883</td>\n",
       "    </tr>\n",
       "    <tr>\n",
       "      <th>105</th>\n",
       "      <td>1.196456e+09</td>\n",
       "      <td>1.197024e+09</td>\n",
       "      <td>4.0</td>\n",
       "      <td>3.0</td>\n",
       "      <td>0.0</td>\n",
       "      <td>3.0</td>\n",
       "      <td>960000.0</td>\n",
       "      <td>494107.0</td>\n",
       "      <td>568.231</td>\n",
       "    </tr>\n",
       "  </tbody>\n",
       "</table>\n",
       "</div>"
      ],
      "text/plain": [
       "            begin           end  taskpool_id  task_class_id  chore_id  \\\n",
       "99   1.001649e+09  1.002551e+09          4.0            3.0       0.0   \n",
       "102  1.003796e+09  1.004417e+09          4.0            3.0       0.0   \n",
       "103  1.004439e+09  1.005048e+09          4.0            3.0       0.0   \n",
       "104  1.195731e+09  1.196432e+09          4.0            3.0       0.0   \n",
       "105  1.196456e+09  1.197024e+09          4.0            3.0       0.0   \n",
       "\n",
       "     nb_data_items  total_data_size  priority  exec_time  \n",
       "99             3.0         960000.0  859697.0    902.193  \n",
       "102            3.0         960000.0  498115.0    621.305  \n",
       "103            3.0         960000.0  501367.0    608.873  \n",
       "104            3.0         960000.0  496063.0    700.883  \n",
       "105            3.0         960000.0  494107.0    568.231  "
      ]
     },
     "execution_count": 189,
     "metadata": {},
     "output_type": "execute_result"
    }
   ],
   "source": [
    "li[2][li[2]['task_class_id'] == 3].head()"
   ]
  },
  {
   "cell_type": "markdown",
   "id": "4bf57685",
   "metadata": {},
   "source": [
    "## Load Models"
   ]
  },
  {
   "cell_type": "code",
   "execution_count": 190,
   "id": "2c8c0f8a",
   "metadata": {},
   "outputs": [],
   "source": [
    "new_LR_model = tf.keras.models.load_model('./LR_model_all_class')"
   ]
  },
  {
   "cell_type": "code",
   "execution_count": 191,
   "id": "c0c7e41c",
   "metadata": {},
   "outputs": [],
   "source": [
    "new_DNN_model = tf.keras.models.load_model('./DNN_all_class')"
   ]
  },
  {
   "cell_type": "code",
   "execution_count": 219,
   "id": "13ff1e88",
   "metadata": {},
   "outputs": [
    {
     "name": "stdout",
     "output_type": "stream",
     "text": [
      "Actual = 348.527 LR_predicted [[239.487]] DNN_predicted [[287.472]]\n",
      "----------------- Class 0 -------------------------- \n",
      "Min = 278.095\n",
      "Max = 24239.428\n",
      "Avg = 473.7791866666665\n",
      "Std = 1953.628900278608\n"
     ]
    }
   ],
   "source": [
    "# nb_data_items total_data_size priority cache_likelihood task_class_0.0 task_class_1.0 task_class_2.0 task_class_3.0\n",
    "\n",
    "LR_predicted = new_LR_model.predict([1.0, 320000.0, 804357.0, 0, 1, 0, 0, 0])\n",
    "DNN_predicted = new_DNN_model.predict([1.0, 320000.0, 1804357.0, 0, 1, 0, 0, 0])\n",
    "Actual = '348.527'\n",
    "print('Actual = ' + str(Actual) + ' LR_predicted ' + str(LR_predicted) + ' DNN_predicted ' + str(DNN_predicted))\n",
    "\n",
    "filter = (li[2]['task_class_id'] == 0 )\n",
    "df_0 = li[2][filter]\n",
    "print('----------------- Class 0 -------------------------- ')\n",
    "print('Min = ' + str(df_0['exec_time'].min()))\n",
    "print('Max = ' + str(df_0['exec_time'].max()))\n",
    "print('Avg = ' + str(sum(df_0['exec_time']) / len(df_0['exec_time'])))\n",
    "print('Std = ' + str(df_0['exec_time'].std()))\n",
    "\n"
   ]
  },
  {
   "cell_type": "code",
   "execution_count": 220,
   "id": "7f73ee8b",
   "metadata": {},
   "outputs": [
    {
     "data": {
      "text/plain": [
       "150"
      ]
     },
     "execution_count": 220,
     "metadata": {},
     "output_type": "execute_result"
    }
   ],
   "source": [
    "df_0.shape[0]"
   ]
  },
  {
   "cell_type": "code",
   "execution_count": 221,
   "id": "11839b5b",
   "metadata": {},
   "outputs": [],
   "source": [
    "Q1 = df_2['exec_time'].quantile(0.25)\n",
    "Q3 = df_2['exec_time'].quantile(0.75)\n",
    "IQR = Q3 - Q1    #IQR is interquartile range.\n",
    "filter = (df_2['exec_time'] >= Q1 - 1.5 * IQR) & (df_2['exec_time'] <= Q3 + 1.5 *IQR)\n",
    "df_2 = df_2.loc[filter]\n",
    "df_2 = df_2.astype(float)"
   ]
  },
  {
   "cell_type": "code",
   "execution_count": 222,
   "id": "506dd3ce",
   "metadata": {},
   "outputs": [
    {
     "name": "stdout",
     "output_type": "stream",
     "text": [
      "----------------- Class 0 -------------------------- \n",
      "Min = 278.095\n",
      "Max = 347.14300000000003\n",
      "Avg = 309.9780857142857\n",
      "Std = 12.77374295691325\n"
     ]
    }
   ],
   "source": [
    "print('----------------- Class 0 -------------------------- ')\n",
    "print('Min = ' + str(df_2['exec_time'].min()))\n",
    "print('Max = ' + str(df_2['exec_time'].max()))\n",
    "print('Avg = ' + str(sum(df_2['exec_time']) / len(df_2['exec_time'])))\n",
    "print('Std = ' + str(df_2['exec_time'].std()))"
   ]
  },
  {
   "cell_type": "code",
   "execution_count": 223,
   "id": "534c7ee2",
   "metadata": {},
   "outputs": [
    {
     "data": {
      "text/plain": [
       "140"
      ]
     },
     "execution_count": 223,
     "metadata": {},
     "output_type": "execute_result"
    }
   ],
   "source": [
    "df_2.shape[0]"
   ]
  },
  {
   "cell_type": "code",
   "execution_count": 175,
   "id": "6303fd90",
   "metadata": {},
   "outputs": [
    {
     "name": "stdout",
     "output_type": "stream",
     "text": [
      "150\n",
      "142\n"
     ]
    }
   ],
   "source": [
    "print(df_2.shape[0])\n",
    "d = 2 * df_2['exec_time'].min()\n",
    "print(df_2[df_2['exec_time'] < d]['exec_time'].count())"
   ]
  },
  {
   "cell_type": "code",
   "execution_count": 193,
   "id": "88b741a4",
   "metadata": {},
   "outputs": [
    {
     "data": {
      "text/plain": [
       "<seaborn.axisgrid.FacetGrid at 0x178f9beb0>"
      ]
     },
     "execution_count": 193,
     "metadata": {},
     "output_type": "execute_result"
    },
    {
     "data": {
      "image/png": "[encoded data removed]",
      "text/plain": [
       "<Figure size 443.125x360 with 1 Axes>"
      ]
     },
     "metadata": {
      "needs_background": "light"
     },
     "output_type": "display_data"
    }
   ],
   "source": [
    "sns.displot(df_2, x=\"exec_time\", hue='total_data_size', binwidth=100)"
   ]
  },
  {
   "cell_type": "code",
   "execution_count": 203,
   "id": "4421e599",
   "metadata": {},
   "outputs": [
    {
     "name": "stdout",
     "output_type": "stream",
     "text": [
      "Actual = 566.124 LR_predicted [[521.365]] DNN_predicted [[559.016]]\n",
      "----------------- Class 1 -------------------------- \n",
      "Min = 238.573\n",
      "Max = 152479.22400000002\n",
      "Avg = 1276.7201241496618\n",
      "Std = 5979.354687681714\n"
     ]
    }
   ],
   "source": [
    "# nb_data_items total_data_size priority cache_likelihood task_class_0.0 task_class_1.0 task_class_2.0 task_class_3.0\n",
    "\n",
    "LR_predicted = new_LR_model.predict([2.0, 640000.0, 128.0, 0, 0, 1, 0, 0])\n",
    "DNN_predicted = new_DNN_model.predict([2.0, 640000.0, 128.0, 0, 0, 1, 0, 0])\n",
    "Actual = '566.124'\n",
    "print('Actual = ' + str(Actual) + ' LR_predicted ' + str(LR_predicted) + ' DNN_predicted ' + str(DNN_predicted))\n",
    "\n",
    "filter = (li[2]['task_class_id'] == 1 )\n",
    "df_2 = li[2][filter]\n",
    "print('----------------- Class 1 -------------------------- ')\n",
    "print('Min = ' + str(df_2['exec_time'].min()))\n",
    "print('Max = ' + str(df_2['exec_time'].max()))\n",
    "print('Avg = ' + str(sum(df_2['exec_time']) / len(df_2['exec_time'])))\n",
    "print('Std = ' + str(df_2['exec_time'].std()))"
   ]
  },
  {
   "cell_type": "code",
   "execution_count": 204,
   "id": "354fd807",
   "metadata": {},
   "outputs": [
    {
     "data": {
      "text/plain": [
       "14700"
      ]
     },
     "execution_count": 204,
     "metadata": {},
     "output_type": "execute_result"
    }
   ],
   "source": [
    "df_2.shape[0]"
   ]
  },
  {
   "cell_type": "code",
   "execution_count": 205,
   "id": "699cde65",
   "metadata": {},
   "outputs": [],
   "source": [
    "Q1 = df_2['exec_time'].quantile(0.25)\n",
    "Q3 = df_2['exec_time'].quantile(0.75)\n",
    "IQR = Q3 - Q1    #IQR is interquartile range.\n",
    "filter = (df_2['exec_time'] >= Q1 - 1.5 * IQR) & (df_2['exec_time'] <= Q3 + 1.5 *IQR)\n",
    "df_2 = df_2.loc[filter]\n",
    "df_2 = df_2.astype(float)"
   ]
  },
  {
   "cell_type": "code",
   "execution_count": 207,
   "id": "5e51042f",
   "metadata": {},
   "outputs": [
    {
     "name": "stdout",
     "output_type": "stream",
     "text": [
      "----------------- Class 1 -------------------------- \n",
      "Min = 238.573\n",
      "Max = 987.001\n",
      "Avg = 452.0867731705602\n",
      "Std = 146.68064954906805\n"
     ]
    }
   ],
   "source": [
    "print('----------------- Class 1 -------------------------- ')\n",
    "print('Min = ' + str(df_2['exec_time'].min()))\n",
    "print('Max = ' + str(df_2['exec_time'].max()))\n",
    "print('Avg = ' + str(sum(df_2['exec_time']) / len(df_2['exec_time'])))\n",
    "print('Std = ' + str(df_2['exec_time'].std()))"
   ]
  },
  {
   "cell_type": "code",
   "execution_count": 206,
   "id": "1053994d",
   "metadata": {},
   "outputs": [
    {
     "data": {
      "text/plain": [
       "14253"
      ]
     },
     "execution_count": 206,
     "metadata": {},
     "output_type": "execute_result"
    }
   ],
   "source": [
    "df_2.shape[0]"
   ]
  },
  {
   "cell_type": "code",
   "execution_count": 177,
   "id": "a22dd173",
   "metadata": {},
   "outputs": [
    {
     "name": "stdout",
     "output_type": "stream",
     "text": [
      "14700\n",
      "6688\n"
     ]
    }
   ],
   "source": [
    "print(df_2.shape[0])\n",
    "d = 2 * df_2['exec_time'].min()\n",
    "print(df_2[df_2['exec_time'] < d]['exec_time'].count())"
   ]
  },
  {
   "cell_type": "code",
   "execution_count": 208,
   "id": "8548d83d",
   "metadata": {},
   "outputs": [
    {
     "name": "stdout",
     "output_type": "stream",
     "text": [
      "Actual = 410.847 LR_predicted [[460.452]] DNN_predicted [[420.474]]\n",
      "----------------- Class 2 -------------------------- \n",
      "Min = 182.93800000000002\n",
      "Max = 109926.806\n",
      "Avg = 1155.8401147712414\n",
      "Std = 5697.340110099745\n"
     ]
    }
   ],
   "source": [
    "# nb_data_items total_data_size priority cache_likelihood task_class_0.0 task_class_1.0 task_class_2.0 task_class_3.0\n",
    "\n",
    "LR_predicted = new_LR_model.predict([2.0, 640000.0, 45.0, 0, 0, 0, 1, 0])\n",
    "DNN_predicted = new_DNN_model.predict([2.0, 640000.0, 45.0, 0, 0, 0, 1, 0])\n",
    "Actual = '410.847'\n",
    "print('Actual = ' + str(Actual) + ' LR_predicted ' + str(LR_predicted) + ' DNN_predicted ' + str(DNN_predicted))\n",
    "\n",
    "filter = (li[2]['task_class_id'] == 2 )\n",
    "df_2 = li[2][filter]\n",
    "print('----------------- Class 2 -------------------------- ')\n",
    "print('Min = ' + str(df_2['exec_time'].min()))\n",
    "print('Max = ' + str(df_2['exec_time'].max()))\n",
    "print('Avg = ' + str(sum(df_2['exec_time']) / len(df_2['exec_time'])))\n",
    "print('Std = ' + str(df_2['exec_time'].std()))"
   ]
  },
  {
   "cell_type": "code",
   "execution_count": 209,
   "id": "4cd06162",
   "metadata": {},
   "outputs": [
    {
     "data": {
      "text/plain": [
       "7650"
      ]
     },
     "execution_count": 209,
     "metadata": {},
     "output_type": "execute_result"
    }
   ],
   "source": [
    "df_2.shape[0]"
   ]
  },
  {
   "cell_type": "code",
   "execution_count": 210,
   "id": "823c5190",
   "metadata": {},
   "outputs": [],
   "source": [
    "Q1 = df_2['exec_time'].quantile(0.25)\n",
    "Q3 = df_2['exec_time'].quantile(0.75)\n",
    "IQR = Q3 - Q1    #IQR is interquartile range.\n",
    "filter = (df_2['exec_time'] >= Q1 - 1.5 * IQR) & (df_2['exec_time'] <= Q3 + 1.5 *IQR)\n",
    "df_2 = df_2.loc[filter]\n",
    "df_2 = df_2.astype(float)"
   ]
  },
  {
   "cell_type": "code",
   "execution_count": 211,
   "id": "34c89a74",
   "metadata": {},
   "outputs": [
    {
     "name": "stdout",
     "output_type": "stream",
     "text": [
      "----------------- Class 2 -------------------------- \n",
      "Min = 347.009\n",
      "Max = 555.693\n",
      "Avg = 426.7649801966291\n",
      "Std = 42.74894478968878\n"
     ]
    }
   ],
   "source": [
    "print('----------------- Class 2 -------------------------- ')\n",
    "print('Min = ' + str(df_2['exec_time'].min()))\n",
    "print('Max = ' + str(df_2['exec_time'].max()))\n",
    "print('Avg = ' + str(sum(df_2['exec_time']) / len(df_2['exec_time'])))\n",
    "print('Std = ' + str(df_2['exec_time'].std()))"
   ]
  },
  {
   "cell_type": "code",
   "execution_count": 212,
   "id": "8be1d99e",
   "metadata": {},
   "outputs": [
    {
     "data": {
      "text/plain": [
       "7120"
      ]
     },
     "execution_count": 212,
     "metadata": {},
     "output_type": "execute_result"
    }
   ],
   "source": [
    "df_2.shape[0]"
   ]
  },
  {
   "cell_type": "code",
   "execution_count": 179,
   "id": "a8c14104",
   "metadata": {},
   "outputs": [
    {
     "name": "stdout",
     "output_type": "stream",
     "text": [
      "7650\n",
      "7285\n"
     ]
    }
   ],
   "source": [
    "print(df_2.shape[0])\n",
    "d = sum(df_2['exec_time']) / len(df_2['exec_time'])\n",
    "print(df_2[df_2['exec_time'] < d]['exec_time'].count())"
   ]
  },
  {
   "cell_type": "code",
   "execution_count": 213,
   "id": "c4680e41",
   "metadata": {},
   "outputs": [
    {
     "name": "stdout",
     "output_type": "stream",
     "text": [
      "Actual = 582.046 LR_predicted [[672.263]] DNN_predicted [[1106.801]]\n",
      "----------------- Class 3 -------------------------- \n",
      "Min = 484.444\n",
      "Max = 202825.411\n",
      "Avg = 1789.8751550896923\n",
      "Std = 7376.083249413018\n"
     ]
    }
   ],
   "source": [
    "# nb_data_items total_data_size priority cache_likelihood task_class_0.0 task_class_1.0 task_class_2.0 task_class_3.0\n",
    "\n",
    "LR_predicted = new_LR_model.predict([3.0, 960000.0, 729588.0, 0, 0, 0, 0, 1])\n",
    "DNN_predicted = new_DNN_model.predict([3.0, 960000.0, 729588.0, 0, 0, 0, 0, 1])\n",
    "Actual = '582.046'\n",
    "print('Actual = ' + str(Actual) + ' LR_predicted ' + str(LR_predicted) + ' DNN_predicted ' + str(DNN_predicted))\n",
    "\n",
    "filter = (li[2]['task_class_id'] == 3 )\n",
    "df_2 = li[2][filter]\n",
    "print('----------------- Class 3 -------------------------- ')\n",
    "print('Min = ' + str(df_2['exec_time'].min()))\n",
    "print('Max = ' + str(df_2['exec_time'].max()))\n",
    "print('Avg = ' + str(sum(df_2['exec_time']) / len(df_2['exec_time'])))\n",
    "print('Std = ' + str(df_2['exec_time'].std()))\n",
    "\n"
   ]
  },
  {
   "cell_type": "code",
   "execution_count": 214,
   "id": "d3eef2c5",
   "metadata": {},
   "outputs": [
    {
     "data": {
      "text/plain": [
       "242550"
      ]
     },
     "execution_count": 214,
     "metadata": {},
     "output_type": "execute_result"
    }
   ],
   "source": [
    "df_2.shape[0]"
   ]
  },
  {
   "cell_type": "code",
   "execution_count": 215,
   "id": "3cfe8fe3",
   "metadata": {},
   "outputs": [],
   "source": [
    "Q1 = df_2['exec_time'].quantile(0.25)\n",
    "Q3 = df_2['exec_time'].quantile(0.75)\n",
    "IQR = Q3 - Q1    #IQR is interquartile range.\n",
    "filter = (df_2['exec_time'] >= Q1 - 1.5 * IQR) & (df_2['exec_time'] <= Q3 + 1.5 *IQR)\n",
    "df_2 = df_2.loc[filter]\n",
    "df_2 = df_2.astype(float)"
   ]
  },
  {
   "cell_type": "code",
   "execution_count": 217,
   "id": "582de8e3",
   "metadata": {},
   "outputs": [
    {
     "data": {
      "text/plain": [
       "227315"
      ]
     },
     "execution_count": 217,
     "metadata": {},
     "output_type": "execute_result"
    }
   ],
   "source": [
    "df_2.shape[0]"
   ]
  },
  {
   "cell_type": "code",
   "execution_count": 216,
   "id": "24181b66",
   "metadata": {},
   "outputs": [
    {
     "name": "stdout",
     "output_type": "stream",
     "text": [
      "----------------- Class 3 -------------------------- \n",
      "Min = 484.444\n",
      "Max = 725.594\n",
      "Avg = 589.538922785566\n",
      "Std = 44.93857101013236\n"
     ]
    }
   ],
   "source": [
    "print('----------------- Class 3 -------------------------- ')\n",
    "print('Min = ' + str(df_2['exec_time'].min()))\n",
    "print('Max = ' + str(df_2['exec_time'].max()))\n",
    "print('Avg = ' + str(sum(df_2['exec_time']) / len(df_2['exec_time'])))\n",
    "print('Std = ' + str(df_2['exec_time'].std()))"
   ]
  },
  {
   "cell_type": "code",
   "execution_count": 218,
   "id": "b980801a",
   "metadata": {},
   "outputs": [
    {
     "data": {
      "text/plain": [
       "<AxesSubplot:>"
      ]
     },
     "execution_count": 218,
     "metadata": {},
     "output_type": "execute_result"
    },
    {
     "data": {
      "image/png": "[encoded data removed]",
      "text/plain": [
       "<Figure size 432x288 with 1 Axes>"
      ]
     },
     "metadata": {
      "needs_background": "light"
     },
     "output_type": "display_data"
    }
   ],
   "source": [
    "df_2.plot(y='exec_time', use_index=True)"
   ]
  },
  {
   "cell_type": "code",
   "execution_count": 181,
   "id": "6a4f892e",
   "metadata": {},
   "outputs": [
    {
     "name": "stdout",
     "output_type": "stream",
     "text": [
      "242550\n",
      "227160\n"
     ]
    }
   ],
   "source": [
    "print(df_2.shape[0])\n",
    "d = sum(df_2['exec_time']) / len(df_2['exec_time'])\n",
    "print(df_2[df_2['exec_time'] < d]['exec_time'].count())"
   ]
  },
  {
   "cell_type": "code",
   "execution_count": null,
   "id": "f9f6b841",
   "metadata": {},
   "outputs": [],
   "source": []
  }
 ],
 "metadata": {
  "kernelspec": {
   "display_name": "Python 3 (ipykernel)",
   "language": "python",
   "name": "python3"
  },
  "language_info": {
   "codemirror_mode": {
    "name": "ipython",
    "version": 3
   },
   "file_extension": ".py",
   "mimetype": "text/x-python",
   "name": "python",
   "nbconvert_exporter": "python",
   "pygments_lexer": "ipython3",
   "version": "3.9.10"
  }
 },
 "nbformat": 4,
 "nbformat_minor": 5
}
