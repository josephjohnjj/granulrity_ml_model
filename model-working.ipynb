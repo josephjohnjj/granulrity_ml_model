{
 "cells": [
  {
   "cell_type": "code",
   "execution_count": 1,
   "id": "1876d245",
   "metadata": {},
   "outputs": [
    {
     "name": "stdout",
     "output_type": "stream",
     "text": [
      "2.8.0\n"
     ]
    }
   ],
   "source": [
    "import matplotlib.pyplot as plt\n",
    "import numpy as np\n",
    "import pandas as pd\n",
    "import seaborn as sns\n",
    "import itertools\n",
    "\n",
    "import tensorflow as tf\n",
    "\n",
    "from tensorflow import keras\n",
    "from tensorflow.keras import layers\n",
    "\n",
    "print(tf.__version__)\n",
    "\n",
    "# Make NumPy printouts easier to read.\n",
    "np.set_printoptions(precision=3, suppress=True)"
   ]
  },
  {
   "cell_type": "code",
   "execution_count": 2,
   "id": "c73942ac",
   "metadata": {},
   "outputs": [
    {
     "data": {
      "text/html": [
       "<div>\n",
       "<style scoped>\n",
       "    .dataframe tbody tr th:only-of-type {\n",
       "        vertical-align: middle;\n",
       "    }\n",
       "\n",
       "    .dataframe tbody tr th {\n",
       "        vertical-align: top;\n",
       "    }\n",
       "\n",
       "    .dataframe thead th {\n",
       "        text-align: right;\n",
       "    }\n",
       "</style>\n",
       "<table border=\"1\" class=\"dataframe\">\n",
       "  <thead>\n",
       "    <tr style=\"text-align: right;\">\n",
       "      <th></th>\n",
       "      <th>type</th>\n",
       "      <th>nb_data_items</th>\n",
       "      <th>stream_id</th>\n",
       "      <th>taskpool_id</th>\n",
       "      <th>total_data_size</th>\n",
       "      <th>begin</th>\n",
       "      <th>task_class_id</th>\n",
       "      <th>id</th>\n",
       "      <th>end</th>\n",
       "      <th>flags</th>\n",
       "      <th>chore_id</th>\n",
       "      <th>node_id</th>\n",
       "      <th>priority</th>\n",
       "    </tr>\n",
       "  </thead>\n",
       "  <tbody>\n",
       "    <tr>\n",
       "      <th>0</th>\n",
       "      <td>3</td>\n",
       "      <td>0</td>\n",
       "      <td>0</td>\n",
       "      <td>2</td>\n",
       "      <td>0</td>\n",
       "      <td>320456</td>\n",
       "      <td>1</td>\n",
       "      <td>0</td>\n",
       "      <td>340988</td>\n",
       "      <td>1</td>\n",
       "      <td>0</td>\n",
       "      <td>0</td>\n",
       "      <td>-1</td>\n",
       "    </tr>\n",
       "    <tr>\n",
       "      <th>1</th>\n",
       "      <td>3</td>\n",
       "      <td>1</td>\n",
       "      <td>0</td>\n",
       "      <td>2</td>\n",
       "      <td>4</td>\n",
       "      <td>360547</td>\n",
       "      <td>0</td>\n",
       "      <td>0</td>\n",
       "      <td>376960</td>\n",
       "      <td>1</td>\n",
       "      <td>0</td>\n",
       "      <td>0</td>\n",
       "      <td>0</td>\n",
       "    </tr>\n",
       "    <tr>\n",
       "      <th>2</th>\n",
       "      <td>3</td>\n",
       "      <td>1</td>\n",
       "      <td>0</td>\n",
       "      <td>2</td>\n",
       "      <td>4</td>\n",
       "      <td>410859</td>\n",
       "      <td>0</td>\n",
       "      <td>1</td>\n",
       "      <td>421818</td>\n",
       "      <td>1</td>\n",
       "      <td>0</td>\n",
       "      <td>0</td>\n",
       "      <td>0</td>\n",
       "    </tr>\n",
       "    <tr>\n",
       "      <th>3</th>\n",
       "      <td>3</td>\n",
       "      <td>1</td>\n",
       "      <td>0</td>\n",
       "      <td>2</td>\n",
       "      <td>4</td>\n",
       "      <td>431244</td>\n",
       "      <td>0</td>\n",
       "      <td>2</td>\n",
       "      <td>438438</td>\n",
       "      <td>1</td>\n",
       "      <td>0</td>\n",
       "      <td>0</td>\n",
       "      <td>0</td>\n",
       "    </tr>\n",
       "    <tr>\n",
       "      <th>4</th>\n",
       "      <td>3</td>\n",
       "      <td>1</td>\n",
       "      <td>0</td>\n",
       "      <td>2</td>\n",
       "      <td>4</td>\n",
       "      <td>445088</td>\n",
       "      <td>0</td>\n",
       "      <td>3</td>\n",
       "      <td>451921</td>\n",
       "      <td>1</td>\n",
       "      <td>0</td>\n",
       "      <td>0</td>\n",
       "      <td>0</td>\n",
       "    </tr>\n",
       "  </tbody>\n",
       "</table>\n",
       "</div>"
      ],
      "text/plain": [
       "  type nb_data_items stream_id taskpool_id total_data_size   begin  \\\n",
       "0    3             0         0           2               0  320456   \n",
       "1    3             1         0           2               4  360547   \n",
       "2    3             1         0           2               4  410859   \n",
       "3    3             1         0           2               4  431244   \n",
       "4    3             1         0           2               4  445088   \n",
       "\n",
       "  task_class_id id     end flags chore_id node_id priority  \n",
       "0             1  0  340988     1        0       0       -1  \n",
       "1             0  0  376960     1        0       0        0  \n",
       "2             0  1  421818     1        0       0        0  \n",
       "3             0  2  438438     1        0       0        0  \n",
       "4             0  3  451921     1        0       0        0  "
      ]
     },
     "execution_count": 2,
     "metadata": {},
     "output_type": "execute_result"
    }
   ],
   "source": [
    "#trace = pd.HDFStore(\"test_profile_output-0.prof.h5\") \n",
    "trace = pd.HDFStore(\"dpotrf-0.prof.h5\")\n",
    "data = trace.get('/events')\n",
    "trace.close()\n",
    "data.head()"
   ]
  },
  {
   "cell_type": "code",
   "execution_count": 33,
   "id": "702d9c40",
   "metadata": {},
   "outputs": [
    {
     "data": {
      "text/html": [
       "<div>\n",
       "<style scoped>\n",
       "    .dataframe tbody tr th:only-of-type {\n",
       "        vertical-align: middle;\n",
       "    }\n",
       "\n",
       "    .dataframe tbody tr th {\n",
       "        vertical-align: top;\n",
       "    }\n",
       "\n",
       "    .dataframe thead th {\n",
       "        text-align: right;\n",
       "    }\n",
       "</style>\n",
       "<table border=\"1\" class=\"dataframe\">\n",
       "  <thead>\n",
       "    <tr style=\"text-align: right;\">\n",
       "      <th></th>\n",
       "      <th>begin</th>\n",
       "      <th>end</th>\n",
       "      <th>taskpool_id</th>\n",
       "      <th>task_class_id</th>\n",
       "      <th>chore_id</th>\n",
       "      <th>nb_data_items</th>\n",
       "      <th>total_data_size</th>\n",
       "      <th>priority</th>\n",
       "      <th>exec_time</th>\n",
       "    </tr>\n",
       "  </thead>\n",
       "  <tbody>\n",
       "    <tr>\n",
       "      <th>1</th>\n",
       "      <td>360547.0</td>\n",
       "      <td>376960.0</td>\n",
       "      <td>2.0</td>\n",
       "      <td>0.0</td>\n",
       "      <td>0.0</td>\n",
       "      <td>1.0</td>\n",
       "      <td>4.0</td>\n",
       "      <td>0.0</td>\n",
       "      <td>16413.0</td>\n",
       "    </tr>\n",
       "    <tr>\n",
       "      <th>2</th>\n",
       "      <td>410859.0</td>\n",
       "      <td>421818.0</td>\n",
       "      <td>2.0</td>\n",
       "      <td>0.0</td>\n",
       "      <td>0.0</td>\n",
       "      <td>1.0</td>\n",
       "      <td>4.0</td>\n",
       "      <td>0.0</td>\n",
       "      <td>10959.0</td>\n",
       "    </tr>\n",
       "    <tr>\n",
       "      <th>3</th>\n",
       "      <td>431244.0</td>\n",
       "      <td>438438.0</td>\n",
       "      <td>2.0</td>\n",
       "      <td>0.0</td>\n",
       "      <td>0.0</td>\n",
       "      <td>1.0</td>\n",
       "      <td>4.0</td>\n",
       "      <td>0.0</td>\n",
       "      <td>7194.0</td>\n",
       "    </tr>\n",
       "    <tr>\n",
       "      <th>4</th>\n",
       "      <td>445088.0</td>\n",
       "      <td>451921.0</td>\n",
       "      <td>2.0</td>\n",
       "      <td>0.0</td>\n",
       "      <td>0.0</td>\n",
       "      <td>1.0</td>\n",
       "      <td>4.0</td>\n",
       "      <td>0.0</td>\n",
       "      <td>6833.0</td>\n",
       "    </tr>\n",
       "    <tr>\n",
       "      <th>5</th>\n",
       "      <td>458143.0</td>\n",
       "      <td>465029.0</td>\n",
       "      <td>2.0</td>\n",
       "      <td>0.0</td>\n",
       "      <td>0.0</td>\n",
       "      <td>1.0</td>\n",
       "      <td>4.0</td>\n",
       "      <td>0.0</td>\n",
       "      <td>6886.0</td>\n",
       "    </tr>\n",
       "  </tbody>\n",
       "</table>\n",
       "</div>"
      ],
      "text/plain": [
       "      begin       end  taskpool_id  task_class_id  chore_id  nb_data_items  \\\n",
       "1  360547.0  376960.0          2.0            0.0       0.0            1.0   \n",
       "2  410859.0  421818.0          2.0            0.0       0.0            1.0   \n",
       "3  431244.0  438438.0          2.0            0.0       0.0            1.0   \n",
       "4  445088.0  451921.0          2.0            0.0       0.0            1.0   \n",
       "5  458143.0  465029.0          2.0            0.0       0.0            1.0   \n",
       "\n",
       "   total_data_size  priority  exec_time  \n",
       "1              4.0       0.0    16413.0  \n",
       "2              4.0       0.0    10959.0  \n",
       "3              4.0       0.0     7194.0  \n",
       "4              4.0       0.0     6833.0  \n",
       "5              4.0       0.0     6886.0  "
      ]
     },
     "execution_count": 33,
     "metadata": {},
     "output_type": "execute_result"
    }
   ],
   "source": [
    "data_refined = data[['begin', 'end', 'taskpool_id', 'task_class_id','chore_id', 'nb_data_items', 'total_data_size', 'priority']].copy()\n",
    "data_refined['exec_time'] = data['end'] - data['begin']\n",
    "data_refined = data_refined[data_refined.priority > -1]\n",
    "data_refined = data_refined.astype(float)\n",
    "data_refined.head()"
   ]
  },
  {
   "cell_type": "code",
   "execution_count": 41,
   "id": "8d05c8ed",
   "metadata": {},
   "outputs": [],
   "source": [
    "train_dataset = data_refined.sample(frac=0.8, random_state=0)\n",
    "test_dataset = data_refined.drop(train_dataset.index)"
   ]
  },
  {
   "cell_type": "code",
   "execution_count": 42,
   "id": "72450023",
   "metadata": {},
   "outputs": [],
   "source": [
    "COLUMNS = ['begin', 'end', 'taskpool_id', 'task_class_id','chore_id', 'nb_data_items', 'total_data_size', 'priority', 'exec_time']\n",
    "FEATURES = ['begin', 'end', 'taskpool_id', 'task_class_id','chore_id', 'nb_data_items', 'total_data_size', 'priority']\n",
    "LABEL = 'exec_time'"
   ]
  },
  {
   "cell_type": "code",
   "execution_count": 43,
   "id": "e6174d94",
   "metadata": {},
   "outputs": [],
   "source": [
    "feature_cols = [tf.feature_column.numeric_column(k) for k in FEATURES]"
   ]
  },
  {
   "cell_type": "code",
   "execution_count": 36,
   "id": "41348ee7",
   "metadata": {},
   "outputs": [
    {
     "name": "stdout",
     "output_type": "stream",
     "text": [
      "INFO:tensorflow:Using default config.\n",
      "INFO:tensorflow:Using config: {'_model_dir': 'train', '_tf_random_seed': None, '_save_summary_steps': 100, '_save_checkpoints_steps': None, '_save_checkpoints_secs': 600, '_session_config': allow_soft_placement: true\n",
      "graph_options {\n",
      "  rewrite_options {\n",
      "    meta_optimizer_iterations: ONE\n",
      "  }\n",
      "}\n",
      ", '_keep_checkpoint_max': 5, '_keep_checkpoint_every_n_hours': 10000, '_log_step_count_steps': 100, '_train_distribute': None, '_device_fn': None, '_protocol': None, '_eval_distribute': None, '_experimental_distribute': None, '_experimental_max_worker_delay_secs': None, '_session_creation_timeout_secs': 7200, '_checkpoint_save_graph_def': True, '_service': None, '_cluster_spec': ClusterSpec({}), '_task_type': 'worker', '_task_id': 0, '_global_id_in_cluster': 0, '_master': '', '_evaluation_master': '', '_is_chief': True, '_num_ps_replicas': 0, '_num_worker_replicas': 1}\n"
     ]
    }
   ],
   "source": [
    "estimator = tf.estimator.LinearRegressor(    \n",
    "        feature_columns=feature_cols,   \n",
    "        model_dir=\"train\")"
   ]
  },
  {
   "cell_type": "code",
   "execution_count": 44,
   "id": "1fb794de",
   "metadata": {},
   "outputs": [],
   "source": [
    "def get_input_fn(data_set, num_epochs=None, n_batch = 128, shuffle=True):    \n",
    "         return tf.compat.v1.estimator.inputs.pandas_input_fn(       \n",
    "         x=pd.DataFrame({k: data_set[k].values for k in FEATURES}),       \n",
    "         y = pd.Series(data_set[LABEL].values),       \n",
    "         batch_size=n_batch,          \n",
    "         num_epochs=num_epochs,       \n",
    "         shuffle=shuffle)"
   ]
  },
  {
   "cell_type": "code",
   "execution_count": 50,
   "id": "829cf9dc",
   "metadata": {},
   "outputs": [
    {
     "name": "stdout",
     "output_type": "stream",
     "text": [
      "INFO:tensorflow:Calling model_fn.\n"
     ]
    },
    {
     "name": "stderr",
     "output_type": "stream",
     "text": [
      "/usr/local/lib/python3.9/site-packages/tensorflow_estimator/python/estimator/canned/linear.py:1468: UserWarning: `layer.add_variable` is deprecated and will be removed in a future version. Please use `layer.add_weight` method instead.\n",
      "  self.bias = self.add_variable(\n"
     ]
    },
    {
     "name": "stdout",
     "output_type": "stream",
     "text": [
      "INFO:tensorflow:Done calling model_fn.\n",
      "INFO:tensorflow:Create CheckpointSaverHook.\n",
      "INFO:tensorflow:Graph was finalized.\n",
      "INFO:tensorflow:Restoring parameters from train/model.ckpt-2000\n",
      "INFO:tensorflow:Running local_init_op.\n",
      "INFO:tensorflow:Done running local_init_op.\n",
      "INFO:tensorflow:Calling checkpoint listeners before saving checkpoint 2000...\n",
      "INFO:tensorflow:Saving checkpoints for 2000 into train/model.ckpt.\n",
      "INFO:tensorflow:Calling checkpoint listeners after saving checkpoint 2000...\n",
      "INFO:tensorflow:loss = 4384502.5, step = 2000\n",
      "INFO:tensorflow:global_step/sec: 350.102\n",
      "INFO:tensorflow:loss = 39223770.0, step = 2100 (0.288 sec)\n",
      "INFO:tensorflow:global_step/sec: 496.175\n",
      "INFO:tensorflow:loss = 8852368.0, step = 2200 (0.202 sec)\n",
      "INFO:tensorflow:global_step/sec: 421.823\n",
      "INFO:tensorflow:loss = 34489340.0, step = 2300 (0.237 sec)\n",
      "INFO:tensorflow:global_step/sec: 562.521\n",
      "INFO:tensorflow:loss = 28002490.0, step = 2400 (0.180 sec)\n",
      "INFO:tensorflow:global_step/sec: 477.726\n",
      "INFO:tensorflow:loss = 12809058.0, step = 2500 (0.206 sec)\n",
      "INFO:tensorflow:global_step/sec: 492.708\n",
      "INFO:tensorflow:loss = 32222678.0, step = 2600 (0.204 sec)\n",
      "INFO:tensorflow:global_step/sec: 510.253\n",
      "INFO:tensorflow:loss = 16417158.0, step = 2700 (0.195 sec)\n",
      "INFO:tensorflow:global_step/sec: 503.302\n",
      "INFO:tensorflow:loss = 36408660.0, step = 2800 (0.198 sec)\n",
      "INFO:tensorflow:global_step/sec: 587.852\n",
      "INFO:tensorflow:loss = 12959134.0, step = 2900 (0.171 sec)\n",
      "INFO:tensorflow:Calling checkpoint listeners before saving checkpoint 3000...\n",
      "INFO:tensorflow:Saving checkpoints for 3000 into train/model.ckpt.\n",
      "INFO:tensorflow:Calling checkpoint listeners after saving checkpoint 3000...\n",
      "INFO:tensorflow:Loss for final step: 12872819.0.\n"
     ]
    },
    {
     "data": {
      "text/plain": [
       "<tensorflow_estimator.python.estimator.canned.linear.LinearRegressorV2 at 0x158e73bb0>"
      ]
     },
     "execution_count": 50,
     "metadata": {},
     "output_type": "execute_result"
    }
   ],
   "source": [
    "estimator.train(input_fn=get_input_fn(train_dataset, num_epochs=None, n_batch = 5, shuffle=False),steps=1000)"
   ]
  },
  {
   "cell_type": "code",
   "execution_count": 51,
   "id": "b91027b0",
   "metadata": {},
   "outputs": [
    {
     "name": "stdout",
     "output_type": "stream",
     "text": [
      "INFO:tensorflow:Calling model_fn.\n"
     ]
    },
    {
     "name": "stderr",
     "output_type": "stream",
     "text": [
      "/usr/local/lib/python3.9/site-packages/tensorflow_estimator/python/estimator/canned/linear.py:1468: UserWarning: `layer.add_variable` is deprecated and will be removed in a future version. Please use `layer.add_weight` method instead.\n",
      "  self.bias = self.add_variable(\n"
     ]
    },
    {
     "name": "stdout",
     "output_type": "stream",
     "text": [
      "INFO:tensorflow:Done calling model_fn.\n",
      "INFO:tensorflow:Starting evaluation at 2022-04-01T16:53:08\n",
      "INFO:tensorflow:Graph was finalized.\n",
      "INFO:tensorflow:Restoring parameters from train/model.ckpt-3000\n",
      "INFO:tensorflow:Running local_init_op.\n",
      "INFO:tensorflow:Done running local_init_op.\n",
      "INFO:tensorflow:Inference Time : 0.43205s\n",
      "INFO:tensorflow:Finished evaluation at 2022-04-01-16:53:09\n",
      "INFO:tensorflow:Saving dict for global step 3000: average_loss = 2791265.2, global_step = 3000, label/mean = 8168.0, loss = 2791265.2, prediction/mean = 9838.708\n",
      "INFO:tensorflow:Saving 'checkpoint_path' summary for global step 3000: train/model.ckpt-3000\n"
     ]
    }
   ],
   "source": [
    "ev = estimator.evaluate(input_fn=get_input_fn(test_dataset, num_epochs=1, n_batch = 128, shuffle=False))"
   ]
  },
  {
   "cell_type": "code",
   "execution_count": 52,
   "id": "7128204e",
   "metadata": {},
   "outputs": [
    {
     "name": "stdout",
     "output_type": "stream",
     "text": [
      "Loss: 2791265.250000\n"
     ]
    }
   ],
   "source": [
    "loss_score = ev[\"loss\"]\n",
    "print(\"Loss: {0:f}\".format(loss_score))"
   ]
  },
  {
   "cell_type": "code",
   "execution_count": 53,
   "id": "7c0b89e7",
   "metadata": {},
   "outputs": [
    {
     "data": {
      "text/plain": [
       "count        9.000000\n",
       "mean     12339.333333\n",
       "std       6088.453827\n",
       "min       6833.000000\n",
       "25%       7194.000000\n",
       "50%      10959.000000\n",
       "75%      15128.000000\n",
       "max      24457.000000\n",
       "Name: exec_time, dtype: float64"
      ]
     },
     "execution_count": 53,
     "metadata": {},
     "output_type": "execute_result"
    }
   ],
   "source": [
    "train_dataset['exec_time'].describe()"
   ]
  },
  {
   "cell_type": "code",
   "execution_count": 40,
   "id": "1803c651",
   "metadata": {},
   "outputs": [],
   "source": [
    "#y = estimator.predict(input_fn=get_input_fn(prediction_set, num_epochs=1, n_batch = 128, shuffle=False))"
   ]
  },
  {
   "cell_type": "code",
   "execution_count": null,
   "id": "16e0baca",
   "metadata": {},
   "outputs": [],
   "source": []
  }
 ],
 "metadata": {
  "kernelspec": {
   "display_name": "Python 3 (ipykernel)",
   "language": "python",
   "name": "python3"
  },
  "language_info": {
   "codemirror_mode": {
    "name": "ipython",
    "version": 3
   },
   "file_extension": ".py",
   "mimetype": "text/x-python",
   "name": "python",
   "nbconvert_exporter": "python",
   "pygments_lexer": "ipython3",
   "version": "3.9.10"
  }
 },
 "nbformat": 4,
 "nbformat_minor": 5
}
